{
 "cells": [
  {
   "cell_type": "markdown",
   "id": "bf3611ca",
   "metadata": {},
   "source": [
    "<div style=\"border:solid green 2px; padding: 20px\">\n",
    "    \n",
    "<b>Hello, Marina!</b> We're glad to see you in code-reviewer territory. You've done a great job on the project, but let's get to know each other and make it even better! We have our own atmosphere here and a few rules:\n",
    "\n",
    "\n",
    "1. I work as a code reviewer, and my main goal is not to point out your mistakes, but to share my experience and help you become a data analyst.\n",
    "2. We speak on a first-come-first-served basis.\n",
    "3. if you want to write or ask a question, don't be shy. Just choose your color for your comment.  \n",
    "4. this is a training project, you don't have to be afraid of making a mistake.  \n",
    "5. You have an unlimited number of attempts to pass the project.  \n",
    "6. Let's Go!\n",
    "\n",
    "\n",
    "---\n",
    "I'll be color-coding comments, please don't delete them:\n",
    "\n",
    "<div class=\"alert alert-block alert-danger\">✍\n",
    "    \n",
    "\n",
    "__Reviewer's comment №1__\n",
    "\n",
    "Needs fixing. The block requires some corrections. Work can't be accepted with the red comments.\n",
    "</div>\n",
    "    \n",
    "---\n",
    "\n",
    "<div class=\"alert alert-block alert-warning\">📝\n",
    "    \n",
    "\n",
    "__Reviewer's comment №1__\n",
    "\n",
    "\n",
    "Remarks. Some recommendations.\n",
    "</div>\n",
    "\n",
    "---\n",
    "\n",
    "<div class=\"alert alert-block alert-success\">✔️\n",
    "    \n",
    "\n",
    "__Reviewer's comment №1__\n",
    "\n",
    "Success. Everything is done succesfully.\n",
    "</div>\n",
    "    \n",
    "---\n",
    "    \n",
    "I suggest that we work on the project in dialogue: if you change something in the project or respond to my comments, write about it. It will be easier for me to track changes if you highlight your comments:   \n",
    "    \n",
    "<div class=\"alert alert-info\"> <b>Student сomments:</b> Student answer..</div>\n",
    "    \n",
    "All this will help to make the recheck of your project faster. If you have any questions about my comments, let me know, we'll figure it out together :)   \n",
    "    \n",
    "---"
   ]
  },
  {
   "cell_type": "markdown",
   "id": "ce8305f4-9d01-4a7d-9f65-9e49d5388256",
   "metadata": {},
   "source": [
    "# Project: A/B Testing and Hypothesis Prioritization for an Online Store\n",
    "\n",
    "## Project Description\n",
    "As a data analyst at a large online store, the task is to evaluate and prioritize hypotheses that could potentially boost revenug\n",
    "isions.\n",
    "\n",
    "The project consists of two main parts:\n",
    "1. Hypothesis Prioritization\n",
    "2. A/B Test Analysis\n",
    "\n",
    "## Dataset Description\n",
    "The project uses three datasets:\n",
    "\n",
    "### Part 1: Hypothesis Prioritization\n",
    "**`hypotheses_us.csv`** – Contains the list of hypotheses and their scores based on:\n",
    "- `Reach` – Estimated user reach (1 to 10).\n",
    "- `Impact` – Expected impact on users (1 to 10).\n",
    "- `Confidence` – Confidence in the hypothesis (1 to 10).\n",
    "- `Effort` – Resources required to test the hypothesis (higher values indicate more effort).\n",
    "\n",
    "### Part 2: A/B Test Analysis\n",
    "**`orders_us.csv`** – Contains information on user transactions:\n",
    "- `transactionId` – Order ID.\n",
    "- `visitorId` – User ID.\n",
    "- `date` – Date of the order.\n",
    "- `revenue` – Revenue generated from the order.\n",
    "- `group` – A/B test group (A or B).\n",
    "\n",
    "**`visits_us.csv`** – Contains visit data for the A/B test:\n",
    "- `date` – Date of the visit.\n",
    "- `group` – A/B test group.\n",
    "- `visits` – Number of cf conclusions based on A/B test results\n",
    "- Code structure, readability, and comments\n"
   ]
  },
  {
   "cell_type": "markdown",
   "id": "3220d055",
   "metadata": {},
   "source": [
    "<div class=\"alert alert-block alert-success\">✔️\n",
    "    \n",
    "\n",
    "__Reviewer's comment №1__\n",
    "\n",
    "An excellent practice is to describe the goal and main steps in your own words (a skill that will help a lot on a final project). It would be good to add the progress and purpose of the study."
   ]
  },
  {
   "cell_type": "code",
   "execution_count": 1,
   "id": "ffbb0232-db64-4601-8d43-0225e68e8591",
   "metadata": {},
   "outputs": [],
   "source": [
    "import pandas as pd\n",
    "import matplotlib.pyplot as plt\n",
    "import numpy as np\n",
    "from scipy import stats as st\n",
    "import math as mth"
   ]
  },
  {
   "cell_type": "markdown",
   "id": "baaf54ac-f984-4803-b506-77a6794450d7",
   "metadata": {},
   "source": [
    "# **Part 1. Prioritizing Hypotheses**\n",
    "The file hypotheses_us.csv contains nine hypotheses on boosting an online store's revenue with Reach, Impact, Confidence, and Effort specified for each.\n",
    "\n",
    "The task is to:\n",
    "\n",
    "- Apply the **ICE** framework to prioritize hypotheses. Sort them in descending order of priority.\n",
    "- Apply the **RICE** framework to prioritize hypotheses. Sort them in descending order of priority.\n",
    "- Show how the prioritization of hypotheses changes when you use RICE instead of ICE. Provide an explanation for the changes."
   ]
  },
  {
   "cell_type": "markdown",
   "id": "2c624f0a-fbfb-4914-b857-7e252337b471",
   "metadata": {},
   "source": [
    "In hypothesis prioritization, the **ICE** and **RICE** frameworks help evaluate the potential impact of different strategies.\n",
    "\n",
    "### ICE Framework:\n",
    "The **ICE score** is calculated using the formula:\n",
    "\n",
    "**ICE = (Impact × Confidence) ÷ Effort**\n",
    "\n",
    "\n",
    "- **Impact**: The expected influence on the key metric (e.g., revenue).\n",
    "- **Confidence**: How sure we are about the impact.\n",
    "- **Effort**: The resources required to implement the hypothesis.\n",
    "\n",
    "**Use Case**: ICE helps identify **quick wins**—high-impact, low-effort ideas.\n",
    "\n",
    "### RICE Framework:\n",
    "The **RICE score** improves upon ICE by adding **Reach**—how many users will be affected:\n",
    "\n",
    "**RICE = (Reach × Impact × Confidence) ÷ Effort**\n",
    "\n",
    "- **Reach**: The number of people who will experience the change.\n",
    "\n",
    "**Use Case**: RICE prioritizes ideas that have **a broader impact**, making it useful when deciding where to invest resources in large-scale projects.\n"
   ]
  },
  {
   "cell_type": "code",
   "execution_count": 2,
   "id": "f2a6996c-8adf-4b62-bfe1-97561b408eb3",
   "metadata": {},
   "outputs": [],
   "source": [
    "hypotheses = pd.read_csv('/datasets/hypotheses_us.csv', sep=';')"
   ]
  },
  {
   "attachments": {
    "image-2.png": {
     "image/png": "[encoded data removed]"
    }
   },
   "cell_type": "markdown",
   "id": "70251675",
   "metadata": {},
   "source": [
    "<div class=\"alert alert-block alert-danger\">✍\n",
    "    \n",
    "\n",
    "__Reviewer's comment №1__\n",
    "    \n",
    "Unfortunately, some code blocks don't work because you use local dataset paths\n",
    "\n",
    "If you work locally, you should use try/except method   \n",
    "    \n",
    "    try:\n",
    "        df = pd.read...\n",
    "    except:\n",
    "        df = pd.read...\n",
    "    \n",
    "\n",
    "![image-2.png](attachment:image-2.png)"
   ]
  },
  {
   "cell_type": "markdown",
   "id": "f504db34",
   "metadata": {},
   "source": [
    "<div class=\"alert alert-block alert-success\">✔️\n",
    "    \n",
    "\n",
    "__Reviewer's comment №1__\n",
    "\n",
    "Now correct"
   ]
  },
  {
   "cell_type": "code",
   "execution_count": 59,
   "id": "d756c72a-bb33-4637-ab2c-d826e9548733",
   "metadata": {},
   "outputs": [
    {
     "data": {
      "text/html": [
       "<div>\n",
       "<style scoped>\n",
       "    .dataframe tbody tr th:only-of-type {\n",
       "        vertical-align: middle;\n",
       "    }\n",
       "\n",
       "    .dataframe tbody tr th {\n",
       "        vertical-align: top;\n",
       "    }\n",
       "\n",
       "    .dataframe thead th {\n",
       "        text-align: right;\n",
       "    }\n",
       "</style>\n",
       "<table border=\"1\" class=\"dataframe\">\n",
       "  <thead>\n",
       "    <tr style=\"text-align: right;\">\n",
       "      <th></th>\n",
       "      <th>Hypothesis</th>\n",
       "      <th>Reach</th>\n",
       "      <th>Impact</th>\n",
       "      <th>Confidence</th>\n",
       "      <th>Effort</th>\n",
       "      <th>ICE</th>\n",
       "      <th>RICE</th>\n",
       "      <th>ICE Rank</th>\n",
       "      <th>RICE Rank</th>\n",
       "    </tr>\n",
       "  </thead>\n",
       "  <tbody>\n",
       "    <tr>\n",
       "      <th>0</th>\n",
       "      <td>Add two new channels for attracting traffic. This will bring 30% more users</td>\n",
       "      <td>3</td>\n",
       "      <td>10</td>\n",
       "      <td>8</td>\n",
       "      <td>6</td>\n",
       "      <td>13.333333</td>\n",
       "      <td>40.0</td>\n",
       "      <td>2.0</td>\n",
       "      <td>3.0</td>\n",
       "    </tr>\n",
       "    <tr>\n",
       "      <th>1</th>\n",
       "      <td>Launch your own delivery service. This will shorten delivery time</td>\n",
       "      <td>2</td>\n",
       "      <td>5</td>\n",
       "      <td>4</td>\n",
       "      <td>10</td>\n",
       "      <td>2.000000</td>\n",
       "      <td>4.0</td>\n",
       "      <td>6.0</td>\n",
       "      <td>7.0</td>\n",
       "    </tr>\n",
       "    <tr>\n",
       "      <th>2</th>\n",
       "      <td>Add product recommendation blocks to the store's site. This will increase conversion and average purchase size</td>\n",
       "      <td>8</td>\n",
       "      <td>3</td>\n",
       "      <td>7</td>\n",
       "      <td>3</td>\n",
       "      <td>7.000000</td>\n",
       "      <td>56.0</td>\n",
       "      <td>5.0</td>\n",
       "      <td>2.0</td>\n",
       "    </tr>\n",
       "    <tr>\n",
       "      <th>3</th>\n",
       "      <td>Change the category structure. This will increase conversion since users will find the products they want more quickly</td>\n",
       "      <td>8</td>\n",
       "      <td>3</td>\n",
       "      <td>3</td>\n",
       "      <td>8</td>\n",
       "      <td>1.125000</td>\n",
       "      <td>9.0</td>\n",
       "      <td>8.0</td>\n",
       "      <td>6.0</td>\n",
       "    </tr>\n",
       "    <tr>\n",
       "      <th>4</th>\n",
       "      <td>Change the background color on the main page. This will increase user engagement</td>\n",
       "      <td>3</td>\n",
       "      <td>1</td>\n",
       "      <td>1</td>\n",
       "      <td>1</td>\n",
       "      <td>1.000000</td>\n",
       "      <td>3.0</td>\n",
       "      <td>9.0</td>\n",
       "      <td>9.0</td>\n",
       "    </tr>\n",
       "    <tr>\n",
       "      <th>5</th>\n",
       "      <td>Add a customer review page. This will increase the number of orders</td>\n",
       "      <td>3</td>\n",
       "      <td>2</td>\n",
       "      <td>2</td>\n",
       "      <td>3</td>\n",
       "      <td>1.333333</td>\n",
       "      <td>4.0</td>\n",
       "      <td>7.0</td>\n",
       "      <td>7.0</td>\n",
       "    </tr>\n",
       "    <tr>\n",
       "      <th>6</th>\n",
       "      <td>Show banners with current offers and sales on the main page. This will boost conversion</td>\n",
       "      <td>5</td>\n",
       "      <td>3</td>\n",
       "      <td>8</td>\n",
       "      <td>3</td>\n",
       "      <td>8.000000</td>\n",
       "      <td>40.0</td>\n",
       "      <td>4.0</td>\n",
       "      <td>3.0</td>\n",
       "    </tr>\n",
       "    <tr>\n",
       "      <th>7</th>\n",
       "      <td>Add a subscription form to all the main pages. This will help you compile a mailing list</td>\n",
       "      <td>10</td>\n",
       "      <td>7</td>\n",
       "      <td>8</td>\n",
       "      <td>5</td>\n",
       "      <td>11.200000</td>\n",
       "      <td>112.0</td>\n",
       "      <td>3.0</td>\n",
       "      <td>1.0</td>\n",
       "    </tr>\n",
       "    <tr>\n",
       "      <th>8</th>\n",
       "      <td>Launch a promotion that gives users discounts on their birthdays</td>\n",
       "      <td>1</td>\n",
       "      <td>9</td>\n",
       "      <td>9</td>\n",
       "      <td>5</td>\n",
       "      <td>16.200000</td>\n",
       "      <td>16.2</td>\n",
       "      <td>1.0</td>\n",
       "      <td>5.0</td>\n",
       "    </tr>\n",
       "  </tbody>\n",
       "</table>\n",
       "</div>"
      ],
      "text/plain": [
       "                                                                                                               Hypothesis  \\\n",
       "0                                             Add two new channels for attracting traffic. This will bring 30% more users   \n",
       "1                                                       Launch your own delivery service. This will shorten delivery time   \n",
       "2          Add product recommendation blocks to the store's site. This will increase conversion and average purchase size   \n",
       "3  Change the category structure. This will increase conversion since users will find the products they want more quickly   \n",
       "4                                        Change the background color on the main page. This will increase user engagement   \n",
       "5                                                     Add a customer review page. This will increase the number of orders   \n",
       "6                                 Show banners with current offers and sales on the main page. This will boost conversion   \n",
       "7                                Add a subscription form to all the main pages. This will help you compile a mailing list   \n",
       "8                                                        Launch a promotion that gives users discounts on their birthdays   \n",
       "\n",
       "   Reach  Impact  Confidence  Effort        ICE   RICE  ICE Rank  RICE Rank  \n",
       "0      3      10           8       6  13.333333   40.0       2.0        3.0  \n",
       "1      2       5           4      10   2.000000    4.0       6.0        7.0  \n",
       "2      8       3           7       3   7.000000   56.0       5.0        2.0  \n",
       "3      8       3           3       8   1.125000    9.0       8.0        6.0  \n",
       "4      3       1           1       1   1.000000    3.0       9.0        9.0  \n",
       "5      3       2           2       3   1.333333    4.0       7.0        7.0  \n",
       "6      5       3           8       3   8.000000   40.0       4.0        3.0  \n",
       "7     10       7           8       5  11.200000  112.0       3.0        1.0  \n",
       "8      1       9           9       5  16.200000   16.2       1.0        5.0  "
      ]
     },
     "execution_count": 59,
     "metadata": {},
     "output_type": "execute_result"
    }
   ],
   "source": [
    "\n",
    "pd.options.display.max_colwidth = 150\n",
    "hypotheses\n",
    "\n"
   ]
  },
  {
   "cell_type": "markdown",
   "id": "1d840bee",
   "metadata": {},
   "source": [
    "<div class=\"alert alert-block alert-danger\">✍\n",
    "    \n",
    "\n",
    "__Reviewer's comment №1__\n",
    "\n",
    "\n",
    "It is worth adjusting the display of hypotheses in the table so that they are displayed in their column as a whole - for this you can set the parameter `pd.options.display.max_colwidth = 150`."
   ]
  },
  {
   "cell_type": "markdown",
   "id": "6f294ea2",
   "metadata": {},
   "source": [
    "<div class=\"alert alert-block alert-success\">✔️\n",
    "    \n",
    "\n",
    "__Reviewer's comment №2__\n",
    "\n",
    "Well done"
   ]
  },
  {
   "cell_type": "code",
   "execution_count": 60,
   "id": "aae355fa-0d9f-4762-879b-776f877a20fb",
   "metadata": {},
   "outputs": [],
   "source": [
    "# Calculate ICE Score: (Impact * Confidence) / Effort\n",
    "hypotheses[\"ICE\"] = (hypotheses[\"Impact\"] * hypotheses[\"Confidence\"]) / hypotheses[\"Effort\"]\n",
    "\n"
   ]
  },
  {
   "cell_type": "code",
   "execution_count": 61,
   "id": "81ba2b3e-2fc4-4ec6-8930-4f64b69a560f",
   "metadata": {},
   "outputs": [
    {
     "data": {
      "text/html": [
       "<div>\n",
       "<style scoped>\n",
       "    .dataframe tbody tr th:only-of-type {\n",
       "        vertical-align: middle;\n",
       "    }\n",
       "\n",
       "    .dataframe tbody tr th {\n",
       "        vertical-align: top;\n",
       "    }\n",
       "\n",
       "    .dataframe thead th {\n",
       "        text-align: right;\n",
       "    }\n",
       "</style>\n",
       "<table border=\"1\" class=\"dataframe\">\n",
       "  <thead>\n",
       "    <tr style=\"text-align: right;\">\n",
       "      <th></th>\n",
       "      <th>Hypothesis</th>\n",
       "      <th>Reach</th>\n",
       "      <th>Impact</th>\n",
       "      <th>Confidence</th>\n",
       "      <th>Effort</th>\n",
       "      <th>ICE</th>\n",
       "      <th>RICE</th>\n",
       "      <th>ICE Rank</th>\n",
       "      <th>RICE Rank</th>\n",
       "    </tr>\n",
       "  </thead>\n",
       "  <tbody>\n",
       "    <tr>\n",
       "      <th>0</th>\n",
       "      <td>Add two new channels for attracting traffic. This will bring 30% more users</td>\n",
       "      <td>3</td>\n",
       "      <td>10</td>\n",
       "      <td>8</td>\n",
       "      <td>6</td>\n",
       "      <td>13.333333</td>\n",
       "      <td>40.0</td>\n",
       "      <td>2.0</td>\n",
       "      <td>3.0</td>\n",
       "    </tr>\n",
       "    <tr>\n",
       "      <th>1</th>\n",
       "      <td>Launch your own delivery service. This will shorten delivery time</td>\n",
       "      <td>2</td>\n",
       "      <td>5</td>\n",
       "      <td>4</td>\n",
       "      <td>10</td>\n",
       "      <td>2.000000</td>\n",
       "      <td>4.0</td>\n",
       "      <td>6.0</td>\n",
       "      <td>7.0</td>\n",
       "    </tr>\n",
       "    <tr>\n",
       "      <th>2</th>\n",
       "      <td>Add product recommendation blocks to the store's site. This will increase conversion and average purchase size</td>\n",
       "      <td>8</td>\n",
       "      <td>3</td>\n",
       "      <td>7</td>\n",
       "      <td>3</td>\n",
       "      <td>7.000000</td>\n",
       "      <td>56.0</td>\n",
       "      <td>5.0</td>\n",
       "      <td>2.0</td>\n",
       "    </tr>\n",
       "    <tr>\n",
       "      <th>3</th>\n",
       "      <td>Change the category structure. This will increase conversion since users will find the products they want more quickly</td>\n",
       "      <td>8</td>\n",
       "      <td>3</td>\n",
       "      <td>3</td>\n",
       "      <td>8</td>\n",
       "      <td>1.125000</td>\n",
       "      <td>9.0</td>\n",
       "      <td>8.0</td>\n",
       "      <td>6.0</td>\n",
       "    </tr>\n",
       "    <tr>\n",
       "      <th>4</th>\n",
       "      <td>Change the background color on the main page. This will increase user engagement</td>\n",
       "      <td>3</td>\n",
       "      <td>1</td>\n",
       "      <td>1</td>\n",
       "      <td>1</td>\n",
       "      <td>1.000000</td>\n",
       "      <td>3.0</td>\n",
       "      <td>9.0</td>\n",
       "      <td>9.0</td>\n",
       "    </tr>\n",
       "    <tr>\n",
       "      <th>5</th>\n",
       "      <td>Add a customer review page. This will increase the number of orders</td>\n",
       "      <td>3</td>\n",
       "      <td>2</td>\n",
       "      <td>2</td>\n",
       "      <td>3</td>\n",
       "      <td>1.333333</td>\n",
       "      <td>4.0</td>\n",
       "      <td>7.0</td>\n",
       "      <td>7.0</td>\n",
       "    </tr>\n",
       "    <tr>\n",
       "      <th>6</th>\n",
       "      <td>Show banners with current offers and sales on the main page. This will boost conversion</td>\n",
       "      <td>5</td>\n",
       "      <td>3</td>\n",
       "      <td>8</td>\n",
       "      <td>3</td>\n",
       "      <td>8.000000</td>\n",
       "      <td>40.0</td>\n",
       "      <td>4.0</td>\n",
       "      <td>3.0</td>\n",
       "    </tr>\n",
       "    <tr>\n",
       "      <th>7</th>\n",
       "      <td>Add a subscription form to all the main pages. This will help you compile a mailing list</td>\n",
       "      <td>10</td>\n",
       "      <td>7</td>\n",
       "      <td>8</td>\n",
       "      <td>5</td>\n",
       "      <td>11.200000</td>\n",
       "      <td>112.0</td>\n",
       "      <td>3.0</td>\n",
       "      <td>1.0</td>\n",
       "    </tr>\n",
       "    <tr>\n",
       "      <th>8</th>\n",
       "      <td>Launch a promotion that gives users discounts on their birthdays</td>\n",
       "      <td>1</td>\n",
       "      <td>9</td>\n",
       "      <td>9</td>\n",
       "      <td>5</td>\n",
       "      <td>16.200000</td>\n",
       "      <td>16.2</td>\n",
       "      <td>1.0</td>\n",
       "      <td>5.0</td>\n",
       "    </tr>\n",
       "  </tbody>\n",
       "</table>\n",
       "</div>"
      ],
      "text/plain": [
       "                                                                                                               Hypothesis  \\\n",
       "0                                             Add two new channels for attracting traffic. This will bring 30% more users   \n",
       "1                                                       Launch your own delivery service. This will shorten delivery time   \n",
       "2          Add product recommendation blocks to the store's site. This will increase conversion and average purchase size   \n",
       "3  Change the category structure. This will increase conversion since users will find the products they want more quickly   \n",
       "4                                        Change the background color on the main page. This will increase user engagement   \n",
       "5                                                     Add a customer review page. This will increase the number of orders   \n",
       "6                                 Show banners with current offers and sales on the main page. This will boost conversion   \n",
       "7                                Add a subscription form to all the main pages. This will help you compile a mailing list   \n",
       "8                                                        Launch a promotion that gives users discounts on their birthdays   \n",
       "\n",
       "   Reach  Impact  Confidence  Effort        ICE   RICE  ICE Rank  RICE Rank  \n",
       "0      3      10           8       6  13.333333   40.0       2.0        3.0  \n",
       "1      2       5           4      10   2.000000    4.0       6.0        7.0  \n",
       "2      8       3           7       3   7.000000   56.0       5.0        2.0  \n",
       "3      8       3           3       8   1.125000    9.0       8.0        6.0  \n",
       "4      3       1           1       1   1.000000    3.0       9.0        9.0  \n",
       "5      3       2           2       3   1.333333    4.0       7.0        7.0  \n",
       "6      5       3           8       3   8.000000   40.0       4.0        3.0  \n",
       "7     10       7           8       5  11.200000  112.0       3.0        1.0  \n",
       "8      1       9           9       5  16.200000   16.2       1.0        5.0  "
      ]
     },
     "execution_count": 61,
     "metadata": {},
     "output_type": "execute_result"
    }
   ],
   "source": [
    "# Calculate RICE Score: (Reach * Impact * Confidence) / Effort\n",
    "hypotheses[\"RICE\"] = (hypotheses[\"Reach\"] * hypotheses[\"Impact\"] * hypotheses[\"Confidence\"]) / hypotheses[\"Effort\"]\n",
    "\n",
    "hypotheses"
   ]
  },
  {
   "cell_type": "code",
   "execution_count": 62,
   "id": "43ddc4bc-e8c7-4b0c-bf2c-6ae0b1c20939",
   "metadata": {},
   "outputs": [
    {
     "data": {
      "text/html": [
       "<div>\n",
       "<style scoped>\n",
       "    .dataframe tbody tr th:only-of-type {\n",
       "        vertical-align: middle;\n",
       "    }\n",
       "\n",
       "    .dataframe tbody tr th {\n",
       "        vertical-align: top;\n",
       "    }\n",
       "\n",
       "    .dataframe thead th {\n",
       "        text-align: right;\n",
       "    }\n",
       "</style>\n",
       "<table border=\"1\" class=\"dataframe\">\n",
       "  <thead>\n",
       "    <tr style=\"text-align: right;\">\n",
       "      <th></th>\n",
       "      <th>Hypothesis</th>\n",
       "      <th>Reach</th>\n",
       "      <th>Impact</th>\n",
       "      <th>Confidence</th>\n",
       "      <th>Effort</th>\n",
       "      <th>ICE</th>\n",
       "      <th>RICE</th>\n",
       "      <th>ICE Rank</th>\n",
       "      <th>RICE Rank</th>\n",
       "    </tr>\n",
       "  </thead>\n",
       "  <tbody>\n",
       "    <tr>\n",
       "      <th>8</th>\n",
       "      <td>Launch a promotion that gives users discounts on their birthdays</td>\n",
       "      <td>1</td>\n",
       "      <td>9</td>\n",
       "      <td>9</td>\n",
       "      <td>5</td>\n",
       "      <td>16.200000</td>\n",
       "      <td>16.2</td>\n",
       "      <td>1.0</td>\n",
       "      <td>5.0</td>\n",
       "    </tr>\n",
       "    <tr>\n",
       "      <th>0</th>\n",
       "      <td>Add two new channels for attracting traffic. This will bring 30% more users</td>\n",
       "      <td>3</td>\n",
       "      <td>10</td>\n",
       "      <td>8</td>\n",
       "      <td>6</td>\n",
       "      <td>13.333333</td>\n",
       "      <td>40.0</td>\n",
       "      <td>2.0</td>\n",
       "      <td>3.0</td>\n",
       "    </tr>\n",
       "    <tr>\n",
       "      <th>7</th>\n",
       "      <td>Add a subscription form to all the main pages. This will help you compile a mailing list</td>\n",
       "      <td>10</td>\n",
       "      <td>7</td>\n",
       "      <td>8</td>\n",
       "      <td>5</td>\n",
       "      <td>11.200000</td>\n",
       "      <td>112.0</td>\n",
       "      <td>3.0</td>\n",
       "      <td>1.0</td>\n",
       "    </tr>\n",
       "    <tr>\n",
       "      <th>6</th>\n",
       "      <td>Show banners with current offers and sales on the main page. This will boost conversion</td>\n",
       "      <td>5</td>\n",
       "      <td>3</td>\n",
       "      <td>8</td>\n",
       "      <td>3</td>\n",
       "      <td>8.000000</td>\n",
       "      <td>40.0</td>\n",
       "      <td>4.0</td>\n",
       "      <td>3.0</td>\n",
       "    </tr>\n",
       "    <tr>\n",
       "      <th>2</th>\n",
       "      <td>Add product recommendation blocks to the store's site. This will increase conversion and average purchase size</td>\n",
       "      <td>8</td>\n",
       "      <td>3</td>\n",
       "      <td>7</td>\n",
       "      <td>3</td>\n",
       "      <td>7.000000</td>\n",
       "      <td>56.0</td>\n",
       "      <td>5.0</td>\n",
       "      <td>2.0</td>\n",
       "    </tr>\n",
       "    <tr>\n",
       "      <th>1</th>\n",
       "      <td>Launch your own delivery service. This will shorten delivery time</td>\n",
       "      <td>2</td>\n",
       "      <td>5</td>\n",
       "      <td>4</td>\n",
       "      <td>10</td>\n",
       "      <td>2.000000</td>\n",
       "      <td>4.0</td>\n",
       "      <td>6.0</td>\n",
       "      <td>7.0</td>\n",
       "    </tr>\n",
       "    <tr>\n",
       "      <th>5</th>\n",
       "      <td>Add a customer review page. This will increase the number of orders</td>\n",
       "      <td>3</td>\n",
       "      <td>2</td>\n",
       "      <td>2</td>\n",
       "      <td>3</td>\n",
       "      <td>1.333333</td>\n",
       "      <td>4.0</td>\n",
       "      <td>7.0</td>\n",
       "      <td>7.0</td>\n",
       "    </tr>\n",
       "    <tr>\n",
       "      <th>3</th>\n",
       "      <td>Change the category structure. This will increase conversion since users will find the products they want more quickly</td>\n",
       "      <td>8</td>\n",
       "      <td>3</td>\n",
       "      <td>3</td>\n",
       "      <td>8</td>\n",
       "      <td>1.125000</td>\n",
       "      <td>9.0</td>\n",
       "      <td>8.0</td>\n",
       "      <td>6.0</td>\n",
       "    </tr>\n",
       "    <tr>\n",
       "      <th>4</th>\n",
       "      <td>Change the background color on the main page. This will increase user engagement</td>\n",
       "      <td>3</td>\n",
       "      <td>1</td>\n",
       "      <td>1</td>\n",
       "      <td>1</td>\n",
       "      <td>1.000000</td>\n",
       "      <td>3.0</td>\n",
       "      <td>9.0</td>\n",
       "      <td>9.0</td>\n",
       "    </tr>\n",
       "  </tbody>\n",
       "</table>\n",
       "</div>"
      ],
      "text/plain": [
       "                                                                                                               Hypothesis  \\\n",
       "8                                                        Launch a promotion that gives users discounts on their birthdays   \n",
       "0                                             Add two new channels for attracting traffic. This will bring 30% more users   \n",
       "7                                Add a subscription form to all the main pages. This will help you compile a mailing list   \n",
       "6                                 Show banners with current offers and sales on the main page. This will boost conversion   \n",
       "2          Add product recommendation blocks to the store's site. This will increase conversion and average purchase size   \n",
       "1                                                       Launch your own delivery service. This will shorten delivery time   \n",
       "5                                                     Add a customer review page. This will increase the number of orders   \n",
       "3  Change the category structure. This will increase conversion since users will find the products they want more quickly   \n",
       "4                                        Change the background color on the main page. This will increase user engagement   \n",
       "\n",
       "   Reach  Impact  Confidence  Effort        ICE   RICE  ICE Rank  RICE Rank  \n",
       "8      1       9           9       5  16.200000   16.2       1.0        5.0  \n",
       "0      3      10           8       6  13.333333   40.0       2.0        3.0  \n",
       "7     10       7           8       5  11.200000  112.0       3.0        1.0  \n",
       "6      5       3           8       3   8.000000   40.0       4.0        3.0  \n",
       "2      8       3           7       3   7.000000   56.0       5.0        2.0  \n",
       "1      2       5           4      10   2.000000    4.0       6.0        7.0  \n",
       "5      3       2           2       3   1.333333    4.0       7.0        7.0  \n",
       "3      8       3           3       8   1.125000    9.0       8.0        6.0  \n",
       "4      3       1           1       1   1.000000    3.0       9.0        9.0  "
      ]
     },
     "execution_count": 62,
     "metadata": {},
     "output_type": "execute_result"
    }
   ],
   "source": [
    "# Sorting by ICE Score in descending order\n",
    "df_ice_sorted = hypotheses.sort_values(by=\"ICE\", ascending=False)\n",
    "df_ice_sorted\n",
    "\n"
   ]
  },
  {
   "cell_type": "code",
   "execution_count": 63,
   "id": "59cdcd36-3168-4501-849c-e645935039a9",
   "metadata": {},
   "outputs": [
    {
     "data": {
      "text/html": [
       "<div>\n",
       "<style scoped>\n",
       "    .dataframe tbody tr th:only-of-type {\n",
       "        vertical-align: middle;\n",
       "    }\n",
       "\n",
       "    .dataframe tbody tr th {\n",
       "        vertical-align: top;\n",
       "    }\n",
       "\n",
       "    .dataframe thead th {\n",
       "        text-align: right;\n",
       "    }\n",
       "</style>\n",
       "<table border=\"1\" class=\"dataframe\">\n",
       "  <thead>\n",
       "    <tr style=\"text-align: right;\">\n",
       "      <th></th>\n",
       "      <th>Hypothesis</th>\n",
       "      <th>Reach</th>\n",
       "      <th>Impact</th>\n",
       "      <th>Confidence</th>\n",
       "      <th>Effort</th>\n",
       "      <th>ICE</th>\n",
       "      <th>RICE</th>\n",
       "      <th>ICE Rank</th>\n",
       "      <th>RICE Rank</th>\n",
       "    </tr>\n",
       "  </thead>\n",
       "  <tbody>\n",
       "    <tr>\n",
       "      <th>7</th>\n",
       "      <td>Add a subscription form to all the main pages. This will help you compile a mailing list</td>\n",
       "      <td>10</td>\n",
       "      <td>7</td>\n",
       "      <td>8</td>\n",
       "      <td>5</td>\n",
       "      <td>11.200000</td>\n",
       "      <td>112.0</td>\n",
       "      <td>3.0</td>\n",
       "      <td>1.0</td>\n",
       "    </tr>\n",
       "    <tr>\n",
       "      <th>2</th>\n",
       "      <td>Add product recommendation blocks to the store's site. This will increase conversion and average purchase size</td>\n",
       "      <td>8</td>\n",
       "      <td>3</td>\n",
       "      <td>7</td>\n",
       "      <td>3</td>\n",
       "      <td>7.000000</td>\n",
       "      <td>56.0</td>\n",
       "      <td>5.0</td>\n",
       "      <td>2.0</td>\n",
       "    </tr>\n",
       "    <tr>\n",
       "      <th>0</th>\n",
       "      <td>Add two new channels for attracting traffic. This will bring 30% more users</td>\n",
       "      <td>3</td>\n",
       "      <td>10</td>\n",
       "      <td>8</td>\n",
       "      <td>6</td>\n",
       "      <td>13.333333</td>\n",
       "      <td>40.0</td>\n",
       "      <td>2.0</td>\n",
       "      <td>3.0</td>\n",
       "    </tr>\n",
       "    <tr>\n",
       "      <th>6</th>\n",
       "      <td>Show banners with current offers and sales on the main page. This will boost conversion</td>\n",
       "      <td>5</td>\n",
       "      <td>3</td>\n",
       "      <td>8</td>\n",
       "      <td>3</td>\n",
       "      <td>8.000000</td>\n",
       "      <td>40.0</td>\n",
       "      <td>4.0</td>\n",
       "      <td>3.0</td>\n",
       "    </tr>\n",
       "    <tr>\n",
       "      <th>8</th>\n",
       "      <td>Launch a promotion that gives users discounts on their birthdays</td>\n",
       "      <td>1</td>\n",
       "      <td>9</td>\n",
       "      <td>9</td>\n",
       "      <td>5</td>\n",
       "      <td>16.200000</td>\n",
       "      <td>16.2</td>\n",
       "      <td>1.0</td>\n",
       "      <td>5.0</td>\n",
       "    </tr>\n",
       "    <tr>\n",
       "      <th>3</th>\n",
       "      <td>Change the category structure. This will increase conversion since users will find the products they want more quickly</td>\n",
       "      <td>8</td>\n",
       "      <td>3</td>\n",
       "      <td>3</td>\n",
       "      <td>8</td>\n",
       "      <td>1.125000</td>\n",
       "      <td>9.0</td>\n",
       "      <td>8.0</td>\n",
       "      <td>6.0</td>\n",
       "    </tr>\n",
       "    <tr>\n",
       "      <th>1</th>\n",
       "      <td>Launch your own delivery service. This will shorten delivery time</td>\n",
       "      <td>2</td>\n",
       "      <td>5</td>\n",
       "      <td>4</td>\n",
       "      <td>10</td>\n",
       "      <td>2.000000</td>\n",
       "      <td>4.0</td>\n",
       "      <td>6.0</td>\n",
       "      <td>7.0</td>\n",
       "    </tr>\n",
       "    <tr>\n",
       "      <th>5</th>\n",
       "      <td>Add a customer review page. This will increase the number of orders</td>\n",
       "      <td>3</td>\n",
       "      <td>2</td>\n",
       "      <td>2</td>\n",
       "      <td>3</td>\n",
       "      <td>1.333333</td>\n",
       "      <td>4.0</td>\n",
       "      <td>7.0</td>\n",
       "      <td>7.0</td>\n",
       "    </tr>\n",
       "    <tr>\n",
       "      <th>4</th>\n",
       "      <td>Change the background color on the main page. This will increase user engagement</td>\n",
       "      <td>3</td>\n",
       "      <td>1</td>\n",
       "      <td>1</td>\n",
       "      <td>1</td>\n",
       "      <td>1.000000</td>\n",
       "      <td>3.0</td>\n",
       "      <td>9.0</td>\n",
       "      <td>9.0</td>\n",
       "    </tr>\n",
       "  </tbody>\n",
       "</table>\n",
       "</div>"
      ],
      "text/plain": [
       "                                                                                                               Hypothesis  \\\n",
       "7                                Add a subscription form to all the main pages. This will help you compile a mailing list   \n",
       "2          Add product recommendation blocks to the store's site. This will increase conversion and average purchase size   \n",
       "0                                             Add two new channels for attracting traffic. This will bring 30% more users   \n",
       "6                                 Show banners with current offers and sales on the main page. This will boost conversion   \n",
       "8                                                        Launch a promotion that gives users discounts on their birthdays   \n",
       "3  Change the category structure. This will increase conversion since users will find the products they want more quickly   \n",
       "1                                                       Launch your own delivery service. This will shorten delivery time   \n",
       "5                                                     Add a customer review page. This will increase the number of orders   \n",
       "4                                        Change the background color on the main page. This will increase user engagement   \n",
       "\n",
       "   Reach  Impact  Confidence  Effort        ICE   RICE  ICE Rank  RICE Rank  \n",
       "7     10       7           8       5  11.200000  112.0       3.0        1.0  \n",
       "2      8       3           7       3   7.000000   56.0       5.0        2.0  \n",
       "0      3      10           8       6  13.333333   40.0       2.0        3.0  \n",
       "6      5       3           8       3   8.000000   40.0       4.0        3.0  \n",
       "8      1       9           9       5  16.200000   16.2       1.0        5.0  \n",
       "3      8       3           3       8   1.125000    9.0       8.0        6.0  \n",
       "1      2       5           4      10   2.000000    4.0       6.0        7.0  \n",
       "5      3       2           2       3   1.333333    4.0       7.0        7.0  \n",
       "4      3       1           1       1   1.000000    3.0       9.0        9.0  "
      ]
     },
     "execution_count": 63,
     "metadata": {},
     "output_type": "execute_result"
    }
   ],
   "source": [
    "# Sorting by RICE Score in descending order\n",
    "df_rice_sorted = hypotheses.sort_values(by=\"RICE\", ascending=False)\n",
    "df_rice_sorted"
   ]
  },
  {
   "cell_type": "code",
   "execution_count": 64,
   "id": "e664111d-5a76-42d4-a1ba-a5429e2093b5",
   "metadata": {},
   "outputs": [
    {
     "data": {
      "image/png": "[encoded data removed]",
      "text/plain": [
       "<Figure size 640x480 with 1 Axes>"
      ]
     },
     "metadata": {},
     "output_type": "display_data"
    }
   ],
   "source": [
    "# Add rankings for ICE and RICE\n",
    "hypotheses[\"ICE Rank\"] = hypotheses[\"ICE\"].rank(method=\"min\", ascending=False)\n",
    "hypotheses[\"RICE Rank\"] = hypotheses[\"RICE\"].rank(method=\"min\", ascending=False)\n",
    "\n",
    "# Sort by ICE rank for consistency\n",
    "df_sorted = hypotheses.sort_values(by=\"ICE Rank\")\n",
    "\n",
    "df_sorted\n",
    "# Plot ranking comparison\n",
    "plt.plot(df_sorted[\"Hypothesis\"], df_sorted[\"ICE Rank\"], marker=\"o\", label=\"ICE Rank\", linestyle=\"--\")\n",
    "plt.plot(df_sorted[\"Hypothesis\"], df_sorted[\"RICE Rank\"], marker=\"s\", label=\"RICE Rank\", linestyle=\"-\")\n",
    "\n",
    "plt.xticks(rotation=90, ha=\"right\")\n",
    "plt.ylabel(\"Ranking (Lower is Better)\")\n",
    "plt.xlabel(\"Hypothesis\")\n",
    "plt.title(\"Comparison of ICE and RICE Rankings\")\n",
    "plt.legend()\n",
    "plt.gca().invert_yaxis()  # Invert to show rank 1 at the top\n",
    "\n",
    "plt.show()\n",
    "\n"
   ]
  },
  {
   "cell_type": "code",
   "execution_count": 9,
   "id": "ad3eb21e-616e-4b34-ae27-6137bb200a5c",
   "metadata": {},
   "outputs": [
    {
     "data": {
      "text/html": [
       "<div>\n",
       "<style scoped>\n",
       "    .dataframe tbody tr th:only-of-type {\n",
       "        vertical-align: middle;\n",
       "    }\n",
       "\n",
       "    .dataframe tbody tr th {\n",
       "        vertical-align: top;\n",
       "    }\n",
       "\n",
       "    .dataframe thead th {\n",
       "        text-align: right;\n",
       "    }\n",
       "</style>\n",
       "<table border=\"1\" class=\"dataframe\">\n",
       "  <thead>\n",
       "    <tr style=\"text-align: right;\">\n",
       "      <th></th>\n",
       "      <th>Hypothesis</th>\n",
       "      <th>Reach</th>\n",
       "      <th>Impact</th>\n",
       "      <th>Confidence</th>\n",
       "      <th>Effort</th>\n",
       "      <th>ICE</th>\n",
       "      <th>RICE</th>\n",
       "      <th>ICE Rank</th>\n",
       "      <th>RICE Rank</th>\n",
       "    </tr>\n",
       "  </thead>\n",
       "  <tbody>\n",
       "    <tr>\n",
       "      <th>8</th>\n",
       "      <td>Launch a promotion that gives users discounts on their birthdays</td>\n",
       "      <td>1</td>\n",
       "      <td>9</td>\n",
       "      <td>9</td>\n",
       "      <td>5</td>\n",
       "      <td>16.200000</td>\n",
       "      <td>16.2</td>\n",
       "      <td>1.0</td>\n",
       "      <td>5.0</td>\n",
       "    </tr>\n",
       "    <tr>\n",
       "      <th>0</th>\n",
       "      <td>Add two new channels for attracting traffic. This will bring 30% more users</td>\n",
       "      <td>3</td>\n",
       "      <td>10</td>\n",
       "      <td>8</td>\n",
       "      <td>6</td>\n",
       "      <td>13.333333</td>\n",
       "      <td>40.0</td>\n",
       "      <td>2.0</td>\n",
       "      <td>3.0</td>\n",
       "    </tr>\n",
       "    <tr>\n",
       "      <th>7</th>\n",
       "      <td>Add a subscription form to all the main pages. This will help you compile a mailing list</td>\n",
       "      <td>10</td>\n",
       "      <td>7</td>\n",
       "      <td>8</td>\n",
       "      <td>5</td>\n",
       "      <td>11.200000</td>\n",
       "      <td>112.0</td>\n",
       "      <td>3.0</td>\n",
       "      <td>1.0</td>\n",
       "    </tr>\n",
       "    <tr>\n",
       "      <th>6</th>\n",
       "      <td>Show banners with current offers and sales on the main page. This will boost conversion</td>\n",
       "      <td>5</td>\n",
       "      <td>3</td>\n",
       "      <td>8</td>\n",
       "      <td>3</td>\n",
       "      <td>8.000000</td>\n",
       "      <td>40.0</td>\n",
       "      <td>4.0</td>\n",
       "      <td>3.0</td>\n",
       "    </tr>\n",
       "    <tr>\n",
       "      <th>2</th>\n",
       "      <td>Add product recommendation blocks to the store's site. This will increase conversion and average purchase size</td>\n",
       "      <td>8</td>\n",
       "      <td>3</td>\n",
       "      <td>7</td>\n",
       "      <td>3</td>\n",
       "      <td>7.000000</td>\n",
       "      <td>56.0</td>\n",
       "      <td>5.0</td>\n",
       "      <td>2.0</td>\n",
       "    </tr>\n",
       "    <tr>\n",
       "      <th>1</th>\n",
       "      <td>Launch your own delivery service. This will shorten delivery time</td>\n",
       "      <td>2</td>\n",
       "      <td>5</td>\n",
       "      <td>4</td>\n",
       "      <td>10</td>\n",
       "      <td>2.000000</td>\n",
       "      <td>4.0</td>\n",
       "      <td>6.0</td>\n",
       "      <td>7.0</td>\n",
       "    </tr>\n",
       "    <tr>\n",
       "      <th>5</th>\n",
       "      <td>Add a customer review page. This will increase the number of orders</td>\n",
       "      <td>3</td>\n",
       "      <td>2</td>\n",
       "      <td>2</td>\n",
       "      <td>3</td>\n",
       "      <td>1.333333</td>\n",
       "      <td>4.0</td>\n",
       "      <td>7.0</td>\n",
       "      <td>7.0</td>\n",
       "    </tr>\n",
       "    <tr>\n",
       "      <th>3</th>\n",
       "      <td>Change the category structure. This will increase conversion since users will find the products they want more quickly</td>\n",
       "      <td>8</td>\n",
       "      <td>3</td>\n",
       "      <td>3</td>\n",
       "      <td>8</td>\n",
       "      <td>1.125000</td>\n",
       "      <td>9.0</td>\n",
       "      <td>8.0</td>\n",
       "      <td>6.0</td>\n",
       "    </tr>\n",
       "    <tr>\n",
       "      <th>4</th>\n",
       "      <td>Change the background color on the main page. This will increase user engagement</td>\n",
       "      <td>3</td>\n",
       "      <td>1</td>\n",
       "      <td>1</td>\n",
       "      <td>1</td>\n",
       "      <td>1.000000</td>\n",
       "      <td>3.0</td>\n",
       "      <td>9.0</td>\n",
       "      <td>9.0</td>\n",
       "    </tr>\n",
       "  </tbody>\n",
       "</table>\n",
       "</div>"
      ],
      "text/plain": [
       "                                                                                                               Hypothesis  \\\n",
       "8                                                        Launch a promotion that gives users discounts on their birthdays   \n",
       "0                                             Add two new channels for attracting traffic. This will bring 30% more users   \n",
       "7                                Add a subscription form to all the main pages. This will help you compile a mailing list   \n",
       "6                                 Show banners with current offers and sales on the main page. This will boost conversion   \n",
       "2          Add product recommendation blocks to the store's site. This will increase conversion and average purchase size   \n",
       "1                                                       Launch your own delivery service. This will shorten delivery time   \n",
       "5                                                     Add a customer review page. This will increase the number of orders   \n",
       "3  Change the category structure. This will increase conversion since users will find the products they want more quickly   \n",
       "4                                        Change the background color on the main page. This will increase user engagement   \n",
       "\n",
       "   Reach  Impact  Confidence  Effort        ICE   RICE  ICE Rank  RICE Rank  \n",
       "8      1       9           9       5  16.200000   16.2       1.0        5.0  \n",
       "0      3      10           8       6  13.333333   40.0       2.0        3.0  \n",
       "7     10       7           8       5  11.200000  112.0       3.0        1.0  \n",
       "6      5       3           8       3   8.000000   40.0       4.0        3.0  \n",
       "2      8       3           7       3   7.000000   56.0       5.0        2.0  \n",
       "1      2       5           4      10   2.000000    4.0       6.0        7.0  \n",
       "5      3       2           2       3   1.333333    4.0       7.0        7.0  \n",
       "3      8       3           3       8   1.125000    9.0       8.0        6.0  \n",
       "4      3       1           1       1   1.000000    3.0       9.0        9.0  "
      ]
     },
     "execution_count": 9,
     "metadata": {},
     "output_type": "execute_result"
    }
   ],
   "source": [
    "df_sorted"
   ]
  },
  {
   "cell_type": "markdown",
   "id": "488c0233-5e7d-4d55-8e6d-1860424483d7",
   "metadata": {},
   "source": [
    "## Chart Analysis and Recommendations\n",
    "\n",
    "### Observations from ICE vs. RICE Rankings:\n",
    "1. **High Reach hypotheses moved up** in RICE.\n",
    "   - Example: *\"Add a subscription form to all the main pages.\"* (Reach = 10) ranked much higher in RICE than ICE.\n",
    "   - This suggests that hypotheses affecting more users should be prioritized.\n",
    "\n",
    "2. **Some high-Impact hypotheses dropped** in RICE due to low Reach.\n",
    "   - Example: *\"Launch a promotion that gives users discounts.\"* ranked high in ICE but lower in RICE.\n",
    "   - This shows that even strong-impact ideas might not be the best investment if they don’t reach many users.\n",
    "\n",
    "3. **ICE favors low-effort, high-impact ideas**, while **RICE highlights large-scale opportunities**.\n",
    "   - ICE is useful for quick improvements.\n",
    "   - RICE is better for **long-term growth strategies**.\n",
    "\n",
    "### Recommendations:\n",
    "- **Prioritize hypotheses with high Reach**—these have a more significant business impact.\n",
    "- **Use ICE for small optimizations**, where quick implementation is key.\n",
    "- **Use RICE for strategic decisions**, balancing impact and audience size.\n",
    "- **For A/B testing, focus on top-ranked RICE hypotheses**: \"Add a subscription form to all the main pages.\" to ensure maximum return on investment."
   ]
  },
  {
   "cell_type": "markdown",
   "id": "162692f3",
   "metadata": {},
   "source": [
    "<div class=\"alert alert-block alert-success\">✔️\n",
    "    \n",
    "\n",
    "__Reviewer's comment №1__\n",
    "\n",
    "ICE prioritization is in order!"
   ]
  },
  {
   "cell_type": "markdown",
   "id": "dc485b64-cdb1-4a8b-bc4a-ca383d54c095",
   "metadata": {},
   "source": [
    "# **Part 2. A/B Test Analysis**"
   ]
  },
  {
   "cell_type": "markdown",
   "id": "ba1050cd-8d84-4e85-b6ed-e1032bae4d80",
   "metadata": {},
   "source": [
    "Data Preparing"
   ]
  },
  {
   "cell_type": "code",
   "execution_count": 10,
   "id": "dd3b725c-7e3e-4e4d-a015-219e77086a79",
   "metadata": {},
   "outputs": [
    {
     "data": {
      "text/html": [
       "<div>\n",
       "<style scoped>\n",
       "    .dataframe tbody tr th:only-of-type {\n",
       "        vertical-align: middle;\n",
       "    }\n",
       "\n",
       "    .dataframe tbody tr th {\n",
       "        vertical-align: top;\n",
       "    }\n",
       "\n",
       "    .dataframe thead th {\n",
       "        text-align: right;\n",
       "    }\n",
       "</style>\n",
       "<table border=\"1\" class=\"dataframe\">\n",
       "  <thead>\n",
       "    <tr style=\"text-align: right;\">\n",
       "      <th></th>\n",
       "      <th>transactionId</th>\n",
       "      <th>visitorId</th>\n",
       "      <th>date</th>\n",
       "      <th>revenue</th>\n",
       "      <th>group</th>\n",
       "    </tr>\n",
       "  </thead>\n",
       "  <tbody>\n",
       "    <tr>\n",
       "      <th>0</th>\n",
       "      <td>3667963787</td>\n",
       "      <td>3312258926</td>\n",
       "      <td>2019-08-15</td>\n",
       "      <td>30.4</td>\n",
       "      <td>B</td>\n",
       "    </tr>\n",
       "    <tr>\n",
       "      <th>1</th>\n",
       "      <td>2804400009</td>\n",
       "      <td>3642806036</td>\n",
       "      <td>2019-08-15</td>\n",
       "      <td>15.2</td>\n",
       "      <td>B</td>\n",
       "    </tr>\n",
       "    <tr>\n",
       "      <th>2</th>\n",
       "      <td>2961555356</td>\n",
       "      <td>4069496402</td>\n",
       "      <td>2019-08-15</td>\n",
       "      <td>10.2</td>\n",
       "      <td>A</td>\n",
       "    </tr>\n",
       "    <tr>\n",
       "      <th>3</th>\n",
       "      <td>3797467345</td>\n",
       "      <td>1196621759</td>\n",
       "      <td>2019-08-15</td>\n",
       "      <td>155.1</td>\n",
       "      <td>B</td>\n",
       "    </tr>\n",
       "    <tr>\n",
       "      <th>4</th>\n",
       "      <td>2282983706</td>\n",
       "      <td>2322279887</td>\n",
       "      <td>2019-08-15</td>\n",
       "      <td>40.5</td>\n",
       "      <td>B</td>\n",
       "    </tr>\n",
       "    <tr>\n",
       "      <th>...</th>\n",
       "      <td>...</td>\n",
       "      <td>...</td>\n",
       "      <td>...</td>\n",
       "      <td>...</td>\n",
       "      <td>...</td>\n",
       "    </tr>\n",
       "    <tr>\n",
       "      <th>1192</th>\n",
       "      <td>2662137336</td>\n",
       "      <td>3733762160</td>\n",
       "      <td>2019-08-14</td>\n",
       "      <td>100.8</td>\n",
       "      <td>B</td>\n",
       "    </tr>\n",
       "    <tr>\n",
       "      <th>1193</th>\n",
       "      <td>2203539145</td>\n",
       "      <td>370388673</td>\n",
       "      <td>2019-08-14</td>\n",
       "      <td>50.1</td>\n",
       "      <td>A</td>\n",
       "    </tr>\n",
       "    <tr>\n",
       "      <th>1194</th>\n",
       "      <td>1807773912</td>\n",
       "      <td>573423106</td>\n",
       "      <td>2019-08-14</td>\n",
       "      <td>165.3</td>\n",
       "      <td>A</td>\n",
       "    </tr>\n",
       "    <tr>\n",
       "      <th>1195</th>\n",
       "      <td>1947021204</td>\n",
       "      <td>1614305549</td>\n",
       "      <td>2019-08-14</td>\n",
       "      <td>5.5</td>\n",
       "      <td>A</td>\n",
       "    </tr>\n",
       "    <tr>\n",
       "      <th>1196</th>\n",
       "      <td>3936777065</td>\n",
       "      <td>2108080724</td>\n",
       "      <td>2019-08-15</td>\n",
       "      <td>3120.1</td>\n",
       "      <td>B</td>\n",
       "    </tr>\n",
       "  </tbody>\n",
       "</table>\n",
       "<p>1197 rows × 5 columns</p>\n",
       "</div>"
      ],
      "text/plain": [
       "      transactionId   visitorId        date  revenue group\n",
       "0        3667963787  3312258926  2019-08-15     30.4     B\n",
       "1        2804400009  3642806036  2019-08-15     15.2     B\n",
       "2        2961555356  4069496402  2019-08-15     10.2     A\n",
       "3        3797467345  1196621759  2019-08-15    155.1     B\n",
       "4        2282983706  2322279887  2019-08-15     40.5     B\n",
       "...             ...         ...         ...      ...   ...\n",
       "1192     2662137336  3733762160  2019-08-14    100.8     B\n",
       "1193     2203539145   370388673  2019-08-14     50.1     A\n",
       "1194     1807773912   573423106  2019-08-14    165.3     A\n",
       "1195     1947021204  1614305549  2019-08-14      5.5     A\n",
       "1196     3936777065  2108080724  2019-08-15   3120.1     B\n",
       "\n",
       "[1197 rows x 5 columns]"
      ]
     },
     "execution_count": 10,
     "metadata": {},
     "output_type": "execute_result"
    }
   ],
   "source": [
    "orders = pd.read_csv('/datasets/orders_us.csv')\n",
    "orders"
   ]
  },
  {
   "cell_type": "code",
   "execution_count": 11,
   "id": "5b755a4b-85c2-41dd-81b7-19cf9c16d3c6",
   "metadata": {},
   "outputs": [
    {
     "name": "stdout",
     "output_type": "stream",
     "text": [
      "<class 'pandas.core.frame.DataFrame'>\n",
      "RangeIndex: 1197 entries, 0 to 1196\n",
      "Data columns (total 5 columns):\n",
      " #   Column         Non-Null Count  Dtype  \n",
      "---  ------         --------------  -----  \n",
      " 0   transactionId  1197 non-null   int64  \n",
      " 1   visitorId      1197 non-null   int64  \n",
      " 2   date           1197 non-null   object \n",
      " 3   revenue        1197 non-null   float64\n",
      " 4   group          1197 non-null   object \n",
      "dtypes: float64(1), int64(2), object(2)\n",
      "memory usage: 46.9+ KB\n"
     ]
    }
   ],
   "source": [
    "orders.info()"
   ]
  },
  {
   "cell_type": "code",
   "execution_count": 12,
   "id": "97a5f0b2-4cf6-468e-84ca-8e6fb912debb",
   "metadata": {},
   "outputs": [],
   "source": [
    "orders['group'] = orders['group'].astype('category')"
   ]
  },
  {
   "cell_type": "code",
   "execution_count": 13,
   "id": "c66867d2-9cbc-4c1a-908d-11e892378af5",
   "metadata": {},
   "outputs": [],
   "source": [
    "orders['date'] = pd.to_datetime(orders['date'])"
   ]
  },
  {
   "cell_type": "code",
   "execution_count": 14,
   "id": "e36af7f1-6d57-45d8-b4fa-e965c567bfa1",
   "metadata": {
    "scrolled": true
   },
   "outputs": [
    {
     "data": {
      "text/plain": [
       "0"
      ]
     },
     "execution_count": 14,
     "metadata": {},
     "output_type": "execute_result"
    }
   ],
   "source": [
    "orders.duplicated().sum()"
   ]
  },
  {
   "cell_type": "markdown",
   "id": "dcd497e3",
   "metadata": {},
   "source": [
    "<div class=\"alert alert-block alert-success\">✔️\n",
    "\n",
    "__Reviewer's comment №1__\n",
    "    \n",
    "Duplicate checking is the basis of data preprocessing"
   ]
  },
  {
   "cell_type": "code",
   "execution_count": 15,
   "id": "fcbd2326-f311-4cee-9c59-d43af0262548",
   "metadata": {},
   "outputs": [
    {
     "name": "stdout",
     "output_type": "stream",
     "text": [
      "<class 'pandas.core.frame.DataFrame'>\n",
      "RangeIndex: 1197 entries, 0 to 1196\n",
      "Data columns (total 5 columns):\n",
      " #   Column         Non-Null Count  Dtype         \n",
      "---  ------         --------------  -----         \n",
      " 0   transactionId  1197 non-null   int64         \n",
      " 1   visitorId      1197 non-null   int64         \n",
      " 2   date           1197 non-null   datetime64[ns]\n",
      " 3   revenue        1197 non-null   float64       \n",
      " 4   group          1197 non-null   category      \n",
      "dtypes: category(1), datetime64[ns](1), float64(1), int64(2)\n",
      "memory usage: 38.8 KB\n"
     ]
    }
   ],
   "source": [
    "orders.info()"
   ]
  },
  {
   "cell_type": "code",
   "execution_count": 16,
   "id": "cffd88ae-c443-4289-b11c-91280028a95d",
   "metadata": {},
   "outputs": [
    {
     "data": {
      "text/html": [
       "<div>\n",
       "<style scoped>\n",
       "    .dataframe tbody tr th:only-of-type {\n",
       "        vertical-align: middle;\n",
       "    }\n",
       "\n",
       "    .dataframe tbody tr th {\n",
       "        vertical-align: top;\n",
       "    }\n",
       "\n",
       "    .dataframe thead th {\n",
       "        text-align: right;\n",
       "    }\n",
       "</style>\n",
       "<table border=\"1\" class=\"dataframe\">\n",
       "  <thead>\n",
       "    <tr style=\"text-align: right;\">\n",
       "      <th></th>\n",
       "      <th>transactionId</th>\n",
       "      <th>visitorId</th>\n",
       "      <th>date</th>\n",
       "      <th>revenue</th>\n",
       "      <th>group</th>\n",
       "    </tr>\n",
       "  </thead>\n",
       "  <tbody>\n",
       "    <tr>\n",
       "      <th>0</th>\n",
       "      <td>3667963787</td>\n",
       "      <td>3312258926</td>\n",
       "      <td>2019-08-15</td>\n",
       "      <td>30.4</td>\n",
       "      <td>B</td>\n",
       "    </tr>\n",
       "    <tr>\n",
       "      <th>1</th>\n",
       "      <td>2804400009</td>\n",
       "      <td>3642806036</td>\n",
       "      <td>2019-08-15</td>\n",
       "      <td>15.2</td>\n",
       "      <td>B</td>\n",
       "    </tr>\n",
       "    <tr>\n",
       "      <th>2</th>\n",
       "      <td>2961555356</td>\n",
       "      <td>4069496402</td>\n",
       "      <td>2019-08-15</td>\n",
       "      <td>10.2</td>\n",
       "      <td>A</td>\n",
       "    </tr>\n",
       "    <tr>\n",
       "      <th>3</th>\n",
       "      <td>3797467345</td>\n",
       "      <td>1196621759</td>\n",
       "      <td>2019-08-15</td>\n",
       "      <td>155.1</td>\n",
       "      <td>B</td>\n",
       "    </tr>\n",
       "    <tr>\n",
       "      <th>4</th>\n",
       "      <td>2282983706</td>\n",
       "      <td>2322279887</td>\n",
       "      <td>2019-08-15</td>\n",
       "      <td>40.5</td>\n",
       "      <td>B</td>\n",
       "    </tr>\n",
       "  </tbody>\n",
       "</table>\n",
       "</div>"
      ],
      "text/plain": [
       "   transactionId   visitorId       date  revenue group\n",
       "0     3667963787  3312258926 2019-08-15     30.4     B\n",
       "1     2804400009  3642806036 2019-08-15     15.2     B\n",
       "2     2961555356  4069496402 2019-08-15     10.2     A\n",
       "3     3797467345  1196621759 2019-08-15    155.1     B\n",
       "4     2282983706  2322279887 2019-08-15     40.5     B"
      ]
     },
     "execution_count": 16,
     "metadata": {},
     "output_type": "execute_result"
    }
   ],
   "source": [
    "orders.head()"
   ]
  },
  {
   "cell_type": "code",
   "execution_count": 17,
   "id": "8669bb70-a092-456b-9358-5d2ce720c397",
   "metadata": {},
   "outputs": [
    {
     "data": {
      "text/html": [
       "<div>\n",
       "<style scoped>\n",
       "    .dataframe tbody tr th:only-of-type {\n",
       "        vertical-align: middle;\n",
       "    }\n",
       "\n",
       "    .dataframe tbody tr th {\n",
       "        vertical-align: top;\n",
       "    }\n",
       "\n",
       "    .dataframe thead th {\n",
       "        text-align: right;\n",
       "    }\n",
       "</style>\n",
       "<table border=\"1\" class=\"dataframe\">\n",
       "  <thead>\n",
       "    <tr style=\"text-align: right;\">\n",
       "      <th></th>\n",
       "      <th>date</th>\n",
       "      <th>group</th>\n",
       "      <th>visits</th>\n",
       "    </tr>\n",
       "  </thead>\n",
       "  <tbody>\n",
       "    <tr>\n",
       "      <th>0</th>\n",
       "      <td>2019-08-01</td>\n",
       "      <td>A</td>\n",
       "      <td>719</td>\n",
       "    </tr>\n",
       "    <tr>\n",
       "      <th>1</th>\n",
       "      <td>2019-08-02</td>\n",
       "      <td>A</td>\n",
       "      <td>619</td>\n",
       "    </tr>\n",
       "    <tr>\n",
       "      <th>2</th>\n",
       "      <td>2019-08-03</td>\n",
       "      <td>A</td>\n",
       "      <td>507</td>\n",
       "    </tr>\n",
       "    <tr>\n",
       "      <th>3</th>\n",
       "      <td>2019-08-04</td>\n",
       "      <td>A</td>\n",
       "      <td>717</td>\n",
       "    </tr>\n",
       "    <tr>\n",
       "      <th>4</th>\n",
       "      <td>2019-08-05</td>\n",
       "      <td>A</td>\n",
       "      <td>756</td>\n",
       "    </tr>\n",
       "    <tr>\n",
       "      <th>...</th>\n",
       "      <td>...</td>\n",
       "      <td>...</td>\n",
       "      <td>...</td>\n",
       "    </tr>\n",
       "    <tr>\n",
       "      <th>57</th>\n",
       "      <td>2019-08-27</td>\n",
       "      <td>B</td>\n",
       "      <td>720</td>\n",
       "    </tr>\n",
       "    <tr>\n",
       "      <th>58</th>\n",
       "      <td>2019-08-28</td>\n",
       "      <td>B</td>\n",
       "      <td>654</td>\n",
       "    </tr>\n",
       "    <tr>\n",
       "      <th>59</th>\n",
       "      <td>2019-08-29</td>\n",
       "      <td>B</td>\n",
       "      <td>531</td>\n",
       "    </tr>\n",
       "    <tr>\n",
       "      <th>60</th>\n",
       "      <td>2019-08-30</td>\n",
       "      <td>B</td>\n",
       "      <td>490</td>\n",
       "    </tr>\n",
       "    <tr>\n",
       "      <th>61</th>\n",
       "      <td>2019-08-31</td>\n",
       "      <td>B</td>\n",
       "      <td>718</td>\n",
       "    </tr>\n",
       "  </tbody>\n",
       "</table>\n",
       "<p>62 rows × 3 columns</p>\n",
       "</div>"
      ],
      "text/plain": [
       "          date group  visits\n",
       "0   2019-08-01     A     719\n",
       "1   2019-08-02     A     619\n",
       "2   2019-08-03     A     507\n",
       "3   2019-08-04     A     717\n",
       "4   2019-08-05     A     756\n",
       "..         ...   ...     ...\n",
       "57  2019-08-27     B     720\n",
       "58  2019-08-28     B     654\n",
       "59  2019-08-29     B     531\n",
       "60  2019-08-30     B     490\n",
       "61  2019-08-31     B     718\n",
       "\n",
       "[62 rows x 3 columns]"
      ]
     },
     "execution_count": 17,
     "metadata": {},
     "output_type": "execute_result"
    }
   ],
   "source": [
    "visits = pd.read_csv('/datasets/visits_us.csv')\n",
    "visits"
   ]
  },
  {
   "cell_type": "code",
   "execution_count": 18,
   "id": "6b2d6bf8-a59c-4ab0-9d8c-f190c8a80d50",
   "metadata": {},
   "outputs": [
    {
     "name": "stdout",
     "output_type": "stream",
     "text": [
      "<class 'pandas.core.frame.DataFrame'>\n",
      "RangeIndex: 62 entries, 0 to 61\n",
      "Data columns (total 3 columns):\n",
      " #   Column  Non-Null Count  Dtype \n",
      "---  ------  --------------  ----- \n",
      " 0   date    62 non-null     object\n",
      " 1   group   62 non-null     object\n",
      " 2   visits  62 non-null     int64 \n",
      "dtypes: int64(1), object(2)\n",
      "memory usage: 1.6+ KB\n"
     ]
    }
   ],
   "source": [
    "visits.info()"
   ]
  },
  {
   "cell_type": "code",
   "execution_count": 19,
   "id": "106447ff-3a3c-4328-a7c0-25ec696e8872",
   "metadata": {},
   "outputs": [],
   "source": [
    "visits['group'] = visits['group'].astype('category')"
   ]
  },
  {
   "cell_type": "code",
   "execution_count": 20,
   "id": "13d0268e-8b1b-4260-8a00-c0a250409d90",
   "metadata": {},
   "outputs": [],
   "source": [
    "visits['date'] = pd.to_datetime(visits['date'])"
   ]
  },
  {
   "cell_type": "code",
   "execution_count": 21,
   "id": "ed85820b-c952-4b89-8e47-83be143c2273",
   "metadata": {},
   "outputs": [
    {
     "data": {
      "text/plain": [
       "0"
      ]
     },
     "execution_count": 21,
     "metadata": {},
     "output_type": "execute_result"
    }
   ],
   "source": [
    "visits.duplicated().sum()"
   ]
  },
  {
   "cell_type": "code",
   "execution_count": 22,
   "id": "9ceb4003-5a67-40a6-ab25-aa2ceb8b2911",
   "metadata": {},
   "outputs": [
    {
     "name": "stdout",
     "output_type": "stream",
     "text": [
      "<class 'pandas.core.frame.DataFrame'>\n",
      "RangeIndex: 62 entries, 0 to 61\n",
      "Data columns (total 3 columns):\n",
      " #   Column  Non-Null Count  Dtype         \n",
      "---  ------  --------------  -----         \n",
      " 0   date    62 non-null     datetime64[ns]\n",
      " 1   group   62 non-null     category      \n",
      " 2   visits  62 non-null     int64         \n",
      "dtypes: category(1), datetime64[ns](1), int64(1)\n",
      "memory usage: 1.3 KB\n"
     ]
    }
   ],
   "source": [
    "visits.info()"
   ]
  },
  {
   "cell_type": "markdown",
   "id": "e08b3de0",
   "metadata": {},
   "source": []
  },
  {
   "cell_type": "markdown",
   "id": "4f21f227-2d7a-493c-a8bb-a06eb39b5d1a",
   "metadata": {},
   "source": [
    "## 1. Cumulative revenue by group"
   ]
  },
  {
   "cell_type": "code",
   "execution_count": 23,
   "id": "4af4abd2-a765-46cb-89af-a62f86b32c1c",
   "metadata": {},
   "outputs": [
    {
     "data": {
      "text/html": [
       "<div>\n",
       "<style scoped>\n",
       "    .dataframe tbody tr th:only-of-type {\n",
       "        vertical-align: middle;\n",
       "    }\n",
       "\n",
       "    .dataframe tbody tr th {\n",
       "        vertical-align: top;\n",
       "    }\n",
       "\n",
       "    .dataframe thead th {\n",
       "        text-align: right;\n",
       "    }\n",
       "</style>\n",
       "<table border=\"1\" class=\"dataframe\">\n",
       "  <thead>\n",
       "    <tr style=\"text-align: right;\">\n",
       "      <th></th>\n",
       "      <th>date</th>\n",
       "      <th>group</th>\n",
       "      <th>revenue</th>\n",
       "    </tr>\n",
       "  </thead>\n",
       "  <tbody>\n",
       "    <tr>\n",
       "      <th>0</th>\n",
       "      <td>2019-08-01</td>\n",
       "      <td>A</td>\n",
       "      <td>2356.8</td>\n",
       "    </tr>\n",
       "    <tr>\n",
       "      <th>1</th>\n",
       "      <td>2019-08-01</td>\n",
       "      <td>B</td>\n",
       "      <td>1620.0</td>\n",
       "    </tr>\n",
       "    <tr>\n",
       "      <th>2</th>\n",
       "      <td>2019-08-02</td>\n",
       "      <td>A</td>\n",
       "      <td>3860.3</td>\n",
       "    </tr>\n",
       "    <tr>\n",
       "      <th>3</th>\n",
       "      <td>2019-08-02</td>\n",
       "      <td>B</td>\n",
       "      <td>4243.8</td>\n",
       "    </tr>\n",
       "    <tr>\n",
       "      <th>4</th>\n",
       "      <td>2019-08-03</td>\n",
       "      <td>A</td>\n",
       "      <td>5675.5</td>\n",
       "    </tr>\n",
       "    <tr>\n",
       "      <th>...</th>\n",
       "      <td>...</td>\n",
       "      <td>...</td>\n",
       "      <td>...</td>\n",
       "    </tr>\n",
       "    <tr>\n",
       "      <th>57</th>\n",
       "      <td>2019-08-29</td>\n",
       "      <td>B</td>\n",
       "      <td>87343.0</td>\n",
       "    </tr>\n",
       "    <tr>\n",
       "      <th>58</th>\n",
       "      <td>2019-08-30</td>\n",
       "      <td>A</td>\n",
       "      <td>63563.5</td>\n",
       "    </tr>\n",
       "    <tr>\n",
       "      <th>59</th>\n",
       "      <td>2019-08-30</td>\n",
       "      <td>B</td>\n",
       "      <td>90736.3</td>\n",
       "    </tr>\n",
       "    <tr>\n",
       "      <th>60</th>\n",
       "      <td>2019-08-31</td>\n",
       "      <td>A</td>\n",
       "      <td>64554.9</td>\n",
       "    </tr>\n",
       "    <tr>\n",
       "      <th>61</th>\n",
       "      <td>2019-08-31</td>\n",
       "      <td>B</td>\n",
       "      <td>92840.6</td>\n",
       "    </tr>\n",
       "  </tbody>\n",
       "</table>\n",
       "<p>62 rows × 3 columns</p>\n",
       "</div>"
      ],
      "text/plain": [
       "         date group  revenue\n",
       "0  2019-08-01     A   2356.8\n",
       "1  2019-08-01     B   1620.0\n",
       "2  2019-08-02     A   3860.3\n",
       "3  2019-08-02     B   4243.8\n",
       "4  2019-08-03     A   5675.5\n",
       "..        ...   ...      ...\n",
       "57 2019-08-29     B  87343.0\n",
       "58 2019-08-30     A  63563.5\n",
       "59 2019-08-30     B  90736.3\n",
       "60 2019-08-31     A  64554.9\n",
       "61 2019-08-31     B  92840.6\n",
       "\n",
       "[62 rows x 3 columns]"
      ]
     },
     "execution_count": 23,
     "metadata": {},
     "output_type": "execute_result"
    }
   ],
   "source": [
    "# Aggregate cumulative revenue by group over time\n",
    "sum_revenue = orders.groupby([\"date\", \"group\"])[\"revenue\"].sum()\n",
    "cumulative_revenue = sum_revenue.groupby(\"group\").cumsum().reset_index()\n",
    "\n",
    "cumulative_revenue"
   ]
  },
  {
   "cell_type": "code",
   "execution_count": 81,
   "id": "2cc6ece3-63a6-487a-ba5b-698f8204cda3",
   "metadata": {},
   "outputs": [
    {
     "data": {
      "image/png": "[encoded data removed]",
      "text/plain": [
       "<Figure size 1000x600 with 1 Axes>"
      ]
     },
     "metadata": {},
     "output_type": "display_data"
    }
   ],
   "source": [
    "# Ensure the date column is in datetime format\n",
    "cumulative_revenue[\"date\"] = pd.to_datetime(cumulative_revenue[\"date\"])\n",
    "\n",
    "# Convert annotation dates to datetime format\n",
    "jump_date = pd.Timestamp(\"2019-08-18\")\n",
    "breakaway_date = pd.Timestamp(\"2019-08-05\")\n",
    "\n",
    "# Plot cumulative revenue\n",
    "plt.figure(figsize=(10, 6))\n",
    "\n",
    "# Loop through unique groups and plot data\n",
    "for group in cumulative_revenue[\"group\"].unique():\n",
    "    subset = cumulative_revenue[cumulative_revenue[\"group\"] == group]\n",
    "    plt.plot(subset[\"date\"], subset[\"revenue\"], label=f\"Group {group}\")\n",
    "\n",
    "# Adjusted annotation positions using datetime\n",
    "plt.annotate(\n",
    "    'Jump', \n",
    "    xy=(jump_date, 41900),  # Ensure datetime format\n",
    "    xytext=(jump_date - pd.Timedelta(days=7), 50000),  # Shift left for clarity\n",
    "    arrowprops=dict(facecolor='green', arrowstyle='->'), \n",
    "    fontsize=12\n",
    ")\n",
    "\n",
    "plt.annotate(\n",
    "    'Breakaway', \n",
    "    xy=(breakaway_date, 10000),  # Ensure datetime format\n",
    "    xytext=(breakaway_date + pd.Timedelta(days=3), 20000),  # Adjust placement\n",
    "    arrowprops=dict(facecolor='green', arrowstyle='->'), \n",
    "    fontsize=12\n",
    ")\n",
    "\n",
    "# Labels, title, and formatting\n",
    "plt.xlabel(\"Date\")\n",
    "plt.ylabel(\"Cumulative Revenue\")\n",
    "plt.title(\"Cumulative Revenue by Group\")\n",
    "plt.legend()\n",
    "plt.grid(True)\n",
    "\n",
    "# Show the plot\n",
    "plt.show()\n"
   ]
  },
  {
   "cell_type": "markdown",
   "id": "4789ec5e-c0c4-4a06-b382-7df9a6870cbe",
   "metadata": {},
   "source": [
    "### Cumulative Revenue Analysis: Conclusions and Conjectures\n",
    "\n",
    "1. **Revenue Growth**:\n",
    "   - Both **Group A and Group B** show steady revenue growth.\n",
    "   - Group B grows **faster** than Group A.\n",
    "\n",
    "2. **Sharp Increase in Group B**:\n",
    "   - Midway through the test, Group B's revenue **spikes suddenly**.\n",
    "   - Possible reasons: **a few large orders or data issues**.\n",
    "     \n",
    "3. **Group B Stays Ahead**:\n",
    "   - Initially, revenue was similar for both groups.\n",
    "   - After the spike, Group B's revenue remains **higher** than Group A's.\n",
    "   - This suggests that **Group B’s changes may be driving more revenue**.\n"
   ]
  },
  {
   "cell_type": "markdown",
   "id": "7e736d69",
   "metadata": {},
   "source": [
    "<div class=\"alert alert-block alert-warning\">📝\n",
    "    \n",
    "\n",
    "__Reviewer's comment №1__\n",
    "\n",
    "\n",
    "You could add annotations to the graph for clarity through code like this: \n",
    "    \n",
    "<code>plt.annotate('jump', xy=('2019-08-17', 2800000), xytext=('2019-08-10', 3500000),\n",
    "            arrowprops=dict(facecolor='g'))\n",
    "plt.annotate('breakaway', xy=('2019-08-05', 800000), xytext=('2019-08-05', 2000000),\n",
    "            arrowprops=dict(facecolor='g')) </code>    \n",
    "</div>"
   ]
  },
  {
   "cell_type": "code",
   "execution_count": 25,
   "id": "a96ef735-4d22-45f8-83d8-4dc263be3773",
   "metadata": {},
   "outputs": [
    {
     "data": {
      "image/png": "[encoded data removed]",
      "text/plain": [
       "<Figure size 1000x600 with 1 Axes>"
      ]
     },
     "metadata": {},
     "output_type": "display_data"
    }
   ],
   "source": [
    "# daily revenue per group\n",
    "sum_revenue = sum_revenue.reset_index()\n",
    "\n",
    "# Plot daily revenue by group\n",
    "plt.figure(figsize=(10, 6))\n",
    "for group in sum_revenue[\"group\"].unique():\n",
    "    subset = sum_revenue[sum_revenue[\"group\"] == group]\n",
    "    plt.plot(subset[\"date\"], subset[\"revenue\"], label=f\"Group {group}\")\n",
    "\n",
    "plt.xlabel(\"Date\")\n",
    "plt.ylabel(\"Daily Revenue\")\n",
    "plt.title(\"Daily Revenue by Group\")\n",
    "plt.legend()\n",
    "plt.grid(True)\n",
    "plt.xticks(rotation=45)\n",
    "plt.show()"
   ]
  },
  {
   "cell_type": "markdown",
   "id": "7018e1ea-73d5-440c-a3e3-b72d1833b4db",
   "metadata": {},
   "source": [
    "### Daily Revenue Analysis: Conclusions and Conjectures\n",
    "\n",
    "1. **Fluctuations in Daily Revenue**:\n",
    "   - Both groups experience **daily revenue variations**.\n",
    "   - Some days show **sharp spikes**, suggesting high-value purchases.\n",
    "\n",
    "2. **Significant Revenue Spike in Group B**:\n",
    "   - Around mid-August, Group B has an **extreme revenue peak**.\n",
    "   - This may be due to **a single large order or an anomaly**.\n",
    "\n",
    "3. **Revenue Stability**:\n",
    "   - After the spike, Group B’s revenue **returns to normal levels**.\n",
    "   - Group A maintains a more **consistent revenue pattern**."
   ]
  },
  {
   "cell_type": "markdown",
   "id": "80cba110-66c9-4cc7-a815-f2b420a0ad03",
   "metadata": {},
   "source": [
    "## Cumulative average order size by group"
   ]
  },
  {
   "cell_type": "markdown",
   "id": "ea3dcfba-39b1-402a-af63-bdb1977353d9",
   "metadata": {},
   "source": [
    "Average Order Size is a KPI that measures the average amount spent by customers per transaction."
   ]
  },
  {
   "cell_type": "code",
   "execution_count": 26,
   "id": "d780eb69-e664-4f17-8e7b-a551a694822c",
   "metadata": {},
   "outputs": [
    {
     "data": {
      "text/html": [
       "<div>\n",
       "<style scoped>\n",
       "    .dataframe tbody tr th:only-of-type {\n",
       "        vertical-align: middle;\n",
       "    }\n",
       "\n",
       "    .dataframe tbody tr th {\n",
       "        vertical-align: top;\n",
       "    }\n",
       "\n",
       "    .dataframe thead th {\n",
       "        text-align: right;\n",
       "    }\n",
       "</style>\n",
       "<table border=\"1\" class=\"dataframe\">\n",
       "  <thead>\n",
       "    <tr style=\"text-align: right;\">\n",
       "      <th></th>\n",
       "      <th>group</th>\n",
       "      <th>revenue</th>\n",
       "    </tr>\n",
       "  </thead>\n",
       "  <tbody>\n",
       "    <tr>\n",
       "      <th>0</th>\n",
       "      <td>A</td>\n",
       "      <td>115.897487</td>\n",
       "    </tr>\n",
       "    <tr>\n",
       "      <th>1</th>\n",
       "      <td>B</td>\n",
       "      <td>145.063437</td>\n",
       "    </tr>\n",
       "  </tbody>\n",
       "</table>\n",
       "</div>"
      ],
      "text/plain": [
       "  group     revenue\n",
       "0     A  115.897487\n",
       "1     B  145.063437"
      ]
     },
     "execution_count": 26,
     "metadata": {},
     "output_type": "execute_result"
    }
   ],
   "source": [
    "# Calculate average order size per group\n",
    "avg_order_size = orders.groupby(\"group\")[\"revenue\"].mean().reset_index()\n",
    "avg_order_size "
   ]
  },
  {
   "cell_type": "code",
   "execution_count": 27,
   "id": "09a61fb5-b470-431e-bc84-56c7217c680f",
   "metadata": {},
   "outputs": [
    {
     "data": {
      "text/html": [
       "<div>\n",
       "<style scoped>\n",
       "    .dataframe tbody tr th:only-of-type {\n",
       "        vertical-align: middle;\n",
       "    }\n",
       "\n",
       "    .dataframe tbody tr th {\n",
       "        vertical-align: top;\n",
       "    }\n",
       "\n",
       "    .dataframe thead th {\n",
       "        text-align: right;\n",
       "    }\n",
       "</style>\n",
       "<table border=\"1\" class=\"dataframe\">\n",
       "  <thead>\n",
       "    <tr style=\"text-align: right;\">\n",
       "      <th></th>\n",
       "      <th>date</th>\n",
       "      <th>group</th>\n",
       "      <th>revenue</th>\n",
       "      <th>transactionId</th>\n",
       "    </tr>\n",
       "  </thead>\n",
       "  <tbody>\n",
       "    <tr>\n",
       "      <th>0</th>\n",
       "      <td>2019-08-01</td>\n",
       "      <td>A</td>\n",
       "      <td>2356.8</td>\n",
       "      <td>24</td>\n",
       "    </tr>\n",
       "    <tr>\n",
       "      <th>1</th>\n",
       "      <td>2019-08-01</td>\n",
       "      <td>B</td>\n",
       "      <td>1620.0</td>\n",
       "      <td>21</td>\n",
       "    </tr>\n",
       "    <tr>\n",
       "      <th>2</th>\n",
       "      <td>2019-08-02</td>\n",
       "      <td>A</td>\n",
       "      <td>1503.5</td>\n",
       "      <td>20</td>\n",
       "    </tr>\n",
       "    <tr>\n",
       "      <th>3</th>\n",
       "      <td>2019-08-02</td>\n",
       "      <td>B</td>\n",
       "      <td>2623.8</td>\n",
       "      <td>24</td>\n",
       "    </tr>\n",
       "    <tr>\n",
       "      <th>4</th>\n",
       "      <td>2019-08-03</td>\n",
       "      <td>A</td>\n",
       "      <td>1815.2</td>\n",
       "      <td>24</td>\n",
       "    </tr>\n",
       "    <tr>\n",
       "      <th>...</th>\n",
       "      <td>...</td>\n",
       "      <td>...</td>\n",
       "      <td>...</td>\n",
       "      <td>...</td>\n",
       "    </tr>\n",
       "    <tr>\n",
       "      <th>57</th>\n",
       "      <td>2019-08-29</td>\n",
       "      <td>B</td>\n",
       "      <td>3623.7</td>\n",
       "      <td>20</td>\n",
       "    </tr>\n",
       "    <tr>\n",
       "      <th>58</th>\n",
       "      <td>2019-08-30</td>\n",
       "      <td>A</td>\n",
       "      <td>1364.3</td>\n",
       "      <td>11</td>\n",
       "    </tr>\n",
       "    <tr>\n",
       "      <th>59</th>\n",
       "      <td>2019-08-30</td>\n",
       "      <td>B</td>\n",
       "      <td>3393.3</td>\n",
       "      <td>24</td>\n",
       "    </tr>\n",
       "    <tr>\n",
       "      <th>60</th>\n",
       "      <td>2019-08-31</td>\n",
       "      <td>A</td>\n",
       "      <td>991.4</td>\n",
       "      <td>12</td>\n",
       "    </tr>\n",
       "    <tr>\n",
       "      <th>61</th>\n",
       "      <td>2019-08-31</td>\n",
       "      <td>B</td>\n",
       "      <td>2104.3</td>\n",
       "      <td>20</td>\n",
       "    </tr>\n",
       "  </tbody>\n",
       "</table>\n",
       "<p>62 rows × 4 columns</p>\n",
       "</div>"
      ],
      "text/plain": [
       "         date group  revenue  transactionId\n",
       "0  2019-08-01     A   2356.8             24\n",
       "1  2019-08-01     B   1620.0             21\n",
       "2  2019-08-02     A   1503.5             20\n",
       "3  2019-08-02     B   2623.8             24\n",
       "4  2019-08-03     A   1815.2             24\n",
       "..        ...   ...      ...            ...\n",
       "57 2019-08-29     B   3623.7             20\n",
       "58 2019-08-30     A   1364.3             11\n",
       "59 2019-08-30     B   3393.3             24\n",
       "60 2019-08-31     A    991.4             12\n",
       "61 2019-08-31     B   2104.3             20\n",
       "\n",
       "[62 rows x 4 columns]"
      ]
     },
     "execution_count": 27,
     "metadata": {},
     "output_type": "execute_result"
    }
   ],
   "source": [
    "# Calculate revenue and number of orders per group over time\n",
    "cumulative_data = orders.groupby([\"date\", \"group\"]).agg({\"revenue\": \"sum\", \"transactionId\": \"count\"}).reset_index()\n",
    "cumulative_data"
   ]
  },
  {
   "cell_type": "code",
   "execution_count": 28,
   "id": "50fc0225-e3e9-4afc-8aa7-cf6ed5a9a13e",
   "metadata": {},
   "outputs": [
    {
     "data": {
      "text/html": [
       "<div>\n",
       "<style scoped>\n",
       "    .dataframe tbody tr th:only-of-type {\n",
       "        vertical-align: middle;\n",
       "    }\n",
       "\n",
       "    .dataframe tbody tr th {\n",
       "        vertical-align: top;\n",
       "    }\n",
       "\n",
       "    .dataframe thead th {\n",
       "        text-align: right;\n",
       "    }\n",
       "</style>\n",
       "<table border=\"1\" class=\"dataframe\">\n",
       "  <thead>\n",
       "    <tr style=\"text-align: right;\">\n",
       "      <th></th>\n",
       "      <th>date</th>\n",
       "      <th>group</th>\n",
       "      <th>revenue</th>\n",
       "      <th>transactionId</th>\n",
       "      <th>cumulative_revenue</th>\n",
       "      <th>cumulative_orders</th>\n",
       "      <th>cumulative_avg_order_size</th>\n",
       "    </tr>\n",
       "  </thead>\n",
       "  <tbody>\n",
       "    <tr>\n",
       "      <th>0</th>\n",
       "      <td>2019-08-01</td>\n",
       "      <td>A</td>\n",
       "      <td>2356.8</td>\n",
       "      <td>24</td>\n",
       "      <td>2356.8</td>\n",
       "      <td>24</td>\n",
       "      <td>98.200000</td>\n",
       "    </tr>\n",
       "    <tr>\n",
       "      <th>1</th>\n",
       "      <td>2019-08-01</td>\n",
       "      <td>B</td>\n",
       "      <td>1620.0</td>\n",
       "      <td>21</td>\n",
       "      <td>1620.0</td>\n",
       "      <td>21</td>\n",
       "      <td>77.142857</td>\n",
       "    </tr>\n",
       "    <tr>\n",
       "      <th>2</th>\n",
       "      <td>2019-08-02</td>\n",
       "      <td>A</td>\n",
       "      <td>1503.5</td>\n",
       "      <td>20</td>\n",
       "      <td>3860.3</td>\n",
       "      <td>44</td>\n",
       "      <td>87.734091</td>\n",
       "    </tr>\n",
       "    <tr>\n",
       "      <th>3</th>\n",
       "      <td>2019-08-02</td>\n",
       "      <td>B</td>\n",
       "      <td>2623.8</td>\n",
       "      <td>24</td>\n",
       "      <td>4243.8</td>\n",
       "      <td>45</td>\n",
       "      <td>94.306667</td>\n",
       "    </tr>\n",
       "    <tr>\n",
       "      <th>4</th>\n",
       "      <td>2019-08-03</td>\n",
       "      <td>A</td>\n",
       "      <td>1815.2</td>\n",
       "      <td>24</td>\n",
       "      <td>5675.5</td>\n",
       "      <td>68</td>\n",
       "      <td>83.463235</td>\n",
       "    </tr>\n",
       "    <tr>\n",
       "      <th>...</th>\n",
       "      <td>...</td>\n",
       "      <td>...</td>\n",
       "      <td>...</td>\n",
       "      <td>...</td>\n",
       "      <td>...</td>\n",
       "      <td>...</td>\n",
       "      <td>...</td>\n",
       "    </tr>\n",
       "    <tr>\n",
       "      <th>57</th>\n",
       "      <td>2019-08-29</td>\n",
       "      <td>B</td>\n",
       "      <td>3623.7</td>\n",
       "      <td>20</td>\n",
       "      <td>87343.0</td>\n",
       "      <td>596</td>\n",
       "      <td>146.548658</td>\n",
       "    </tr>\n",
       "    <tr>\n",
       "      <th>58</th>\n",
       "      <td>2019-08-30</td>\n",
       "      <td>A</td>\n",
       "      <td>1364.3</td>\n",
       "      <td>11</td>\n",
       "      <td>63563.5</td>\n",
       "      <td>545</td>\n",
       "      <td>116.630275</td>\n",
       "    </tr>\n",
       "    <tr>\n",
       "      <th>59</th>\n",
       "      <td>2019-08-30</td>\n",
       "      <td>B</td>\n",
       "      <td>3393.3</td>\n",
       "      <td>24</td>\n",
       "      <td>90736.3</td>\n",
       "      <td>620</td>\n",
       "      <td>146.348871</td>\n",
       "    </tr>\n",
       "    <tr>\n",
       "      <th>60</th>\n",
       "      <td>2019-08-31</td>\n",
       "      <td>A</td>\n",
       "      <td>991.4</td>\n",
       "      <td>12</td>\n",
       "      <td>64554.9</td>\n",
       "      <td>557</td>\n",
       "      <td>115.897487</td>\n",
       "    </tr>\n",
       "    <tr>\n",
       "      <th>61</th>\n",
       "      <td>2019-08-31</td>\n",
       "      <td>B</td>\n",
       "      <td>2104.3</td>\n",
       "      <td>20</td>\n",
       "      <td>92840.6</td>\n",
       "      <td>640</td>\n",
       "      <td>145.063438</td>\n",
       "    </tr>\n",
       "  </tbody>\n",
       "</table>\n",
       "<p>62 rows × 7 columns</p>\n",
       "</div>"
      ],
      "text/plain": [
       "         date group  revenue  transactionId  cumulative_revenue  \\\n",
       "0  2019-08-01     A   2356.8             24              2356.8   \n",
       "1  2019-08-01     B   1620.0             21              1620.0   \n",
       "2  2019-08-02     A   1503.5             20              3860.3   \n",
       "3  2019-08-02     B   2623.8             24              4243.8   \n",
       "4  2019-08-03     A   1815.2             24              5675.5   \n",
       "..        ...   ...      ...            ...                 ...   \n",
       "57 2019-08-29     B   3623.7             20             87343.0   \n",
       "58 2019-08-30     A   1364.3             11             63563.5   \n",
       "59 2019-08-30     B   3393.3             24             90736.3   \n",
       "60 2019-08-31     A    991.4             12             64554.9   \n",
       "61 2019-08-31     B   2104.3             20             92840.6   \n",
       "\n",
       "    cumulative_orders  cumulative_avg_order_size  \n",
       "0                  24                  98.200000  \n",
       "1                  21                  77.142857  \n",
       "2                  44                  87.734091  \n",
       "3                  45                  94.306667  \n",
       "4                  68                  83.463235  \n",
       "..                ...                        ...  \n",
       "57                596                 146.548658  \n",
       "58                545                 116.630275  \n",
       "59                620                 146.348871  \n",
       "60                557                 115.897487  \n",
       "61                640                 145.063438  \n",
       "\n",
       "[62 rows x 7 columns]"
      ]
     },
     "execution_count": 28,
     "metadata": {},
     "output_type": "execute_result"
    }
   ],
   "source": [
    "# Calculate cumulative sum separately for each group\n",
    "cumulative_data[\"cumulative_revenue\"] = cumulative_data.groupby(\"group\")[\"revenue\"].cumsum()\n",
    "cumulative_data[\"cumulative_orders\"] = cumulative_data.groupby(\"group\")[\"transactionId\"].cumsum()\n",
    "\n",
    "# Calculate cumulative average order size\n",
    "cumulative_data[\"cumulative_avg_order_size\"] = cumulative_data[\"cumulative_revenue\"] / cumulative_data[\"cumulative_orders\"]\n",
    "cumulative_data\n"
   ]
  },
  {
   "cell_type": "code",
   "execution_count": 29,
   "id": "37ce47ea-8ca5-49f8-a471-a19c30d95b5b",
   "metadata": {},
   "outputs": [
    {
     "data": {
      "image/png": "[encoded data removed]",
      "text/plain": [
       "<Figure size 1000x600 with 1 Axes>"
      ]
     },
     "metadata": {},
     "output_type": "display_data"
    }
   ],
   "source": [
    "# Plot cumulative average order size by group\n",
    "plt.figure(figsize=(10, 6))\n",
    "for group in cumulative_data[\"group\"].unique():\n",
    "    subset = cumulative_data[cumulative_data[\"group\"] == group]\n",
    "    plt.plot(subset[\"date\"], subset[\"cumulative_avg_order_size\"], label=f\"Group {group}\")\n",
    "\n",
    "plt.xlabel(\"Date\")\n",
    "plt.ylabel(\"Cumulative Average Order Size\")\n",
    "plt.title(\"Cumulative Average Order Size by Group\")\n",
    "plt.legend()\n",
    "plt.grid(True)\n",
    "plt.xticks(rotation=45)\n",
    "plt.show()"
   ]
  },
  {
   "cell_type": "markdown",
   "id": "181b6a53-ff5c-4b68-9822-24881c8a8177",
   "metadata": {},
   "source": [
    "### Cumulative Average Order Size Analysis\n",
    "\n",
    "1. **Group B has a higher cumulative average order size overall**:\n",
    "   - Initially, both groups fluctuate, but Group B consistently maintains a higher value.\n",
    "   - Around mid-August, Group B experiences a sharp increase in order size.\n",
    "\n",
    "2. **Sharp spike in Group B**:\n",
    "   - This sudden jump suggests a **few large orders significantly impacted the average**.\n",
    "   - After the spike, Group B stabilizes at a higher level than Group A.\n",
    "\n",
    "3. **Group A shows a stable trend**:\n",
    "   - Group A exhibits minor fluctuations but remains **relatively stable** after mid-August.\n",
    "   - No significant jumps or anomalies are observed.\n",
    "\n",
    "#### **Possible Explanations**\n",
    "  - Large transactions might have distorted the cumulative trend.\n",
    "  - Customers in Group B could be placing larger but less frequent orders.\n",
    "  - A specific event might have encouraged bigger spending in Group B."
   ]
  },
  {
   "cell_type": "markdown",
   "id": "cebf8183",
   "metadata": {},
   "source": [
    "<div class=\"alert alert-block alert-success\">✔️\n",
    "    \n",
    "\n",
    "__Reviewer's comment №1__\n",
    "\n",
    "In basics, group B also outperforms in average check, although there are no stable growth dynamics here as were in revenue indicators. For about a week, group A's average order is higher than group B's, but then in group B we also see the same spike in numbers, which means the increase in revenue is not related to the increase in the number of orders."
   ]
  },
  {
   "cell_type": "markdown",
   "id": "fbf0cdd6-1dc5-4a34-8759-e406dd4a27fc",
   "metadata": {},
   "source": [
    "##  **Relative difference in cumulative average order size for group B compared with group A**"
   ]
  },
  {
   "cell_type": "code",
   "execution_count": 30,
   "id": "e15d6cc3",
   "metadata": {},
   "outputs": [
    {
     "data": {
      "text/html": [
       "<div>\n",
       "<style scoped>\n",
       "    .dataframe tbody tr th:only-of-type {\n",
       "        vertical-align: middle;\n",
       "    }\n",
       "\n",
       "    .dataframe tbody tr th {\n",
       "        vertical-align: top;\n",
       "    }\n",
       "\n",
       "    .dataframe thead th {\n",
       "        text-align: right;\n",
       "    }\n",
       "</style>\n",
       "<table border=\"1\" class=\"dataframe\">\n",
       "  <thead>\n",
       "    <tr style=\"text-align: right;\">\n",
       "      <th>group</th>\n",
       "      <th>A</th>\n",
       "      <th>B</th>\n",
       "      <th>relative_difference</th>\n",
       "    </tr>\n",
       "    <tr>\n",
       "      <th>date</th>\n",
       "      <th></th>\n",
       "      <th></th>\n",
       "      <th></th>\n",
       "    </tr>\n",
       "  </thead>\n",
       "  <tbody>\n",
       "    <tr>\n",
       "      <th>2019-08-01</th>\n",
       "      <td>98.200000</td>\n",
       "      <td>77.142857</td>\n",
       "      <td>-21.443119</td>\n",
       "    </tr>\n",
       "    <tr>\n",
       "      <th>2019-08-02</th>\n",
       "      <td>87.734091</td>\n",
       "      <td>94.306667</td>\n",
       "      <td>7.491473</td>\n",
       "    </tr>\n",
       "    <tr>\n",
       "      <th>2019-08-03</th>\n",
       "      <td>83.463235</td>\n",
       "      <td>99.190164</td>\n",
       "      <td>18.842942</td>\n",
       "    </tr>\n",
       "    <tr>\n",
       "      <th>2019-08-04</th>\n",
       "      <td>81.215476</td>\n",
       "      <td>99.588462</td>\n",
       "      <td>22.622518</td>\n",
       "    </tr>\n",
       "    <tr>\n",
       "      <th>2019-08-05</th>\n",
       "      <td>80.827523</td>\n",
       "      <td>91.711881</td>\n",
       "      <td>13.466153</td>\n",
       "    </tr>\n",
       "    <tr>\n",
       "      <th>2019-08-06</th>\n",
       "      <td>75.590551</td>\n",
       "      <td>101.312403</td>\n",
       "      <td>34.027867</td>\n",
       "    </tr>\n",
       "    <tr>\n",
       "      <th>2019-08-07</th>\n",
       "      <td>81.675172</td>\n",
       "      <td>108.501961</td>\n",
       "      <td>32.845708</td>\n",
       "    </tr>\n",
       "    <tr>\n",
       "      <th>2019-08-08</th>\n",
       "      <td>83.063975</td>\n",
       "      <td>111.603333</td>\n",
       "      <td>34.358286</td>\n",
       "    </tr>\n",
       "    <tr>\n",
       "      <th>2019-08-09</th>\n",
       "      <td>92.205650</td>\n",
       "      <td>110.471707</td>\n",
       "      <td>19.810128</td>\n",
       "    </tr>\n",
       "    <tr>\n",
       "      <th>2019-08-10</th>\n",
       "      <td>101.598964</td>\n",
       "      <td>106.873246</td>\n",
       "      <td>5.191275</td>\n",
       "    </tr>\n",
       "    <tr>\n",
       "      <th>2019-08-11</th>\n",
       "      <td>101.156796</td>\n",
       "      <td>104.681743</td>\n",
       "      <td>3.484636</td>\n",
       "    </tr>\n",
       "    <tr>\n",
       "      <th>2019-08-12</th>\n",
       "      <td>107.604783</td>\n",
       "      <td>104.068182</td>\n",
       "      <td>-3.286658</td>\n",
       "    </tr>\n",
       "    <tr>\n",
       "      <th>2019-08-13</th>\n",
       "      <td>118.221311</td>\n",
       "      <td>103.101754</td>\n",
       "      <td>-12.789198</td>\n",
       "    </tr>\n",
       "    <tr>\n",
       "      <th>2019-08-14</th>\n",
       "      <td>111.607463</td>\n",
       "      <td>104.206818</td>\n",
       "      <td>-6.630958</td>\n",
       "    </tr>\n",
       "    <tr>\n",
       "      <th>2019-08-15</th>\n",
       "      <td>110.667845</td>\n",
       "      <td>110.494395</td>\n",
       "      <td>-0.156730</td>\n",
       "    </tr>\n",
       "    <tr>\n",
       "      <th>2019-08-16</th>\n",
       "      <td>109.362458</td>\n",
       "      <td>111.853203</td>\n",
       "      <td>2.277514</td>\n",
       "    </tr>\n",
       "    <tr>\n",
       "      <th>2019-08-17</th>\n",
       "      <td>108.436013</td>\n",
       "      <td>111.090617</td>\n",
       "      <td>2.448083</td>\n",
       "    </tr>\n",
       "    <tr>\n",
       "      <th>2019-08-18</th>\n",
       "      <td>106.388415</td>\n",
       "      <td>111.208639</td>\n",
       "      <td>4.530779</td>\n",
       "    </tr>\n",
       "    <tr>\n",
       "      <th>2019-08-19</th>\n",
       "      <td>108.241429</td>\n",
       "      <td>160.165261</td>\n",
       "      <td>47.970387</td>\n",
       "    </tr>\n",
       "    <tr>\n",
       "      <th>2019-08-20</th>\n",
       "      <td>108.057459</td>\n",
       "      <td>158.087943</td>\n",
       "      <td>46.299890</td>\n",
       "    </tr>\n",
       "    <tr>\n",
       "      <th>2019-08-21</th>\n",
       "      <td>108.759221</td>\n",
       "      <td>158.872082</td>\n",
       "      <td>46.076885</td>\n",
       "    </tr>\n",
       "    <tr>\n",
       "      <th>2019-08-22</th>\n",
       "      <td>108.866833</td>\n",
       "      <td>155.817965</td>\n",
       "      <td>43.127123</td>\n",
       "    </tr>\n",
       "    <tr>\n",
       "      <th>2019-08-23</th>\n",
       "      <td>106.909859</td>\n",
       "      <td>154.690566</td>\n",
       "      <td>44.692517</td>\n",
       "    </tr>\n",
       "    <tr>\n",
       "      <th>2019-08-24</th>\n",
       "      <td>107.814739</td>\n",
       "      <td>152.767951</td>\n",
       "      <td>41.694867</td>\n",
       "    </tr>\n",
       "    <tr>\n",
       "      <th>2019-08-25</th>\n",
       "      <td>107.816408</td>\n",
       "      <td>151.757594</td>\n",
       "      <td>40.755565</td>\n",
       "    </tr>\n",
       "    <tr>\n",
       "      <th>2019-08-26</th>\n",
       "      <td>109.400428</td>\n",
       "      <td>150.078008</td>\n",
       "      <td>37.182285</td>\n",
       "    </tr>\n",
       "    <tr>\n",
       "      <th>2019-08-27</th>\n",
       "      <td>112.325455</td>\n",
       "      <td>149.929380</td>\n",
       "      <td>33.477652</td>\n",
       "    </tr>\n",
       "    <tr>\n",
       "      <th>2019-08-28</th>\n",
       "      <td>111.725977</td>\n",
       "      <td>145.346007</td>\n",
       "      <td>30.091507</td>\n",
       "    </tr>\n",
       "    <tr>\n",
       "      <th>2019-08-29</th>\n",
       "      <td>116.477903</td>\n",
       "      <td>146.548658</td>\n",
       "      <td>25.816704</td>\n",
       "    </tr>\n",
       "    <tr>\n",
       "      <th>2019-08-30</th>\n",
       "      <td>116.630275</td>\n",
       "      <td>146.348871</td>\n",
       "      <td>25.481030</td>\n",
       "    </tr>\n",
       "    <tr>\n",
       "      <th>2019-08-31</th>\n",
       "      <td>115.897487</td>\n",
       "      <td>145.063438</td>\n",
       "      <td>25.165301</td>\n",
       "    </tr>\n",
       "  </tbody>\n",
       "</table>\n",
       "</div>"
      ],
      "text/plain": [
       "group                A           B  relative_difference\n",
       "date                                                   \n",
       "2019-08-01   98.200000   77.142857           -21.443119\n",
       "2019-08-02   87.734091   94.306667             7.491473\n",
       "2019-08-03   83.463235   99.190164            18.842942\n",
       "2019-08-04   81.215476   99.588462            22.622518\n",
       "2019-08-05   80.827523   91.711881            13.466153\n",
       "2019-08-06   75.590551  101.312403            34.027867\n",
       "2019-08-07   81.675172  108.501961            32.845708\n",
       "2019-08-08   83.063975  111.603333            34.358286\n",
       "2019-08-09   92.205650  110.471707            19.810128\n",
       "2019-08-10  101.598964  106.873246             5.191275\n",
       "2019-08-11  101.156796  104.681743             3.484636\n",
       "2019-08-12  107.604783  104.068182            -3.286658\n",
       "2019-08-13  118.221311  103.101754           -12.789198\n",
       "2019-08-14  111.607463  104.206818            -6.630958\n",
       "2019-08-15  110.667845  110.494395            -0.156730\n",
       "2019-08-16  109.362458  111.853203             2.277514\n",
       "2019-08-17  108.436013  111.090617             2.448083\n",
       "2019-08-18  106.388415  111.208639             4.530779\n",
       "2019-08-19  108.241429  160.165261            47.970387\n",
       "2019-08-20  108.057459  158.087943            46.299890\n",
       "2019-08-21  108.759221  158.872082            46.076885\n",
       "2019-08-22  108.866833  155.817965            43.127123\n",
       "2019-08-23  106.909859  154.690566            44.692517\n",
       "2019-08-24  107.814739  152.767951            41.694867\n",
       "2019-08-25  107.816408  151.757594            40.755565\n",
       "2019-08-26  109.400428  150.078008            37.182285\n",
       "2019-08-27  112.325455  149.929380            33.477652\n",
       "2019-08-28  111.725977  145.346007            30.091507\n",
       "2019-08-29  116.477903  146.548658            25.816704\n",
       "2019-08-30  116.630275  146.348871            25.481030\n",
       "2019-08-31  115.897487  145.063438            25.165301"
      ]
     },
     "execution_count": 30,
     "metadata": {},
     "output_type": "execute_result"
    }
   ],
   "source": [
    "# Ensure 'group' is a string type to avoid categorical issues\n",
    "cumulative_data[\"group\"] = cumulative_data[\"group\"].astype(str)\n",
    "\n",
    "# Pivot the data to get Group A and B on the same row\n",
    "pivot_data = cumulative_data.pivot(index=\"date\", columns=\"group\", values=\"cumulative_avg_order_size\")\n",
    "\n",
    "# Convert column names to strings to avoid potential category issues\n",
    "pivot_data.columns = pivot_data.columns.astype(str)\n",
    "\n",
    "# Fill missing values (NaN) with 0 to avoid calculation errors\n",
    "pivot_data = pivot_data.fillna(0)\n",
    "\n",
    "# Calculate the relative difference: (B - A) / A\n",
    "pivot_data[\"relative_difference\"] = ((pivot_data[\"B\"] - pivot_data[\"A\"]) / pivot_data[\"A\"]) * 100\n",
    "\n",
    "pivot_data\n",
    "\n"
   ]
  },
  {
   "cell_type": "code",
   "execution_count": 31,
   "id": "747f9fb5-e25f-4ed4-955f-64468c2ef463",
   "metadata": {},
   "outputs": [
    {
     "data": {
      "image/png": "[encoded data removed]",
      "text/plain": [
       "<Figure size 1000x600 with 1 Axes>"
      ]
     },
     "metadata": {},
     "output_type": "display_data"
    }
   ],
   "source": [
    "# Plot the relative difference over time\n",
    "plt.figure(figsize=(10, 6))\n",
    "plt.plot(pivot_data.index, pivot_data[\"relative_difference\"], label=\"Relative Difference (B vs A)\", color='black')\n",
    "\n",
    "plt.axhline(y=0, color='red', linestyle='--', linewidth=1)  # Reference line at 0%\n",
    "plt.xlabel(\"Date\")\n",
    "plt.ylabel(\"Relative Difference\")\n",
    "plt.title(\"Relative Difference in Cumulative Average Order Size (B vs A)\")\n",
    "plt.legend()\n",
    "plt.grid(True)\n",
    "plt.xticks(rotation=45)\n",
    "plt.show()"
   ]
  },
  {
   "cell_type": "markdown",
   "id": "556e39c6-1179-4aa6-acb2-94262909a124",
   "metadata": {},
   "source": [
    "## Relative Difference in Cumulative Average Order Size (B vs A)\n",
    "\n",
    "1. **Fluctuations in Relative Difference**:\n",
    "   - The difference swings between **-20% to 50%**, suggesting major fluctuations.\n",
    "\n",
    "2. **Sharp Increase Around Mid-August**:\n",
    "   - After a dip below zero (where Group A had a higher average order size), Group B saw a **significant increase**, reaching nearly **50% higher than Group A**.\n",
    "   - This sharp rise may be due to **large purchases in Group B** or an **anomaly**.\n",
    "\n",
    "3. **Decline Toward the End of the Period**:\n",
    "   - Although Group B maintains an advantage, the difference **decreases from 50% to around 25%**.\n",
    "   - This suggests that Group A's average order size **became more competitive** over time.\n",
    "\n",
    "### **Possible Explanations**\n",
    "  - Large orders might have caused temporary spikes.\n",
    "  - Group B users may have initially made larger orders, but the trend **stabilized** later.\n",
    "  - Special offers may have temporarily increased order sizes in Group B."
   ]
  },
  {
   "cell_type": "markdown",
   "id": "def121e0",
   "metadata": {},
   "source": [
    "<div class=\"alert alert-block alert-success\">✔️\n",
    "    \n",
    "\n",
    "__Reviewer's comment №1__\n",
    "    \n",
    "All right    "
   ]
  },
  {
   "cell_type": "markdown",
   "id": "96709de9-4909-444b-b427-d21bdf6f6845",
   "metadata": {},
   "source": [
    "## **Conversion rate of each group's as the ratio of orders to the number of visits for each day.**"
   ]
  },
  {
   "cell_type": "code",
   "execution_count": 32,
   "id": "53dc8916-f126-48b3-972e-cb4704204cba",
   "metadata": {},
   "outputs": [
    {
     "data": {
      "text/html": [
       "<div>\n",
       "<style scoped>\n",
       "    .dataframe tbody tr th:only-of-type {\n",
       "        vertical-align: middle;\n",
       "    }\n",
       "\n",
       "    .dataframe tbody tr th {\n",
       "        vertical-align: top;\n",
       "    }\n",
       "\n",
       "    .dataframe thead th {\n",
       "        text-align: right;\n",
       "    }\n",
       "</style>\n",
       "<table border=\"1\" class=\"dataframe\">\n",
       "  <thead>\n",
       "    <tr style=\"text-align: right;\">\n",
       "      <th></th>\n",
       "      <th>date</th>\n",
       "      <th>group</th>\n",
       "      <th>orders</th>\n",
       "      <th>visits</th>\n",
       "      <th>conversion_rate</th>\n",
       "    </tr>\n",
       "  </thead>\n",
       "  <tbody>\n",
       "    <tr>\n",
       "      <th>0</th>\n",
       "      <td>2019-08-01</td>\n",
       "      <td>A</td>\n",
       "      <td>24</td>\n",
       "      <td>719</td>\n",
       "      <td>3.34</td>\n",
       "    </tr>\n",
       "    <tr>\n",
       "      <th>1</th>\n",
       "      <td>2019-08-01</td>\n",
       "      <td>B</td>\n",
       "      <td>21</td>\n",
       "      <td>713</td>\n",
       "      <td>2.95</td>\n",
       "    </tr>\n",
       "    <tr>\n",
       "      <th>2</th>\n",
       "      <td>2019-08-02</td>\n",
       "      <td>A</td>\n",
       "      <td>20</td>\n",
       "      <td>619</td>\n",
       "      <td>3.23</td>\n",
       "    </tr>\n",
       "    <tr>\n",
       "      <th>3</th>\n",
       "      <td>2019-08-02</td>\n",
       "      <td>B</td>\n",
       "      <td>24</td>\n",
       "      <td>581</td>\n",
       "      <td>4.13</td>\n",
       "    </tr>\n",
       "    <tr>\n",
       "      <th>4</th>\n",
       "      <td>2019-08-03</td>\n",
       "      <td>A</td>\n",
       "      <td>24</td>\n",
       "      <td>507</td>\n",
       "      <td>4.73</td>\n",
       "    </tr>\n",
       "    <tr>\n",
       "      <th>...</th>\n",
       "      <td>...</td>\n",
       "      <td>...</td>\n",
       "      <td>...</td>\n",
       "      <td>...</td>\n",
       "      <td>...</td>\n",
       "    </tr>\n",
       "    <tr>\n",
       "      <th>57</th>\n",
       "      <td>2019-08-29</td>\n",
       "      <td>B</td>\n",
       "      <td>20</td>\n",
       "      <td>531</td>\n",
       "      <td>3.77</td>\n",
       "    </tr>\n",
       "    <tr>\n",
       "      <th>58</th>\n",
       "      <td>2019-08-30</td>\n",
       "      <td>A</td>\n",
       "      <td>11</td>\n",
       "      <td>490</td>\n",
       "      <td>2.24</td>\n",
       "    </tr>\n",
       "    <tr>\n",
       "      <th>59</th>\n",
       "      <td>2019-08-30</td>\n",
       "      <td>B</td>\n",
       "      <td>24</td>\n",
       "      <td>490</td>\n",
       "      <td>4.90</td>\n",
       "    </tr>\n",
       "    <tr>\n",
       "      <th>60</th>\n",
       "      <td>2019-08-31</td>\n",
       "      <td>A</td>\n",
       "      <td>12</td>\n",
       "      <td>699</td>\n",
       "      <td>1.72</td>\n",
       "    </tr>\n",
       "    <tr>\n",
       "      <th>61</th>\n",
       "      <td>2019-08-31</td>\n",
       "      <td>B</td>\n",
       "      <td>20</td>\n",
       "      <td>718</td>\n",
       "      <td>2.79</td>\n",
       "    </tr>\n",
       "  </tbody>\n",
       "</table>\n",
       "<p>62 rows × 5 columns</p>\n",
       "</div>"
      ],
      "text/plain": [
       "         date group  orders  visits  conversion_rate\n",
       "0  2019-08-01     A      24     719             3.34\n",
       "1  2019-08-01     B      21     713             2.95\n",
       "2  2019-08-02     A      20     619             3.23\n",
       "3  2019-08-02     B      24     581             4.13\n",
       "4  2019-08-03     A      24     507             4.73\n",
       "..        ...   ...     ...     ...              ...\n",
       "57 2019-08-29     B      20     531             3.77\n",
       "58 2019-08-30     A      11     490             2.24\n",
       "59 2019-08-30     B      24     490             4.90\n",
       "60 2019-08-31     A      12     699             1.72\n",
       "61 2019-08-31     B      20     718             2.79\n",
       "\n",
       "[62 rows x 5 columns]"
      ]
     },
     "execution_count": 32,
     "metadata": {},
     "output_type": "execute_result"
    }
   ],
   "source": [
    "# Calculate the number of orders per group per day\n",
    "orders_per_day = orders.groupby([\"date\", \"group\"])[\"transactionId\"].count().reset_index()\n",
    "orders_per_day.rename(columns={\"transactionId\": \"orders\"}, inplace=True)\n",
    "\n",
    "# Merge orders and visits data\n",
    "conversion_data = pd.merge(orders_per_day, visits, on=[\"date\", \"group\"], how ='left')\n",
    "\n",
    "# Calculate daily conversion rate (orders / visits)\n",
    "conversion_data[\"conversion_rate\"] = round((conversion_data[\"orders\"] / conversion_data[\"visits\"])*100,2)\n",
    "conversion_data\n"
   ]
  },
  {
   "cell_type": "code",
   "execution_count": 33,
   "id": "4dc39701-f210-4e53-a931-5dace66e2024",
   "metadata": {},
   "outputs": [
    {
     "data": {
      "image/png": "[encoded data removed]",
      "text/plain": [
       "<Figure size 1000x600 with 1 Axes>"
      ]
     },
     "metadata": {},
     "output_type": "display_data"
    }
   ],
   "source": [
    "# Plot daily conversion rates for both groups\n",
    "plt.figure(figsize=(10, 6))\n",
    "for group in conversion_data[\"group\"].unique():\n",
    "    subset = conversion_data[conversion_data[\"group\"] == group]\n",
    "    plt.plot(subset[\"date\"], subset[\"conversion_rate\"], label=f\"Group {group}\")\n",
    "\n",
    "plt.xlabel(\"Date\")\n",
    "plt.ylabel(\"Conversion Rate\")\n",
    "plt.title(\"Daily Conversion Rate by Group\")\n",
    "plt.legend()\n",
    "plt.grid(True)\n",
    "\n",
    "plt.xticks(rotation=45)\n",
    "plt.show()"
   ]
  },
  {
   "cell_type": "markdown",
   "id": "039eb111-3d0c-4de1-931f-17cafc68db68",
   "metadata": {},
   "source": [
    "### Daily Conversion Rate Analysis\n",
    "\n",
    "1. **Fluctuations in Conversion Rate**:\n",
    "   - Both Group A and Group B show high variability in daily conversion rates.\n",
    "   - Conversion rates range from **~1% to over 6%**, indicating inconsistent user behavior.\n",
    "\n",
    "2. **No Clear Leader**:\n",
    "   - Some days, **Group A has a higher conversion rate**, while on others, **Group B leads**.\n",
    "   - This suggests that **neither group consistently outperforms the other** in terms of conversion rate.\n",
    "\n",
    "### **Possible Explanations**\n",
    "- **Spikes in conversion rate may be caused by individual large transactions or high-converting traffic sources.**\n",
    "- **If a marketing campaign was targeted at one group, this could influence conversion rates.**\n"
   ]
  },
  {
   "cell_type": "markdown",
   "id": "a84422bb-5251-4201-84f5-3b9d1a5a7fc9",
   "metadata": {},
   "source": [
    "## **The number of orders per user.**"
   ]
  },
  {
   "cell_type": "code",
   "execution_count": 34,
   "id": "06d4036a-a7ba-4b22-825e-e7a0820cd16f",
   "metadata": {},
   "outputs": [
    {
     "data": {
      "text/html": [
       "<div>\n",
       "<style scoped>\n",
       "    .dataframe tbody tr th:only-of-type {\n",
       "        vertical-align: middle;\n",
       "    }\n",
       "\n",
       "    .dataframe tbody tr th {\n",
       "        vertical-align: top;\n",
       "    }\n",
       "\n",
       "    .dataframe thead th {\n",
       "        text-align: right;\n",
       "    }\n",
       "</style>\n",
       "<table border=\"1\" class=\"dataframe\">\n",
       "  <thead>\n",
       "    <tr style=\"text-align: right;\">\n",
       "      <th></th>\n",
       "      <th>visitorId</th>\n",
       "      <th>order_count</th>\n",
       "    </tr>\n",
       "  </thead>\n",
       "  <tbody>\n",
       "    <tr>\n",
       "      <th>1023</th>\n",
       "      <td>4256040402</td>\n",
       "      <td>11</td>\n",
       "    </tr>\n",
       "    <tr>\n",
       "      <th>591</th>\n",
       "      <td>2458001652</td>\n",
       "      <td>11</td>\n",
       "    </tr>\n",
       "    <tr>\n",
       "      <th>569</th>\n",
       "      <td>2378935119</td>\n",
       "      <td>9</td>\n",
       "    </tr>\n",
       "    <tr>\n",
       "      <th>487</th>\n",
       "      <td>2038680547</td>\n",
       "      <td>8</td>\n",
       "    </tr>\n",
       "    <tr>\n",
       "      <th>44</th>\n",
       "      <td>199603092</td>\n",
       "      <td>5</td>\n",
       "    </tr>\n",
       "    <tr>\n",
       "      <th>...</th>\n",
       "      <td>...</td>\n",
       "      <td>...</td>\n",
       "    </tr>\n",
       "    <tr>\n",
       "      <th>359</th>\n",
       "      <td>1484903144</td>\n",
       "      <td>1</td>\n",
       "    </tr>\n",
       "    <tr>\n",
       "      <th>360</th>\n",
       "      <td>1485964287</td>\n",
       "      <td>1</td>\n",
       "    </tr>\n",
       "    <tr>\n",
       "      <th>361</th>\n",
       "      <td>1494664757</td>\n",
       "      <td>1</td>\n",
       "    </tr>\n",
       "    <tr>\n",
       "      <th>362</th>\n",
       "      <td>1495112755</td>\n",
       "      <td>1</td>\n",
       "    </tr>\n",
       "    <tr>\n",
       "      <th>1030</th>\n",
       "      <td>4283872382</td>\n",
       "      <td>1</td>\n",
       "    </tr>\n",
       "  </tbody>\n",
       "</table>\n",
       "<p>1031 rows × 2 columns</p>\n",
       "</div>"
      ],
      "text/plain": [
       "       visitorId  order_count\n",
       "1023  4256040402           11\n",
       "591   2458001652           11\n",
       "569   2378935119            9\n",
       "487   2038680547            8\n",
       "44     199603092            5\n",
       "...          ...          ...\n",
       "359   1484903144            1\n",
       "360   1485964287            1\n",
       "361   1494664757            1\n",
       "362   1495112755            1\n",
       "1030  4283872382            1\n",
       "\n",
       "[1031 rows x 2 columns]"
      ]
     },
     "execution_count": 34,
     "metadata": {},
     "output_type": "execute_result"
    }
   ],
   "source": [
    "# Calculate number of orders per user\n",
    "orders_per_user = orders.groupby(\"visitorId\")[\"transactionId\"].count().reset_index()\n",
    "\n",
    "orders_per_user.columns = [\"visitorId\", \"order_count\"]\n",
    "orders_per_user.sort_values(by='order_count', ascending= False)"
   ]
  },
  {
   "cell_type": "code",
   "execution_count": 35,
   "id": "141d1305-ec7e-4fbc-ba00-d7e100ac0d0e",
   "metadata": {},
   "outputs": [
    {
     "data": {
      "image/png": "[encoded data removed]",
      "text/plain": [
       "<Figure size 1000x600 with 1 Axes>"
      ]
     },
     "metadata": {},
     "output_type": "display_data"
    }
   ],
   "source": [
    "# Plot scatter chart\n",
    "plt.figure(figsize=(10, 6))\n",
    "plt.scatter(range(len(orders_per_user)), orders_per_user[\"order_count\"], alpha=0.5)\n",
    "plt.xlabel(\"User Index\")\n",
    "plt.ylabel(\"Number of Orders\")\n",
    "plt.title(\"Scatter Plot of Number of Orders per User\")\n",
    "plt.grid(True)\n",
    "plt.show()"
   ]
  },
  {
   "cell_type": "markdown",
   "id": "e96c10f7-1745-4d24-9c8f-c68a57df1bbf",
   "metadata": {},
   "source": [
    "### Number of Orders per User Analysis\n",
    "\n",
    "   - The majority of users have just **one order**, as seen in the scatter plot and data.\n",
    "   - This suggests that the store has a **low rate of repeat purchases**.\n",
    "\n",
    "   - Some users placed **5, 8, 9, or even 11 orders**, which are potential outliers.\n",
    "\n",
    "### **Possible Explanations**\n",
    "- **Bulk buyers or business accounts** might be making multiple purchases.\n",
    "- **Loyalty programs or discounts** could be encouraging repeat purchases."
   ]
  },
  {
   "cell_type": "markdown",
   "id": "8fb14abe",
   "metadata": {},
   "source": [
    "<div class=\"alert alert-block alert-success\">✔️\n",
    "    \n",
    "\n",
    "__Reviewer's comment №1__\n",
    "    \n",
    "Great    "
   ]
  },
  {
   "cell_type": "markdown",
   "id": "5ee202ef-4f07-4747-aafc-982c77f6b22a",
   "metadata": {},
   "source": [
    "## **The 95th and 99th percentiles for the number of orders per user.**"
   ]
  },
  {
   "cell_type": "code",
   "execution_count": 36,
   "id": "01c6af24-688f-4819-8961-d8f0c02c36c3",
   "metadata": {},
   "outputs": [
    {
     "name": "stdout",
     "output_type": "stream",
     "text": [
      "Percentile 95: 2.0\n",
      "Percentile 99: 4.0\n"
     ]
    }
   ],
   "source": [
    "# Calculate the 95th and 99th percentiles for the number of orders per user\n",
    "percentile_95 = np.percentile(orders_per_user[\"order_count\"], 95)\n",
    "percentile_99 = np.percentile(orders_per_user[\"order_count\"], 99)\n",
    "print( 'Percentile 95:', percentile_95)\n",
    "print( 'Percentile 99:', percentile_99)\n"
   ]
  },
  {
   "cell_type": "markdown",
   "id": "ad300c1a-ea61-4ad0-9aa5-097f90f23ac0",
   "metadata": {},
   "source": [
    "\n",
    "**95th percentile (2.0):**\n",
    "\n",
    "- 95% of users placed 2 or fewer orders.\n",
    "- Only 5% of users placed more than 2 orders.\n",
    " \n",
    "**99th percentile (4.0):**\n",
    "\n",
    "- 99% of users placed 4 or fewer orders.\n",
    "- Only 1% of users placed more than 4 orders."
   ]
  },
  {
   "cell_type": "code",
   "execution_count": 37,
   "id": "969c2a7b-6cf5-466b-a28e-e6d260dade18",
   "metadata": {},
   "outputs": [
    {
     "data": {
      "text/html": [
       "<div>\n",
       "<style scoped>\n",
       "    .dataframe tbody tr th:only-of-type {\n",
       "        vertical-align: middle;\n",
       "    }\n",
       "\n",
       "    .dataframe tbody tr th {\n",
       "        vertical-align: top;\n",
       "    }\n",
       "\n",
       "    .dataframe thead th {\n",
       "        text-align: right;\n",
       "    }\n",
       "</style>\n",
       "<table border=\"1\" class=\"dataframe\">\n",
       "  <thead>\n",
       "    <tr style=\"text-align: right;\">\n",
       "      <th></th>\n",
       "      <th>visitorId</th>\n",
       "      <th>order_count</th>\n",
       "    </tr>\n",
       "  </thead>\n",
       "  <tbody>\n",
       "    <tr>\n",
       "      <th>count</th>\n",
       "      <td>1.031000e+03</td>\n",
       "      <td>1031.000000</td>\n",
       "    </tr>\n",
       "    <tr>\n",
       "      <th>mean</th>\n",
       "      <td>2.130713e+09</td>\n",
       "      <td>1.161009</td>\n",
       "    </tr>\n",
       "    <tr>\n",
       "      <th>std</th>\n",
       "      <td>1.228157e+09</td>\n",
       "      <td>0.724919</td>\n",
       "    </tr>\n",
       "    <tr>\n",
       "      <th>min</th>\n",
       "      <td>5.114589e+06</td>\n",
       "      <td>1.000000</td>\n",
       "    </tr>\n",
       "    <tr>\n",
       "      <th>25%</th>\n",
       "      <td>1.048013e+09</td>\n",
       "      <td>1.000000</td>\n",
       "    </tr>\n",
       "    <tr>\n",
       "      <th>50%</th>\n",
       "      <td>2.147999e+09</td>\n",
       "      <td>1.000000</td>\n",
       "    </tr>\n",
       "    <tr>\n",
       "      <th>75%</th>\n",
       "      <td>3.154897e+09</td>\n",
       "      <td>1.000000</td>\n",
       "    </tr>\n",
       "    <tr>\n",
       "      <th>max</th>\n",
       "      <td>4.283872e+09</td>\n",
       "      <td>11.000000</td>\n",
       "    </tr>\n",
       "  </tbody>\n",
       "</table>\n",
       "</div>"
      ],
      "text/plain": [
       "          visitorId  order_count\n",
       "count  1.031000e+03  1031.000000\n",
       "mean   2.130713e+09     1.161009\n",
       "std    1.228157e+09     0.724919\n",
       "min    5.114589e+06     1.000000\n",
       "25%    1.048013e+09     1.000000\n",
       "50%    2.147999e+09     1.000000\n",
       "75%    3.154897e+09     1.000000\n",
       "max    4.283872e+09    11.000000"
      ]
     },
     "execution_count": 37,
     "metadata": {},
     "output_type": "execute_result"
    }
   ],
   "source": [
    "orders_per_user.describe()"
   ]
  },
  {
   "cell_type": "code",
   "execution_count": 38,
   "id": "d08ff637-3747-4ff5-88a1-9022d2d8429f",
   "metadata": {},
   "outputs": [
    {
     "name": "stdout",
     "output_type": "stream",
     "text": [
      "Orders above 4.0 are considered anomalies.\n"
     ]
    }
   ],
   "source": [
    "# Define anomaly threshold (e.g., orders above the 99th percentile)\n",
    "anomaly_threshold = percentile_99\n",
    "# Print threshold for anomalies\n",
    "print(f\"Orders above {anomaly_threshold} are considered anomalies.\")"
   ]
  },
  {
   "cell_type": "markdown",
   "id": "56c53c8d-a10e-478d-a5e4-a2b375a2b699",
   "metadata": {},
   "source": [
    "## **Average check of the order**"
   ]
  },
  {
   "cell_type": "code",
   "execution_count": 39,
   "id": "a6e497c0-c45c-49f9-8ac1-9adccb3cd303",
   "metadata": {},
   "outputs": [
    {
     "data": {
      "text/plain": [
       "131.49164578111947"
      ]
     },
     "execution_count": 39,
     "metadata": {},
     "output_type": "execute_result"
    }
   ],
   "source": [
    "# Calculate the average check (average order value)\n",
    "average_check = orders[\"revenue\"].mean()\n",
    "average_check"
   ]
  },
  {
   "cell_type": "code",
   "execution_count": 40,
   "id": "ee32e879-d24e-4cc7-a28e-6a3e2c860dc6",
   "metadata": {},
   "outputs": [
    {
     "data": {
      "text/html": [
       "<div>\n",
       "<style scoped>\n",
       "    .dataframe tbody tr th:only-of-type {\n",
       "        vertical-align: middle;\n",
       "    }\n",
       "\n",
       "    .dataframe tbody tr th {\n",
       "        vertical-align: top;\n",
       "    }\n",
       "\n",
       "    .dataframe thead th {\n",
       "        text-align: right;\n",
       "    }\n",
       "</style>\n",
       "<table border=\"1\" class=\"dataframe\">\n",
       "  <thead>\n",
       "    <tr style=\"text-align: right;\">\n",
       "      <th></th>\n",
       "      <th>date</th>\n",
       "      <th>transactionId</th>\n",
       "      <th>group</th>\n",
       "      <th>average_check</th>\n",
       "    </tr>\n",
       "  </thead>\n",
       "  <tbody>\n",
       "    <tr>\n",
       "      <th>0</th>\n",
       "      <td>2019-08-01</td>\n",
       "      <td>1062393</td>\n",
       "      <td>A</td>\n",
       "      <td>NaN</td>\n",
       "    </tr>\n",
       "    <tr>\n",
       "      <th>1</th>\n",
       "      <td>2019-08-01</td>\n",
       "      <td>1062393</td>\n",
       "      <td>B</td>\n",
       "      <td>NaN</td>\n",
       "    </tr>\n",
       "    <tr>\n",
       "      <th>2</th>\n",
       "      <td>2019-08-01</td>\n",
       "      <td>4919758</td>\n",
       "      <td>A</td>\n",
       "      <td>NaN</td>\n",
       "    </tr>\n",
       "    <tr>\n",
       "      <th>3</th>\n",
       "      <td>2019-08-01</td>\n",
       "      <td>4919758</td>\n",
       "      <td>B</td>\n",
       "      <td>40.2</td>\n",
       "    </tr>\n",
       "    <tr>\n",
       "      <th>4</th>\n",
       "      <td>2019-08-01</td>\n",
       "      <td>7210578</td>\n",
       "      <td>A</td>\n",
       "      <td>NaN</td>\n",
       "    </tr>\n",
       "  </tbody>\n",
       "</table>\n",
       "</div>"
      ],
      "text/plain": [
       "        date  transactionId group  average_check\n",
       "0 2019-08-01        1062393     A            NaN\n",
       "1 2019-08-01        1062393     B            NaN\n",
       "2 2019-08-01        4919758     A            NaN\n",
       "3 2019-08-01        4919758     B           40.2\n",
       "4 2019-08-01        7210578     A            NaN"
      ]
     },
     "execution_count": 40,
     "metadata": {},
     "output_type": "execute_result"
    }
   ],
   "source": [
    "# Calculate daily average order check\n",
    "daily_avg_check = orders.groupby([\"date\",\"transactionId\", \"group\"])[\"revenue\"].mean().reset_index()\n",
    "daily_avg_check.rename(columns={\"revenue\": \"average_check\"}, inplace=True)\n",
    "daily_avg_check.head()"
   ]
  },
  {
   "cell_type": "code",
   "execution_count": 41,
   "id": "d5b8bbe3-d707-4d1c-8136-6e1622e1804e",
   "metadata": {},
   "outputs": [
    {
     "data": {
      "text/plain": [
       "count     1197.000000\n",
       "mean       131.491646\n",
       "std        603.004729\n",
       "min          5.000000\n",
       "25%         20.800000\n",
       "50%         50.200000\n",
       "75%        130.400000\n",
       "max      19920.400000\n",
       "Name: average_check, dtype: float64"
      ]
     },
     "execution_count": 41,
     "metadata": {},
     "output_type": "execute_result"
    }
   ],
   "source": [
    "daily_avg_check.average_check.describe()"
   ]
  },
  {
   "cell_type": "code",
   "execution_count": 42,
   "id": "f9f31933-f6b4-4ed1-a80f-3bd2da405e8f",
   "metadata": {},
   "outputs": [
    {
     "data": {
      "image/png": "[encoded data removed]",
      "text/plain": [
       "<Figure size 1000x600 with 1 Axes>"
      ]
     },
     "metadata": {},
     "output_type": "display_data"
    }
   ],
   "source": [
    "# Plot average check of the order over time\n",
    "plt.figure(figsize=(10, 6))\n",
    "plt.scatter(daily_avg_check[\"date\"], daily_avg_check[\"average_check\"])\n",
    "\n",
    "plt.xlabel(\"Date\")\n",
    "plt.ylabel(\"Average Order Price\")\n",
    "plt.title(\"Daily Average Check of the Order\")\n",
    "plt.grid(True)\n",
    "plt.xticks(rotation=45)\n",
    "plt.show()"
   ]
  },
  {
   "cell_type": "markdown",
   "id": "61116557-6cc5-461a-8de1-9d3f17a820e0",
   "metadata": {},
   "source": [
    "### Daily Average Check of the Order Analysis\n",
    "\n",
    "- **Average Order Size:** \\$131.49\n",
    "- **Standard Deviation:** \\$603.00 (high variability)\n",
    "- **Extreme Outliers:** The **maximum order size (\\$19,920.40)** is far above the usual range, suggesting an anomaly.  \n",
    "- **Data Skewness:** The **mean (  131.49 ) is much higher than the median (  50.20 )**, meaning **a few large transactions inflate the average**.  \n",
    "- **Most Orders Are Lower:** The majority of orders fall between **20.80 and 130.40**, making the high mean misleading. "
   ]
  },
  {
   "cell_type": "markdown",
   "id": "1e62ec91",
   "metadata": {},
   "source": [
    "<div class=\"alert alert-block alert-success\">✔️\n",
    "    \n",
    "\n",
    "__Reviewer's comment №1__\n",
    "    \n",
    "Well done    "
   ]
  },
  {
   "cell_type": "markdown",
   "id": "fb833eba-d272-4e02-963e-79460f182d5c",
   "metadata": {},
   "source": [
    "## **The 95th and 99th percentiles of order prices.**"
   ]
  },
  {
   "cell_type": "code",
   "execution_count": 43,
   "id": "c105d50a-f59f-4db2-b57c-a875b6a2afb4",
   "metadata": {},
   "outputs": [
    {
     "name": "stdout",
     "output_type": "stream",
     "text": [
      "Percentile 95: 435.54\n",
      "Percentile 99: 900.9039999999999\n"
     ]
    }
   ],
   "source": [
    "# Calculate the 95th and 99th percentiles for order prices\n",
    "percentile_95_price = np.percentile(orders[\"revenue\"], 95)\n",
    "percentile_99_price = np.percentile(orders[\"revenue\"], 99)\n",
    "\n",
    "print( 'Percentile 95:', percentile_95_price)\n",
    "print( 'Percentile 99:', percentile_99_price)"
   ]
  },
  {
   "cell_type": "markdown",
   "id": "e56aaf57-7366-428f-99fc-fc42d90097cc",
   "metadata": {},
   "source": [
    "**95th percentile ($435.54):**\n",
    "\n",
    "- 95% of orders have a price of $435.54 or lower.\n",
    "- Only 5% of orders exceed this price.\n",
    "\n",
    "**99th percentile ($900.90):**\n",
    "\n",
    "- 99% of orders have a price of $900.90 or lower.\n",
    "- Only 1% of orders exceed this price, making them potential anomalies."
   ]
  },
  {
   "cell_type": "code",
   "execution_count": 44,
   "id": "417e360b-5979-4313-b5a7-8ece499b1022",
   "metadata": {},
   "outputs": [
    {
     "data": {
      "text/plain": [
       "count     1197.000000\n",
       "mean       131.491646\n",
       "std        603.004729\n",
       "min          5.000000\n",
       "25%         20.800000\n",
       "50%         50.200000\n",
       "75%        130.400000\n",
       "max      19920.400000\n",
       "Name: revenue, dtype: float64"
      ]
     },
     "execution_count": 44,
     "metadata": {},
     "output_type": "execute_result"
    }
   ],
   "source": [
    "orders[\"revenue\"].describe()"
   ]
  },
  {
   "cell_type": "code",
   "execution_count": 45,
   "id": "6006c6d3-bb59-46e3-879a-535f89c3ac79",
   "metadata": {},
   "outputs": [
    {
     "name": "stdout",
     "output_type": "stream",
     "text": [
      "Orders with prices above 900.9 are considered anomalies.\n"
     ]
    }
   ],
   "source": [
    "# Define anomaly threshold (e.g., prices above the 99th percentile)\n",
    "price_anomaly_threshold = round(percentile_99_price,2)\n",
    "\n",
    "\n",
    "# Print threshold for anomalies\n",
    "print(f\"Orders with prices above {price_anomaly_threshold} are considered anomalies.\")"
   ]
  },
  {
   "cell_type": "markdown",
   "id": "007ad5c8-75dd-48c4-b7b5-950a99fb9a3f",
   "metadata": {},
   "source": [
    "## **The statistical significance of the difference in conversion between the groups using the raw data.**"
   ]
  },
  {
   "cell_type": "markdown",
   "id": "377a9426",
   "metadata": {},
   "source": [
    "- **Null Hypothesis (H₀):** There is no difference in the conversion between the two groups.\n",
    "- **Alternative Hypothesis (H₁):** There is a difference in the conversion between the two groups."
   ]
  },
  {
   "cell_type": "code",
   "execution_count": 46,
   "id": "9a99486b",
   "metadata": {},
   "outputs": [
    {
     "name": "stdout",
     "output_type": "stream",
     "text": [
      "Trials: 18736\n",
      "Successes: 557\n"
     ]
    }
   ],
   "source": [
    "# Calculate the total number of visits (trials) for Group A (control group)\n",
    "control_trials = conversion_data[conversion_data[\"group\"] == \"A\"]['visits'].sum()\n",
    "print(\"Trials:\", control_trials)  # Print the total number of trials (visits)\n",
    "\n",
    "# Calculate the total number of successful conversions (orders) for Group A\n",
    "control_successes = conversion_data[conversion_data[\"group\"] == \"A\"]['orders'].sum()\n",
    "print(\"Successes:\", control_successes)"
   ]
  },
  {
   "cell_type": "code",
   "execution_count": 47,
   "id": "27c6bee2",
   "metadata": {},
   "outputs": [
    {
     "name": "stdout",
     "output_type": "stream",
     "text": [
      "Trials: 18916\n",
      "Successes: 640\n",
      "Conversion Rate (p2): 0.033833791499259885\n"
     ]
    }
   ],
   "source": [
    "# Calculate the total number of visits (trials) for Group B (test group)\n",
    "test_trials = conversion_data[conversion_data[\"group\"] == \"B\"]['visits'].sum()\n",
    "print(\"Trials:\", test_trials)  # Print the total number of trials (visits) in Group B\n",
    "\n",
    "# Calculate the total number of successful conversions (orders) for Group B\n",
    "test_successes = conversion_data[conversion_data[\"group\"] == \"B\"]['orders'].sum()\n",
    "print(\"Successes:\", test_successes)  # Print the total number of successful conversions in Group B\n",
    "\n",
    "# Calculate the conversion rate for Group B (proportion of visitors who placed an order)\n",
    "p2 = test_successes / test_trials\n",
    "print(\"Conversion Rate (p2):\", p2)\n"
   ]
  },
  {
   "cell_type": "markdown",
   "id": "8ab9c2d9",
   "metadata": {},
   "source": [
    "H0:p1=p2\n",
    "Ha:p1!=p2"
   ]
  },
  {
   "cell_type": "code",
   "execution_count": 48,
   "id": "d2f51477",
   "metadata": {},
   "outputs": [],
   "source": [
    "def check_hypothesis(successes1,trials1, successes2,trials2, alpha=0.05):\n",
    "    #proportion for success in the first group\n",
    "    p1 = successes1/trials1\n",
    "\n",
    "   #proportion for success in the second group\n",
    "    p2 = successes2/trials2\n",
    "    p_combined = (successes1 + successes2) / (trials1 + trials2)\n",
    "\n",
    "  \n",
    "    difference = p1 - p2\n",
    "    \n",
    "    \n",
    "    z_value = difference / mth.sqrt(p_combined * (1 - p_combined) * (1/trials1 + 1/trials2))\n",
    "\n",
    "  \n",
    "    distr = st.norm(0, 1) \n",
    "\n",
    "\n",
    "    p_value = (1 - distr.cdf(abs(z_value))) * 2\n",
    "  \n",
    "    print('p-value: ', p_value)\n",
    "    if p_value<0.05:\n",
    "        print(\"Rejecting the null hypothesis: there is a significant difference between the conversion rates of Group A and Group B.\")\n",
    "    else:\n",
    "        print(\"Failed to reject the null hypothesis: there is no significant difference between the conversion rates of Group A and Group B.\")"
   ]
  },
  {
   "cell_type": "code",
   "execution_count": 49,
   "id": "6ac10865",
   "metadata": {},
   "outputs": [
    {
     "name": "stdout",
     "output_type": "stream",
     "text": [
      "p-value:  0.02320723394441848\n",
      "Rejecting the null hypothesis: there is a significant difference between the conversion rates of Group A and Group B.\n"
     ]
    }
   ],
   "source": [
    "check_hypothesis(control_successes,control_trials, test_successes,test_trials, alpha=0.05)"
   ]
  },
  {
   "cell_type": "markdown",
   "id": "b293be77-78ae-45cf-b395-c7f0efa63ee4",
   "metadata": {},
   "source": [
    "## **The statistical significance of the difference in average order size between the groups using the raw data.**"
   ]
  },
  {
   "cell_type": "markdown",
   "id": "f84ea286-4c94-43b5-88d5-cc7d94dd826a",
   "metadata": {},
   "source": [
    "- **Null Hypothesis (H₀):** There is no difference in the average order size between the two groups.\n",
    "- **Alternative Hypothesis (H₁):** There is a difference in the average order size between the two groups."
   ]
  },
  {
   "cell_type": "code",
   "execution_count": 50,
   "id": "7c6321f6-31d5-4852-b33d-9589e1227d50",
   "metadata": {},
   "outputs": [
    {
     "name": "stdout",
     "output_type": "stream",
     "text": [
      "P-value: 0.6915\n",
      "Failed to reject the null hypothesis: we can't make conclusions about the difference\n"
     ]
    }
   ],
   "source": [
    "\n",
    "\n",
    "# Extract data for groups A and B\n",
    "group_A_orders = daily_avg_check[daily_avg_check[\"group\"] == \"A\"][\"average_check\"]\n",
    "group_B_orders = daily_avg_check[daily_avg_check[\"group\"] == \"B\"][\"average_check\"]\n",
    "\n",
    "# Define the function\n",
    "def testing_average(sample1, sample2, alpha=0.05):\n",
    "    # Drop missing values\n",
    "    sample1 = sample1.dropna()\n",
    "    sample2 = sample2.dropna()\n",
    "    \n",
    "    # Check normality\n",
    "    stat1, p1_norm = st.shapiro(sample1)\n",
    "    stat2, p2_norm = st.shapiro(sample2)\n",
    "\n",
    "    if p1_norm > alpha and p2_norm > alpha:\n",
    "        # Both samples are normally distributed → Perform t-test\n",
    "        # Check variance equality with Levene’s test\n",
    "        statslev, p_levene = st.levene(sample1, sample2)\n",
    "\n",
    "        if p_levene < alpha:\n",
    "            # Variances are not equal → Use Welch's t-test\n",
    "            statist, p_value = st.ttest_ind(sample1, sample2, equal_var=False)\n",
    "        else:\n",
    "            # Variances are equal → Use Student's t-test\n",
    "            statist, p_value = st.ttest_ind(sample1, sample2, equal_var=True)\n",
    "    else:\n",
    "        # Data is not normally distributed → Use Mann-Whitney U test\n",
    "        statist, p_value = st.mannwhitneyu(sample1, sample2)\n",
    "\n",
    "    # Display results\n",
    "    print(f'P-value: {p_value:.4f}')\n",
    "    if p_value < alpha:\n",
    "        print(\"Null hypothesis rejected: the difference is statistically significant\")\n",
    "    else:\n",
    "        print(\"Failed to reject the null hypothesis: we can't make conclusions about the difference\")\n",
    "\n",
    "# Run the function on your dataset\n",
    "testing_average(group_A_orders, group_B_orders)"
   ]
  },
  {
   "cell_type": "markdown",
   "id": "864c831b-c257-423d-82e5-dde05aa58b58",
   "metadata": {},
   "source": [
    "## **The statistical significance of the difference in conversion between the groups using the filtered data**"
   ]
  },
  {
   "cell_type": "code",
   "execution_count": 51,
   "id": "5f2bde72-649a-4ae5-b0e1-5b07303ffeaa",
   "metadata": {},
   "outputs": [
    {
     "data": {
      "text/html": [
       "<div>\n",
       "<style scoped>\n",
       "    .dataframe tbody tr th:only-of-type {\n",
       "        vertical-align: middle;\n",
       "    }\n",
       "\n",
       "    .dataframe tbody tr th {\n",
       "        vertical-align: top;\n",
       "    }\n",
       "\n",
       "    .dataframe thead th {\n",
       "        text-align: right;\n",
       "    }\n",
       "</style>\n",
       "<table border=\"1\" class=\"dataframe\">\n",
       "  <thead>\n",
       "    <tr style=\"text-align: right;\">\n",
       "      <th></th>\n",
       "      <th>transactionId</th>\n",
       "      <th>visitorId</th>\n",
       "      <th>date</th>\n",
       "      <th>revenue</th>\n",
       "      <th>group</th>\n",
       "    </tr>\n",
       "  </thead>\n",
       "  <tbody>\n",
       "    <tr>\n",
       "      <th>0</th>\n",
       "      <td>3667963787</td>\n",
       "      <td>3312258926</td>\n",
       "      <td>2019-08-15</td>\n",
       "      <td>30.4</td>\n",
       "      <td>B</td>\n",
       "    </tr>\n",
       "    <tr>\n",
       "      <th>1</th>\n",
       "      <td>2804400009</td>\n",
       "      <td>3642806036</td>\n",
       "      <td>2019-08-15</td>\n",
       "      <td>15.2</td>\n",
       "      <td>B</td>\n",
       "    </tr>\n",
       "    <tr>\n",
       "      <th>2</th>\n",
       "      <td>2961555356</td>\n",
       "      <td>4069496402</td>\n",
       "      <td>2019-08-15</td>\n",
       "      <td>10.2</td>\n",
       "      <td>A</td>\n",
       "    </tr>\n",
       "    <tr>\n",
       "      <th>3</th>\n",
       "      <td>3797467345</td>\n",
       "      <td>1196621759</td>\n",
       "      <td>2019-08-15</td>\n",
       "      <td>155.1</td>\n",
       "      <td>B</td>\n",
       "    </tr>\n",
       "    <tr>\n",
       "      <th>4</th>\n",
       "      <td>2282983706</td>\n",
       "      <td>2322279887</td>\n",
       "      <td>2019-08-15</td>\n",
       "      <td>40.5</td>\n",
       "      <td>B</td>\n",
       "    </tr>\n",
       "  </tbody>\n",
       "</table>\n",
       "</div>"
      ],
      "text/plain": [
       "   transactionId   visitorId       date  revenue group\n",
       "0     3667963787  3312258926 2019-08-15     30.4     B\n",
       "1     2804400009  3642806036 2019-08-15     15.2     B\n",
       "2     2961555356  4069496402 2019-08-15     10.2     A\n",
       "3     3797467345  1196621759 2019-08-15    155.1     B\n",
       "4     2282983706  2322279887 2019-08-15     40.5     B"
      ]
     },
     "execution_count": 51,
     "metadata": {},
     "output_type": "execute_result"
    }
   ],
   "source": [
    "# Filter the dataset: Keep only users who have transaction counts below or equal to the anomaly threshold\n",
    "# Count number of orders per visitor\n",
    "order_counts = orders.groupby(\"visitorId\")[\"transactionId\"].count()\n",
    "\n",
    "\n",
    "# Find visitors that are below or equal to the threshold\n",
    "valid_visitors = order_counts[order_counts <= anomaly_threshold].index\n",
    "\n",
    "# Filter the dataset: Remove both very low and very high revenue values\n",
    "filtered_orders = orders[orders[\"revenue\"]  <= price_anomaly_threshold]\n",
    "filtered_orders = filtered_orders[filtered_orders[\"visitorId\"].isin(valid_visitors)]\n",
    "\n",
    "\n",
    "\n",
    "filtered_orders.head()\n"
   ]
  },
  {
   "cell_type": "code",
   "execution_count": 52,
   "id": "79cb1a55-52ca-4979-a695-2da75f114de9",
   "metadata": {},
   "outputs": [
    {
     "data": {
      "text/html": [
       "<div>\n",
       "<style scoped>\n",
       "    .dataframe tbody tr th:only-of-type {\n",
       "        vertical-align: middle;\n",
       "    }\n",
       "\n",
       "    .dataframe tbody tr th {\n",
       "        vertical-align: top;\n",
       "    }\n",
       "\n",
       "    .dataframe thead th {\n",
       "        text-align: right;\n",
       "    }\n",
       "</style>\n",
       "<table border=\"1\" class=\"dataframe\">\n",
       "  <thead>\n",
       "    <tr style=\"text-align: right;\">\n",
       "      <th></th>\n",
       "      <th>transactionId</th>\n",
       "      <th>visitorId</th>\n",
       "      <th>revenue</th>\n",
       "    </tr>\n",
       "  </thead>\n",
       "  <tbody>\n",
       "    <tr>\n",
       "      <th>count</th>\n",
       "      <td>1.116000e+03</td>\n",
       "      <td>1.116000e+03</td>\n",
       "      <td>1116.000000</td>\n",
       "    </tr>\n",
       "    <tr>\n",
       "      <th>mean</th>\n",
       "      <td>2.163050e+09</td>\n",
       "      <td>2.144635e+09</td>\n",
       "      <td>102.098656</td>\n",
       "    </tr>\n",
       "    <tr>\n",
       "      <th>std</th>\n",
       "      <td>1.233476e+09</td>\n",
       "      <td>1.227281e+09</td>\n",
       "      <td>133.652970</td>\n",
       "    </tr>\n",
       "    <tr>\n",
       "      <th>min</th>\n",
       "      <td>1.062393e+06</td>\n",
       "      <td>5.114589e+06</td>\n",
       "      <td>5.000000</td>\n",
       "    </tr>\n",
       "    <tr>\n",
       "      <th>25%</th>\n",
       "      <td>1.164120e+09</td>\n",
       "      <td>1.068507e+09</td>\n",
       "      <td>20.700000</td>\n",
       "    </tr>\n",
       "    <tr>\n",
       "      <th>50%</th>\n",
       "      <td>2.151992e+09</td>\n",
       "      <td>2.160157e+09</td>\n",
       "      <td>50.100000</td>\n",
       "    </tr>\n",
       "    <tr>\n",
       "      <th>75%</th>\n",
       "      <td>3.246061e+09</td>\n",
       "      <td>3.160968e+09</td>\n",
       "      <td>125.900000</td>\n",
       "    </tr>\n",
       "    <tr>\n",
       "      <th>max</th>\n",
       "      <td>4.293856e+09</td>\n",
       "      <td>4.283872e+09</td>\n",
       "      <td>830.300000</td>\n",
       "    </tr>\n",
       "  </tbody>\n",
       "</table>\n",
       "</div>"
      ],
      "text/plain": [
       "       transactionId     visitorId      revenue\n",
       "count   1.116000e+03  1.116000e+03  1116.000000\n",
       "mean    2.163050e+09  2.144635e+09   102.098656\n",
       "std     1.233476e+09  1.227281e+09   133.652970\n",
       "min     1.062393e+06  5.114589e+06     5.000000\n",
       "25%     1.164120e+09  1.068507e+09    20.700000\n",
       "50%     2.151992e+09  2.160157e+09    50.100000\n",
       "75%     3.246061e+09  3.160968e+09   125.900000\n",
       "max     4.293856e+09  4.283872e+09   830.300000"
      ]
     },
     "execution_count": 52,
     "metadata": {},
     "output_type": "execute_result"
    }
   ],
   "source": [
    "filtered_orders.describe()"
   ]
  },
  {
   "cell_type": "code",
   "execution_count": 53,
   "id": "49f3ec98-f57e-4457-ac48-9ead39911734",
   "metadata": {},
   "outputs": [
    {
     "data": {
      "text/plain": [
       "B    601\n",
       "A    515\n",
       "Name: group, dtype: int64"
      ]
     },
     "execution_count": 53,
     "metadata": {},
     "output_type": "execute_result"
    }
   ],
   "source": [
    "filtered_orders[\"group\"].value_counts()\n"
   ]
  },
  {
   "cell_type": "code",
   "execution_count": 54,
   "id": "55b09701-4584-48e6-85d0-4408e2abfaa1",
   "metadata": {},
   "outputs": [
    {
     "data": {
      "text/html": [
       "<div>\n",
       "<style scoped>\n",
       "    .dataframe tbody tr th:only-of-type {\n",
       "        vertical-align: middle;\n",
       "    }\n",
       "\n",
       "    .dataframe tbody tr th {\n",
       "        vertical-align: top;\n",
       "    }\n",
       "\n",
       "    .dataframe thead th {\n",
       "        text-align: right;\n",
       "    }\n",
       "</style>\n",
       "<table border=\"1\" class=\"dataframe\">\n",
       "  <thead>\n",
       "    <tr style=\"text-align: right;\">\n",
       "      <th></th>\n",
       "      <th>date</th>\n",
       "      <th>group</th>\n",
       "      <th>orders</th>\n",
       "    </tr>\n",
       "  </thead>\n",
       "  <tbody>\n",
       "    <tr>\n",
       "      <th>0</th>\n",
       "      <td>2019-08-01</td>\n",
       "      <td>A</td>\n",
       "      <td>23</td>\n",
       "    </tr>\n",
       "    <tr>\n",
       "      <th>1</th>\n",
       "      <td>2019-08-01</td>\n",
       "      <td>B</td>\n",
       "      <td>19</td>\n",
       "    </tr>\n",
       "    <tr>\n",
       "      <th>2</th>\n",
       "      <td>2019-08-02</td>\n",
       "      <td>A</td>\n",
       "      <td>20</td>\n",
       "    </tr>\n",
       "    <tr>\n",
       "      <th>3</th>\n",
       "      <td>2019-08-02</td>\n",
       "      <td>B</td>\n",
       "      <td>23</td>\n",
       "    </tr>\n",
       "    <tr>\n",
       "      <th>4</th>\n",
       "      <td>2019-08-03</td>\n",
       "      <td>A</td>\n",
       "      <td>24</td>\n",
       "    </tr>\n",
       "    <tr>\n",
       "      <th>...</th>\n",
       "      <td>...</td>\n",
       "      <td>...</td>\n",
       "      <td>...</td>\n",
       "    </tr>\n",
       "    <tr>\n",
       "      <th>57</th>\n",
       "      <td>2019-08-29</td>\n",
       "      <td>B</td>\n",
       "      <td>18</td>\n",
       "    </tr>\n",
       "    <tr>\n",
       "      <th>58</th>\n",
       "      <td>2019-08-30</td>\n",
       "      <td>A</td>\n",
       "      <td>11</td>\n",
       "    </tr>\n",
       "    <tr>\n",
       "      <th>59</th>\n",
       "      <td>2019-08-30</td>\n",
       "      <td>B</td>\n",
       "      <td>24</td>\n",
       "    </tr>\n",
       "    <tr>\n",
       "      <th>60</th>\n",
       "      <td>2019-08-31</td>\n",
       "      <td>A</td>\n",
       "      <td>11</td>\n",
       "    </tr>\n",
       "    <tr>\n",
       "      <th>61</th>\n",
       "      <td>2019-08-31</td>\n",
       "      <td>B</td>\n",
       "      <td>19</td>\n",
       "    </tr>\n",
       "  </tbody>\n",
       "</table>\n",
       "<p>62 rows × 3 columns</p>\n",
       "</div>"
      ],
      "text/plain": [
       "         date group  orders\n",
       "0  2019-08-01     A      23\n",
       "1  2019-08-01     B      19\n",
       "2  2019-08-02     A      20\n",
       "3  2019-08-02     B      23\n",
       "4  2019-08-03     A      24\n",
       "..        ...   ...     ...\n",
       "57 2019-08-29     B      18\n",
       "58 2019-08-30     A      11\n",
       "59 2019-08-30     B      24\n",
       "60 2019-08-31     A      11\n",
       "61 2019-08-31     B      19\n",
       "\n",
       "[62 rows x 3 columns]"
      ]
     },
     "execution_count": 54,
     "metadata": {},
     "output_type": "execute_result"
    }
   ],
   "source": [
    "# Recalculate the number of orders per group per day after filtering\n",
    "filtered_orders_per_day = filtered_orders.groupby([\"date\", \"group\"])[\"transactionId\"].count().reset_index()\n",
    "filtered_orders_per_day.rename(columns={\"transactionId\": \"orders\"}, inplace=True)\n",
    "filtered_orders_per_day\n"
   ]
  },
  {
   "cell_type": "code",
   "execution_count": 55,
   "id": "ade6f26c-4ee3-44c0-84d5-bd8314a8a650",
   "metadata": {},
   "outputs": [
    {
     "data": {
      "text/html": [
       "<div>\n",
       "<style scoped>\n",
       "    .dataframe tbody tr th:only-of-type {\n",
       "        vertical-align: middle;\n",
       "    }\n",
       "\n",
       "    .dataframe tbody tr th {\n",
       "        vertical-align: top;\n",
       "    }\n",
       "\n",
       "    .dataframe thead th {\n",
       "        text-align: right;\n",
       "    }\n",
       "</style>\n",
       "<table border=\"1\" class=\"dataframe\">\n",
       "  <thead>\n",
       "    <tr style=\"text-align: right;\">\n",
       "      <th></th>\n",
       "      <th>date</th>\n",
       "      <th>group</th>\n",
       "      <th>orders</th>\n",
       "      <th>visits</th>\n",
       "      <th>conversion_rate</th>\n",
       "    </tr>\n",
       "  </thead>\n",
       "  <tbody>\n",
       "    <tr>\n",
       "      <th>0</th>\n",
       "      <td>2019-08-01</td>\n",
       "      <td>A</td>\n",
       "      <td>23</td>\n",
       "      <td>719</td>\n",
       "      <td>3.20</td>\n",
       "    </tr>\n",
       "    <tr>\n",
       "      <th>1</th>\n",
       "      <td>2019-08-01</td>\n",
       "      <td>B</td>\n",
       "      <td>19</td>\n",
       "      <td>713</td>\n",
       "      <td>2.66</td>\n",
       "    </tr>\n",
       "    <tr>\n",
       "      <th>2</th>\n",
       "      <td>2019-08-02</td>\n",
       "      <td>A</td>\n",
       "      <td>20</td>\n",
       "      <td>619</td>\n",
       "      <td>3.23</td>\n",
       "    </tr>\n",
       "    <tr>\n",
       "      <th>3</th>\n",
       "      <td>2019-08-02</td>\n",
       "      <td>B</td>\n",
       "      <td>23</td>\n",
       "      <td>581</td>\n",
       "      <td>3.96</td>\n",
       "    </tr>\n",
       "    <tr>\n",
       "      <th>4</th>\n",
       "      <td>2019-08-03</td>\n",
       "      <td>A</td>\n",
       "      <td>24</td>\n",
       "      <td>507</td>\n",
       "      <td>4.73</td>\n",
       "    </tr>\n",
       "    <tr>\n",
       "      <th>...</th>\n",
       "      <td>...</td>\n",
       "      <td>...</td>\n",
       "      <td>...</td>\n",
       "      <td>...</td>\n",
       "      <td>...</td>\n",
       "    </tr>\n",
       "    <tr>\n",
       "      <th>57</th>\n",
       "      <td>2019-08-29</td>\n",
       "      <td>B</td>\n",
       "      <td>18</td>\n",
       "      <td>531</td>\n",
       "      <td>3.39</td>\n",
       "    </tr>\n",
       "    <tr>\n",
       "      <th>58</th>\n",
       "      <td>2019-08-30</td>\n",
       "      <td>A</td>\n",
       "      <td>11</td>\n",
       "      <td>490</td>\n",
       "      <td>2.24</td>\n",
       "    </tr>\n",
       "    <tr>\n",
       "      <th>59</th>\n",
       "      <td>2019-08-30</td>\n",
       "      <td>B</td>\n",
       "      <td>24</td>\n",
       "      <td>490</td>\n",
       "      <td>4.90</td>\n",
       "    </tr>\n",
       "    <tr>\n",
       "      <th>60</th>\n",
       "      <td>2019-08-31</td>\n",
       "      <td>A</td>\n",
       "      <td>11</td>\n",
       "      <td>699</td>\n",
       "      <td>1.57</td>\n",
       "    </tr>\n",
       "    <tr>\n",
       "      <th>61</th>\n",
       "      <td>2019-08-31</td>\n",
       "      <td>B</td>\n",
       "      <td>19</td>\n",
       "      <td>718</td>\n",
       "      <td>2.65</td>\n",
       "    </tr>\n",
       "  </tbody>\n",
       "</table>\n",
       "<p>62 rows × 5 columns</p>\n",
       "</div>"
      ],
      "text/plain": [
       "         date group  orders  visits  conversion_rate\n",
       "0  2019-08-01     A      23     719             3.20\n",
       "1  2019-08-01     B      19     713             2.66\n",
       "2  2019-08-02     A      20     619             3.23\n",
       "3  2019-08-02     B      23     581             3.96\n",
       "4  2019-08-03     A      24     507             4.73\n",
       "..        ...   ...     ...     ...              ...\n",
       "57 2019-08-29     B      18     531             3.39\n",
       "58 2019-08-30     A      11     490             2.24\n",
       "59 2019-08-30     B      24     490             4.90\n",
       "60 2019-08-31     A      11     699             1.57\n",
       "61 2019-08-31     B      19     718             2.65\n",
       "\n",
       "[62 rows x 5 columns]"
      ]
     },
     "execution_count": 55,
     "metadata": {},
     "output_type": "execute_result"
    }
   ],
   "source": [
    "# Merge filtered orders with visits data\n",
    "filtered_conversion_data = pd.merge(filtered_orders_per_day, visits, on=[\"date\", \"group\"], how=\"left\")\n",
    "\n",
    "# Calculate daily conversion rate (orders / visits) after filtering\n",
    "filtered_conversion_data[\"conversion_rate\"] = round((filtered_conversion_data[\"orders\"] / filtered_conversion_data[\"visits\"]) * 100, 2)\n",
    "\n",
    "\n",
    "filtered_conversion_data"
   ]
  },
  {
   "cell_type": "markdown",
   "id": "c6ec6b05",
   "metadata": {},
   "source": [
    "- **Null Hypothesis (H₀):** There is no difference in the conversion between the two groups.\n",
    "- **Alternative Hypothesis (H₁):** There is a difference in the conversion between the two groups."
   ]
  },
  {
   "cell_type": "code",
   "execution_count": 56,
   "id": "2075d6d4",
   "metadata": {},
   "outputs": [
    {
     "name": "stdout",
     "output_type": "stream",
     "text": [
      "Filtered Trials (Group A): 18736\n",
      "Filtered Successes (Group A): 515\n",
      "Filtered Trials (Group B): 18916\n",
      "Filtered Successes (Group B): 601\n",
      "p-value:  0.014235438291213098\n",
      "Rejecting the null hypothesis: there is a significant difference between the conversion rates of Group A and Group B.\n"
     ]
    }
   ],
   "source": [
    "# Calculate the total number of visits (trials) for Group A after filtering\n",
    "filtered_control_trials = filtered_conversion_data[filtered_conversion_data[\"group\"] == \"A\"][\"visits\"].sum()\n",
    "print(\"Filtered Trials (Group A):\", filtered_control_trials)\n",
    "\n",
    "# Calculate the total number of successful conversions (orders) for Group A after filtering\n",
    "filtered_control_successes = filtered_conversion_data[filtered_conversion_data[\"group\"] == \"A\"][\"orders\"].sum()\n",
    "print(\"Filtered Successes (Group A):\", filtered_control_successes)\n",
    "\n",
    "# Calculate the total number of visits (trials) for Group B after filtering\n",
    "filtered_test_trials = filtered_conversion_data[filtered_conversion_data[\"group\"] == \"B\"][\"visits\"].sum()\n",
    "print(\"Filtered Trials (Group B):\", filtered_test_trials)\n",
    "\n",
    "# Calculate the total number of successful conversions (orders) for Group B after filtering\n",
    "filtered_test_successes = filtered_conversion_data[filtered_conversion_data[\"group\"] == \"B\"][\"orders\"].sum()\n",
    "print(\"Filtered Successes (Group B):\", filtered_test_successes)\n",
    "\n",
    "# Run the same hypothesis test function on the filtered data\n",
    "check_hypothesis(\n",
    "    filtered_control_successes, filtered_control_trials, \n",
    "    filtered_test_successes, filtered_test_trials, \n",
    "    alpha=0.05\n",
    ")\n",
    "\n"
   ]
  },
  {
   "cell_type": "markdown",
   "id": "dfebbde8-eb96-47c6-8685-5baa58f6434d",
   "metadata": {},
   "source": [
    "## **The statistical significance of the difference in average order size between the groups using the filtered data**"
   ]
  },
  {
   "cell_type": "markdown",
   "id": "6f1995a3",
   "metadata": {},
   "source": [
    "- **Null Hypothesis (H₀):** There is no difference in the average order size between the two groups.\n",
    "- **Alternative Hypothesis (H₁):** There is a difference in the average order size between the two groups."
   ]
  },
  {
   "cell_type": "markdown",
   "id": "3cbdf8c8",
   "metadata": {},
   "source": [
    "<div class=\"alert alert-block alert-success\">✔️\n",
    "    \n",
    "\n",
    "__Reviewer's comment №1__\n",
    "\n",
    "Correct interpretation of the Null and Alternative hypotheses"
   ]
  },
  {
   "cell_type": "code",
   "execution_count": 57,
   "id": "e07ee74e-3ba6-40c9-af21-93565905e99b",
   "metadata": {},
   "outputs": [
    {
     "name": "stdout",
     "output_type": "stream",
     "text": [
      "P-value: 0.9332\n",
      "Failed to reject the null hypothesis: we can't make conclusions about the difference\n"
     ]
    }
   ],
   "source": [
    "\n",
    "\n",
    "# Extract data for groups A and B\n",
    "group_A_orders_f = filtered_orders[filtered_orders[\"group\"] == \"A\"][\"revenue\"]\n",
    "group_B_orders_f = filtered_orders[filtered_orders[\"group\"] == \"B\"][\"revenue\"]\n",
    "\n",
    "# Define the function\n",
    "def testing_average(sample1, sample2, alpha=0.05):\n",
    "    # Drop missing values\n",
    "    sample1 = sample1.dropna()\n",
    "    sample2 = sample2.dropna()\n",
    "    \n",
    "    # Check normality\n",
    "    stat1, p1_norm = st.shapiro(sample1)\n",
    "    stat2, p2_norm = st.shapiro(sample2)\n",
    "\n",
    "    if p1_norm > alpha and p2_norm > alpha:\n",
    "        # Both samples are normally distributed → Perform t-test\n",
    "        # Check variance equality with Levene’s test\n",
    "        statslev, p_levene = st.levene(sample1, sample2)\n",
    "\n",
    "        if p_levene < alpha:\n",
    "            # Variances are not equal → Use Welch's t-test\n",
    "            statist, p_value = st.ttest_ind(sample1, sample2, equal_var=False)\n",
    "        else:\n",
    "            # Variances are equal → Use Student's t-test\n",
    "            statist, p_value = st.ttest_ind(sample1, sample2, equal_var=True)\n",
    "    else:\n",
    "        # Data is not normally distributed → Use Mann-Whitney U test\n",
    "        statist, p_value = st.mannwhitneyu(sample1, sample2)\n",
    "\n",
    "    # Display results\n",
    "    print(f'P-value: {p_value:.4f}')\n",
    "    if p_value < alpha:\n",
    "        print(\"Null hypothesis rejected: the difference is statistically significant\")\n",
    "    else:\n",
    "        print(\"Failed to reject the null hypothesis: we can't make conclusions about the difference\")\n",
    "\n",
    "# Run the function on your dataset\n",
    "testing_average(group_A_orders_f, group_B_orders_f)"
   ]
  },
  {
   "cell_type": "markdown",
   "id": "cc880def-5cff-4cbf-b655-455ef56571a8",
   "metadata": {},
   "source": [
    "## **A/B Test Results & Statistical Analysis**\n",
    "\n",
    "### **Conducted Tests & Findings**\n",
    "\n",
    "#### **1Conversion Rate Difference (Raw Data)**\n",
    "- **Test Used:** Z-test for proportions\n",
    "- **Hypothesis:**\n",
    "  - Null Hypothesis (H₀): No significant difference in conversion rates between Group A and Group B.\n",
    "  - Alternative Hypothesis (H₁): A significant difference exists.\n",
    "- **Result:** p-value = 0.0232 → **Statistically significant difference (p < 0.05).**\n",
    "\n",
    "#### **Average Order Size Difference (Raw Data)**\n",
    "- **Test Used:** Mann-Whitney U Test (due to non-normal distribution)\n",
    "- **Hypothesis:**\n",
    "  - H₀: No significant difference in average order size between groups.\n",
    "  - H₁: A significant difference exists.\n",
    "- **Result:** p-value **> 0.05** → No statistically significant difference.\n",
    "\n",
    "#### **Conversion Rate Difference (Filtered Data)**\n",
    "- **Test Used:** Z-test for proportions (after removing outliers)\n",
    "- **Hypothesis:**\n",
    "  - H₀: No significant difference in conversion rates after filtering.\n",
    "  - H₁: A significant difference exists.\n",
    "- **Result:** p-value = 0.0142 → **Statistically significant difference (p < 0.05).**\n",
    "\n",
    "#### **Average Order Size Difference (Filtered Data)**\n",
    "- **Test Used:** Both Mann-Whitney U Test & Welch’s T-Test (after filtering outliers)\n",
    "- **Hypothesis:**\n",
    "  - H₀: No significant difference in average order size after filtering.\n",
    "  - H₁: A significant difference exists.\n",
    "- **Result:** p-value **> 0.05** → No statistically significant difference.\n",
    "\n",
    "\n",
    "\n",
    "### **Final Conclusion**\n",
    "\n",
    "# **Stop the test and declare one group as the leader.**\n",
    "\n",
    "- The conversion rate difference remained statistically significant even after filtering anomalies.\n",
    "- This suggests that the tested change had a real impact on user behavior.\n",
    "- Although average order size did not change, a higher conversion rate is a strong indicator of success."
   ]
  },
  {
   "cell_type": "markdown",
   "id": "8c7dc261",
   "metadata": {},
   "source": [
    "<div class=\"alert alert-block alert-success\">✔️\n",
    "    \n",
    "\n",
    "__Reviewer's comment №1__\n",
    "\n",
    "You've done a great job. There are a few things that need to be fixed"
   ]
  },
  {
   "cell_type": "markdown",
   "id": "a43154f4",
   "metadata": {},
   "source": []
  },
  {
   "cell_type": "markdown",
   "id": "e447d966",
   "metadata": {},
   "source": []
  },
  {
   "cell_type": "markdown",
   "id": "3b2146c8",
   "metadata": {},
   "source": [
    "<div class=\"alert alert-block alert-success\">✔️\n",
    "    \n",
    "\n",
    "__Reviewer's comment №2__\n",
    "\n",
    "\n",
    "Otherwise it's great😊. Your project is begging for github =)   \n",
    "    \n",
    "Congratulations on the successful completion of the project 😊👍\n",
    "And I wish you success in new works 😊"
   ]
  }
 ],
 "metadata": {
  "ExecuteTimeLog": [
   {
    "duration": 2506,
    "start_time": "2025-03-09T18:54:24.258Z"
   },
   {
    "duration": 565,
    "start_time": "2025-03-09T18:54:26.766Z"
   },
   {
    "duration": 0,
    "start_time": "2025-03-09T18:54:27.336Z"
   },
   {
    "duration": 0,
    "start_time": "2025-03-09T18:54:27.337Z"
   },
   {
    "duration": 0,
    "start_time": "2025-03-09T18:54:27.339Z"
   },
   {
    "duration": 0,
    "start_time": "2025-03-09T18:54:27.340Z"
   },
   {
    "duration": 0,
    "start_time": "2025-03-09T18:54:27.342Z"
   },
   {
    "duration": 0,
    "start_time": "2025-03-09T18:54:27.344Z"
   },
   {
    "duration": 0,
    "start_time": "2025-03-09T18:54:27.345Z"
   },
   {
    "duration": 0,
    "start_time": "2025-03-09T18:54:27.347Z"
   },
   {
    "duration": 0,
    "start_time": "2025-03-09T18:54:27.348Z"
   },
   {
    "duration": 0,
    "start_time": "2025-03-09T18:54:27.349Z"
   },
   {
    "duration": 0,
    "start_time": "2025-03-09T18:54:27.350Z"
   },
   {
    "duration": 0,
    "start_time": "2025-03-09T18:54:27.351Z"
   },
   {
    "duration": 0,
    "start_time": "2025-03-09T18:54:27.352Z"
   },
   {
    "duration": 0,
    "start_time": "2025-03-09T18:54:27.354Z"
   },
   {
    "duration": 0,
    "start_time": "2025-03-09T18:54:27.355Z"
   },
   {
    "duration": 0,
    "start_time": "2025-03-09T18:54:27.356Z"
   },
   {
    "duration": 0,
    "start_time": "2025-03-09T18:54:27.386Z"
   },
   {
    "duration": 0,
    "start_time": "2025-03-09T18:54:27.387Z"
   },
   {
    "duration": 0,
    "start_time": "2025-03-09T18:54:27.389Z"
   },
   {
    "duration": 0,
    "start_time": "2025-03-09T18:54:27.390Z"
   },
   {
    "duration": 0,
    "start_time": "2025-03-09T18:54:27.391Z"
   },
   {
    "duration": 0,
    "start_time": "2025-03-09T18:54:27.392Z"
   },
   {
    "duration": 0,
    "start_time": "2025-03-09T18:54:27.393Z"
   },
   {
    "duration": 0,
    "start_time": "2025-03-09T18:54:27.394Z"
   },
   {
    "duration": 0,
    "start_time": "2025-03-09T18:54:27.395Z"
   },
   {
    "duration": 0,
    "start_time": "2025-03-09T18:54:27.398Z"
   },
   {
    "duration": 0,
    "start_time": "2025-03-09T18:54:27.399Z"
   },
   {
    "duration": 0,
    "start_time": "2025-03-09T18:54:27.400Z"
   },
   {
    "duration": 0,
    "start_time": "2025-03-09T18:54:27.401Z"
   },
   {
    "duration": 0,
    "start_time": "2025-03-09T18:54:27.402Z"
   },
   {
    "duration": 0,
    "start_time": "2025-03-09T18:54:27.403Z"
   },
   {
    "duration": 0,
    "start_time": "2025-03-09T18:54:27.404Z"
   },
   {
    "duration": 0,
    "start_time": "2025-03-09T18:54:27.405Z"
   },
   {
    "duration": 0,
    "start_time": "2025-03-09T18:54:27.406Z"
   },
   {
    "duration": 0,
    "start_time": "2025-03-09T18:54:27.407Z"
   },
   {
    "duration": 0,
    "start_time": "2025-03-09T18:54:27.408Z"
   },
   {
    "duration": 0,
    "start_time": "2025-03-09T18:54:27.409Z"
   },
   {
    "duration": 0,
    "start_time": "2025-03-09T18:54:27.410Z"
   },
   {
    "duration": 0,
    "start_time": "2025-03-09T18:54:27.411Z"
   },
   {
    "duration": 0,
    "start_time": "2025-03-09T18:54:27.412Z"
   },
   {
    "duration": 0,
    "start_time": "2025-03-09T18:54:27.414Z"
   },
   {
    "duration": 0,
    "start_time": "2025-03-09T18:54:27.414Z"
   },
   {
    "duration": 0,
    "start_time": "2025-03-09T18:54:27.416Z"
   },
   {
    "duration": 0,
    "start_time": "2025-03-09T18:54:27.417Z"
   },
   {
    "duration": 0,
    "start_time": "2025-03-09T18:54:27.418Z"
   },
   {
    "duration": 0,
    "start_time": "2025-03-09T18:54:27.422Z"
   },
   {
    "duration": 0,
    "start_time": "2025-03-09T18:54:27.423Z"
   },
   {
    "duration": 0,
    "start_time": "2025-03-09T18:54:27.425Z"
   },
   {
    "duration": 0,
    "start_time": "2025-03-09T18:54:27.426Z"
   },
   {
    "duration": 0,
    "start_time": "2025-03-09T18:54:27.487Z"
   },
   {
    "duration": 0,
    "start_time": "2025-03-09T18:54:27.489Z"
   },
   {
    "duration": 0,
    "start_time": "2025-03-09T18:54:27.490Z"
   },
   {
    "duration": 0,
    "start_time": "2025-03-09T18:54:27.492Z"
   },
   {
    "duration": 0,
    "start_time": "2025-03-09T18:54:27.495Z"
   },
   {
    "duration": 0,
    "start_time": "2025-03-09T18:54:27.496Z"
   },
   {
    "duration": 0,
    "start_time": "2025-03-09T18:54:27.498Z"
   },
   {
    "duration": 8,
    "start_time": "2025-03-09T19:21:40.477Z"
   },
   {
    "duration": 161,
    "start_time": "2025-03-09T19:21:58.765Z"
   },
   {
    "duration": 2596,
    "start_time": "2025-03-09T19:22:10.356Z"
   },
   {
    "duration": 457,
    "start_time": "2025-03-09T19:22:14.072Z"
   },
   {
    "duration": 9,
    "start_time": "2025-03-09T19:22:41.185Z"
   },
   {
    "duration": 5,
    "start_time": "2025-03-09T19:22:51.081Z"
   },
   {
    "duration": 9,
    "start_time": "2025-03-09T19:23:11.594Z"
   },
   {
    "duration": 6,
    "start_time": "2025-03-09T19:23:15.210Z"
   },
   {
    "duration": 10,
    "start_time": "2025-03-09T19:23:18.209Z"
   },
   {
    "duration": 10,
    "start_time": "2025-03-09T19:23:20.887Z"
   },
   {
    "duration": 9,
    "start_time": "2025-03-09T19:23:23.527Z"
   },
   {
    "duration": 3,
    "start_time": "2025-03-09T19:23:40.346Z"
   },
   {
    "duration": 5,
    "start_time": "2025-03-09T19:23:40.354Z"
   },
   {
    "duration": 6,
    "start_time": "2025-03-09T19:23:40.361Z"
   },
   {
    "duration": 4,
    "start_time": "2025-03-09T19:23:40.370Z"
   },
   {
    "duration": 10,
    "start_time": "2025-03-09T19:23:40.375Z"
   },
   {
    "duration": 9,
    "start_time": "2025-03-09T19:23:40.387Z"
   },
   {
    "duration": 9,
    "start_time": "2025-03-09T19:23:40.399Z"
   },
   {
    "duration": 284,
    "start_time": "2025-03-09T19:23:40.410Z"
   },
   {
    "duration": 10,
    "start_time": "2025-03-09T19:23:40.697Z"
   },
   {
    "duration": 17,
    "start_time": "2025-03-09T19:23:40.710Z"
   },
   {
    "duration": 8,
    "start_time": "2025-03-09T19:23:40.731Z"
   },
   {
    "duration": 4,
    "start_time": "2025-03-09T19:23:40.741Z"
   },
   {
    "duration": 4,
    "start_time": "2025-03-09T19:23:40.747Z"
   },
   {
    "duration": 5,
    "start_time": "2025-03-09T19:23:40.753Z"
   },
   {
    "duration": 8,
    "start_time": "2025-03-09T19:23:40.760Z"
   },
   {
    "duration": 42,
    "start_time": "2025-03-09T19:23:40.770Z"
   },
   {
    "duration": 14,
    "start_time": "2025-03-09T19:23:40.814Z"
   },
   {
    "duration": 8,
    "start_time": "2025-03-09T19:23:40.829Z"
   },
   {
    "duration": 4,
    "start_time": "2025-03-09T19:23:40.839Z"
   },
   {
    "duration": 3,
    "start_time": "2025-03-09T19:23:40.846Z"
   },
   {
    "duration": 6,
    "start_time": "2025-03-09T19:23:40.851Z"
   },
   {
    "duration": 9,
    "start_time": "2025-03-09T19:23:40.860Z"
   },
   {
    "duration": 18,
    "start_time": "2025-03-09T19:23:40.904Z"
   },
   {
    "duration": 185,
    "start_time": "2025-03-09T19:23:40.924Z"
   },
   {
    "duration": 198,
    "start_time": "2025-03-09T19:23:41.111Z"
   },
   {
    "duration": 8,
    "start_time": "2025-03-09T19:23:41.311Z"
   },
   {
    "duration": 18,
    "start_time": "2025-03-09T19:23:41.321Z"
   },
   {
    "duration": 17,
    "start_time": "2025-03-09T19:23:41.341Z"
   },
   {
    "duration": 205,
    "start_time": "2025-03-09T19:23:41.359Z"
   },
   {
    "duration": 1067,
    "start_time": "2025-03-09T19:23:41.566Z"
   },
   {
    "duration": 0,
    "start_time": "2025-03-09T19:23:42.635Z"
   },
   {
    "duration": 0,
    "start_time": "2025-03-09T19:23:42.636Z"
   },
   {
    "duration": 0,
    "start_time": "2025-03-09T19:23:42.637Z"
   },
   {
    "duration": 0,
    "start_time": "2025-03-09T19:23:42.638Z"
   },
   {
    "duration": 0,
    "start_time": "2025-03-09T19:23:42.639Z"
   },
   {
    "duration": 0,
    "start_time": "2025-03-09T19:23:42.641Z"
   },
   {
    "duration": 0,
    "start_time": "2025-03-09T19:23:42.642Z"
   },
   {
    "duration": 0,
    "start_time": "2025-03-09T19:23:42.644Z"
   },
   {
    "duration": 0,
    "start_time": "2025-03-09T19:23:42.645Z"
   },
   {
    "duration": 0,
    "start_time": "2025-03-09T19:23:42.646Z"
   },
   {
    "duration": 0,
    "start_time": "2025-03-09T19:23:42.647Z"
   },
   {
    "duration": 0,
    "start_time": "2025-03-09T19:23:42.648Z"
   },
   {
    "duration": 0,
    "start_time": "2025-03-09T19:23:42.649Z"
   },
   {
    "duration": 0,
    "start_time": "2025-03-09T19:23:42.650Z"
   },
   {
    "duration": 0,
    "start_time": "2025-03-09T19:23:42.651Z"
   },
   {
    "duration": 0,
    "start_time": "2025-03-09T19:23:42.653Z"
   },
   {
    "duration": 0,
    "start_time": "2025-03-09T19:23:42.653Z"
   },
   {
    "duration": 0,
    "start_time": "2025-03-09T19:23:42.654Z"
   },
   {
    "duration": 0,
    "start_time": "2025-03-09T19:23:42.657Z"
   },
   {
    "duration": 0,
    "start_time": "2025-03-09T19:23:42.658Z"
   },
   {
    "duration": 0,
    "start_time": "2025-03-09T19:23:42.659Z"
   },
   {
    "duration": 0,
    "start_time": "2025-03-09T19:23:42.661Z"
   },
   {
    "duration": 0,
    "start_time": "2025-03-09T19:23:42.663Z"
   },
   {
    "duration": 1,
    "start_time": "2025-03-09T19:23:42.663Z"
   },
   {
    "duration": 0,
    "start_time": "2025-03-09T19:23:42.705Z"
   },
   {
    "duration": 1,
    "start_time": "2025-03-09T19:23:42.706Z"
   },
   {
    "duration": 0,
    "start_time": "2025-03-09T19:23:42.708Z"
   },
   {
    "duration": 0,
    "start_time": "2025-03-09T19:23:42.709Z"
   },
   {
    "duration": 3,
    "start_time": "2025-03-09T19:27:54.553Z"
   },
   {
    "duration": 5,
    "start_time": "2025-03-09T19:27:54.561Z"
   },
   {
    "duration": 6,
    "start_time": "2025-03-09T19:27:54.568Z"
   },
   {
    "duration": 4,
    "start_time": "2025-03-09T19:27:54.576Z"
   },
   {
    "duration": 9,
    "start_time": "2025-03-09T19:27:54.582Z"
   },
   {
    "duration": 9,
    "start_time": "2025-03-09T19:27:54.593Z"
   },
   {
    "duration": 9,
    "start_time": "2025-03-09T19:27:54.604Z"
   },
   {
    "duration": 270,
    "start_time": "2025-03-09T19:27:54.615Z"
   },
   {
    "duration": 20,
    "start_time": "2025-03-09T19:27:54.887Z"
   },
   {
    "duration": 13,
    "start_time": "2025-03-09T19:27:54.909Z"
   },
   {
    "duration": 20,
    "start_time": "2025-03-09T19:27:54.923Z"
   },
   {
    "duration": 4,
    "start_time": "2025-03-09T19:27:54.946Z"
   },
   {
    "duration": 5,
    "start_time": "2025-03-09T19:27:54.952Z"
   },
   {
    "duration": 7,
    "start_time": "2025-03-09T19:27:54.960Z"
   },
   {
    "duration": 38,
    "start_time": "2025-03-09T19:27:54.969Z"
   },
   {
    "duration": 8,
    "start_time": "2025-03-09T19:27:55.008Z"
   },
   {
    "duration": 11,
    "start_time": "2025-03-09T19:27:55.018Z"
   },
   {
    "duration": 8,
    "start_time": "2025-03-09T19:27:55.031Z"
   },
   {
    "duration": 4,
    "start_time": "2025-03-09T19:27:55.042Z"
   },
   {
    "duration": 5,
    "start_time": "2025-03-09T19:27:55.047Z"
   },
   {
    "duration": 6,
    "start_time": "2025-03-09T19:27:55.053Z"
   },
   {
    "duration": 50,
    "start_time": "2025-03-09T19:27:55.062Z"
   },
   {
    "duration": 16,
    "start_time": "2025-03-09T19:27:55.117Z"
   },
   {
    "duration": 190,
    "start_time": "2025-03-09T19:27:55.136Z"
   },
   {
    "duration": 180,
    "start_time": "2025-03-09T19:27:55.328Z"
   },
   {
    "duration": 9,
    "start_time": "2025-03-09T19:27:55.510Z"
   },
   {
    "duration": 17,
    "start_time": "2025-03-09T19:27:55.522Z"
   },
   {
    "duration": 17,
    "start_time": "2025-03-09T19:27:55.541Z"
   },
   {
    "duration": 215,
    "start_time": "2025-03-09T19:27:55.560Z"
   },
   {
    "duration": 97,
    "start_time": "2025-03-09T19:27:55.779Z"
   },
   {
    "duration": 0,
    "start_time": "2025-03-09T19:27:55.879Z"
   },
   {
    "duration": 0,
    "start_time": "2025-03-09T19:27:55.880Z"
   },
   {
    "duration": 0,
    "start_time": "2025-03-09T19:27:55.882Z"
   },
   {
    "duration": 0,
    "start_time": "2025-03-09T19:27:55.883Z"
   },
   {
    "duration": 0,
    "start_time": "2025-03-09T19:27:55.885Z"
   },
   {
    "duration": 0,
    "start_time": "2025-03-09T19:27:55.886Z"
   },
   {
    "duration": 0,
    "start_time": "2025-03-09T19:27:55.887Z"
   },
   {
    "duration": 0,
    "start_time": "2025-03-09T19:27:55.906Z"
   },
   {
    "duration": 0,
    "start_time": "2025-03-09T19:27:55.907Z"
   },
   {
    "duration": 0,
    "start_time": "2025-03-09T19:27:55.909Z"
   },
   {
    "duration": 0,
    "start_time": "2025-03-09T19:27:55.910Z"
   },
   {
    "duration": 0,
    "start_time": "2025-03-09T19:27:55.911Z"
   },
   {
    "duration": 0,
    "start_time": "2025-03-09T19:27:55.913Z"
   },
   {
    "duration": 0,
    "start_time": "2025-03-09T19:27:55.915Z"
   },
   {
    "duration": 0,
    "start_time": "2025-03-09T19:27:55.916Z"
   },
   {
    "duration": 0,
    "start_time": "2025-03-09T19:27:55.918Z"
   },
   {
    "duration": 0,
    "start_time": "2025-03-09T19:27:55.919Z"
   },
   {
    "duration": 0,
    "start_time": "2025-03-09T19:27:55.921Z"
   },
   {
    "duration": 0,
    "start_time": "2025-03-09T19:27:55.922Z"
   },
   {
    "duration": 0,
    "start_time": "2025-03-09T19:27:55.924Z"
   },
   {
    "duration": 0,
    "start_time": "2025-03-09T19:27:55.925Z"
   },
   {
    "duration": 0,
    "start_time": "2025-03-09T19:27:55.927Z"
   },
   {
    "duration": 0,
    "start_time": "2025-03-09T19:27:55.928Z"
   },
   {
    "duration": 0,
    "start_time": "2025-03-09T19:27:55.930Z"
   },
   {
    "duration": 0,
    "start_time": "2025-03-09T19:27:55.932Z"
   },
   {
    "duration": 0,
    "start_time": "2025-03-09T19:27:55.933Z"
   },
   {
    "duration": 0,
    "start_time": "2025-03-09T19:27:55.935Z"
   },
   {
    "duration": 0,
    "start_time": "2025-03-09T19:27:55.936Z"
   },
   {
    "duration": 951,
    "start_time": "2025-03-09T19:29:08.266Z"
   },
   {
    "duration": 8,
    "start_time": "2025-03-09T19:29:09.221Z"
   },
   {
    "duration": 12,
    "start_time": "2025-03-09T19:29:09.230Z"
   },
   {
    "duration": 4,
    "start_time": "2025-03-09T19:29:09.245Z"
   },
   {
    "duration": 10,
    "start_time": "2025-03-09T19:29:09.251Z"
   },
   {
    "duration": 12,
    "start_time": "2025-03-09T19:29:09.264Z"
   },
   {
    "duration": 13,
    "start_time": "2025-03-09T19:29:09.306Z"
   },
   {
    "duration": 323,
    "start_time": "2025-03-09T19:29:09.322Z"
   },
   {
    "duration": 11,
    "start_time": "2025-03-09T19:29:09.647Z"
   },
   {
    "duration": 14,
    "start_time": "2025-03-09T19:29:09.661Z"
   },
   {
    "duration": 14,
    "start_time": "2025-03-09T19:29:09.676Z"
   },
   {
    "duration": 16,
    "start_time": "2025-03-09T19:29:09.692Z"
   },
   {
    "duration": 5,
    "start_time": "2025-03-09T19:29:09.710Z"
   },
   {
    "duration": 7,
    "start_time": "2025-03-09T19:29:09.717Z"
   },
   {
    "duration": 10,
    "start_time": "2025-03-09T19:29:09.726Z"
   },
   {
    "duration": 8,
    "start_time": "2025-03-09T19:29:09.738Z"
   },
   {
    "duration": 10,
    "start_time": "2025-03-09T19:29:09.748Z"
   },
   {
    "duration": 46,
    "start_time": "2025-03-09T19:29:09.760Z"
   },
   {
    "duration": 7,
    "start_time": "2025-03-09T19:29:09.808Z"
   },
   {
    "duration": 4,
    "start_time": "2025-03-09T19:29:09.819Z"
   },
   {
    "duration": 6,
    "start_time": "2025-03-09T19:29:09.825Z"
   },
   {
    "duration": 10,
    "start_time": "2025-03-09T19:29:09.833Z"
   },
   {
    "duration": 17,
    "start_time": "2025-03-09T19:29:09.844Z"
   },
   {
    "duration": 206,
    "start_time": "2025-03-09T19:29:09.863Z"
   },
   {
    "duration": 204,
    "start_time": "2025-03-09T19:29:10.071Z"
   },
   {
    "duration": 10,
    "start_time": "2025-03-09T19:29:10.277Z"
   },
   {
    "duration": 36,
    "start_time": "2025-03-09T19:29:10.290Z"
   },
   {
    "duration": 26,
    "start_time": "2025-03-09T19:29:10.331Z"
   },
   {
    "duration": 200,
    "start_time": "2025-03-09T19:29:10.358Z"
   },
   {
    "duration": 1362,
    "start_time": "2025-03-09T19:29:10.561Z"
   },
   {
    "duration": 0,
    "start_time": "2025-03-09T19:29:11.926Z"
   },
   {
    "duration": 0,
    "start_time": "2025-03-09T19:29:11.928Z"
   },
   {
    "duration": 0,
    "start_time": "2025-03-09T19:29:11.929Z"
   },
   {
    "duration": 0,
    "start_time": "2025-03-09T19:29:11.931Z"
   },
   {
    "duration": 0,
    "start_time": "2025-03-09T19:29:11.932Z"
   },
   {
    "duration": 0,
    "start_time": "2025-03-09T19:29:11.933Z"
   },
   {
    "duration": 0,
    "start_time": "2025-03-09T19:29:11.934Z"
   },
   {
    "duration": 0,
    "start_time": "2025-03-09T19:29:11.936Z"
   },
   {
    "duration": 0,
    "start_time": "2025-03-09T19:29:11.937Z"
   },
   {
    "duration": 0,
    "start_time": "2025-03-09T19:29:11.938Z"
   },
   {
    "duration": 0,
    "start_time": "2025-03-09T19:29:11.940Z"
   },
   {
    "duration": 0,
    "start_time": "2025-03-09T19:29:11.941Z"
   },
   {
    "duration": 0,
    "start_time": "2025-03-09T19:29:11.943Z"
   },
   {
    "duration": 0,
    "start_time": "2025-03-09T19:29:11.944Z"
   },
   {
    "duration": 0,
    "start_time": "2025-03-09T19:29:11.947Z"
   },
   {
    "duration": 0,
    "start_time": "2025-03-09T19:29:11.949Z"
   },
   {
    "duration": 0,
    "start_time": "2025-03-09T19:29:11.953Z"
   },
   {
    "duration": 0,
    "start_time": "2025-03-09T19:29:11.955Z"
   },
   {
    "duration": 0,
    "start_time": "2025-03-09T19:29:11.956Z"
   },
   {
    "duration": 0,
    "start_time": "2025-03-09T19:29:11.958Z"
   },
   {
    "duration": 0,
    "start_time": "2025-03-09T19:29:11.959Z"
   },
   {
    "duration": 0,
    "start_time": "2025-03-09T19:29:11.960Z"
   },
   {
    "duration": 0,
    "start_time": "2025-03-09T19:29:12.005Z"
   },
   {
    "duration": 0,
    "start_time": "2025-03-09T19:29:12.007Z"
   },
   {
    "duration": 0,
    "start_time": "2025-03-09T19:29:12.009Z"
   },
   {
    "duration": 0,
    "start_time": "2025-03-09T19:29:12.011Z"
   },
   {
    "duration": 0,
    "start_time": "2025-03-09T19:29:12.012Z"
   },
   {
    "duration": 0,
    "start_time": "2025-03-09T19:29:12.014Z"
   },
   {
    "duration": 85,
    "start_time": "2025-03-09T19:52:27.990Z"
   },
   {
    "duration": 18,
    "start_time": "2025-03-09T19:52:38.095Z"
   },
   {
    "duration": 183,
    "start_time": "2025-03-09T19:52:40.653Z"
   },
   {
    "duration": 87,
    "start_time": "2025-03-09T19:52:48.046Z"
   },
   {
    "duration": 4,
    "start_time": "2025-03-09T19:54:41.710Z"
   },
   {
    "duration": 7,
    "start_time": "2025-03-09T19:55:31.247Z"
   },
   {
    "duration": 84,
    "start_time": "2025-03-09T19:55:37.020Z"
   },
   {
    "duration": 92,
    "start_time": "2025-03-09T19:55:54.509Z"
   },
   {
    "duration": 87,
    "start_time": "2025-03-09T19:56:41.834Z"
   },
   {
    "duration": 15,
    "start_time": "2025-03-09T19:59:07.519Z"
   },
   {
    "duration": 16,
    "start_time": "2025-03-09T19:59:23.622Z"
   },
   {
    "duration": 14,
    "start_time": "2025-03-09T19:59:59.080Z"
   },
   {
    "duration": 13,
    "start_time": "2025-03-09T20:00:05.508Z"
   },
   {
    "duration": 13,
    "start_time": "2025-03-09T20:00:13.708Z"
   },
   {
    "duration": 254,
    "start_time": "2025-03-09T20:00:23.579Z"
   },
   {
    "duration": 21,
    "start_time": "2025-03-09T20:00:31.003Z"
   },
   {
    "duration": 21,
    "start_time": "2025-03-09T20:02:29.932Z"
   },
   {
    "duration": 192,
    "start_time": "2025-03-09T20:02:32.899Z"
   },
   {
    "duration": 10,
    "start_time": "2025-03-09T20:02:37.866Z"
   },
   {
    "duration": 120,
    "start_time": "2025-03-09T20:02:41.287Z"
   },
   {
    "duration": 4,
    "start_time": "2025-03-09T20:02:44.807Z"
   },
   {
    "duration": 12,
    "start_time": "2025-03-09T20:02:46.872Z"
   },
   {
    "duration": 3,
    "start_time": "2025-03-09T20:02:47.882Z"
   },
   {
    "duration": 4,
    "start_time": "2025-03-09T20:02:48.717Z"
   },
   {
    "duration": 501,
    "start_time": "2025-03-09T20:02:49.117Z"
   },
   {
    "duration": 9,
    "start_time": "2025-03-09T20:02:49.621Z"
   },
   {
    "duration": 185,
    "start_time": "2025-03-09T20:02:49.841Z"
   },
   {
    "duration": 5,
    "start_time": "2025-03-09T20:02:50.901Z"
   },
   {
    "duration": 8,
    "start_time": "2025-03-09T20:02:51.514Z"
   },
   {
    "duration": 4,
    "start_time": "2025-03-09T20:02:51.732Z"
   },
   {
    "duration": 2,
    "start_time": "2025-03-09T20:02:52.315Z"
   },
   {
    "duration": 5,
    "start_time": "2025-03-09T20:02:52.520Z"
   },
   {
    "duration": 2,
    "start_time": "2025-03-09T20:02:52.719Z"
   },
   {
    "duration": 3,
    "start_time": "2025-03-09T20:02:52.907Z"
   },
   {
    "duration": 4,
    "start_time": "2025-03-09T20:02:53.099Z"
   },
   {
    "duration": 11,
    "start_time": "2025-03-09T20:02:53.676Z"
   },
   {
    "duration": 12,
    "start_time": "2025-03-09T20:02:54.295Z"
   },
   {
    "duration": 15,
    "start_time": "2025-03-09T20:02:54.500Z"
   },
   {
    "duration": 7,
    "start_time": "2025-03-09T20:02:54.709Z"
   },
   {
    "duration": 14,
    "start_time": "2025-03-09T20:02:54.915Z"
   },
   {
    "duration": 17,
    "start_time": "2025-03-09T20:02:55.127Z"
   },
   {
    "duration": 8,
    "start_time": "2025-03-09T20:02:55.320Z"
   },
   {
    "duration": 10,
    "start_time": "2025-03-09T20:02:56.100Z"
   },
   {
    "duration": 13,
    "start_time": "2025-03-09T20:43:20.025Z"
   },
   {
    "duration": 5,
    "start_time": "2025-03-09T20:47:05.976Z"
   },
   {
    "duration": 6,
    "start_time": "2025-03-09T20:48:13.644Z"
   },
   {
    "duration": 8,
    "start_time": "2025-03-09T20:48:44.966Z"
   },
   {
    "duration": 4,
    "start_time": "2025-03-09T20:49:25.630Z"
   },
   {
    "duration": 23,
    "start_time": "2025-03-09T20:49:33.772Z"
   },
   {
    "duration": 4,
    "start_time": "2025-03-09T20:50:07.150Z"
   },
   {
    "duration": 21,
    "start_time": "2025-03-09T20:50:12.038Z"
   },
   {
    "duration": 3,
    "start_time": "2025-03-09T20:50:27.737Z"
   },
   {
    "duration": 4,
    "start_time": "2025-03-09T20:50:30.289Z"
   },
   {
    "duration": 4,
    "start_time": "2025-03-09T20:51:39.978Z"
   },
   {
    "duration": 4,
    "start_time": "2025-03-09T20:51:43.412Z"
   },
   {
    "duration": 7,
    "start_time": "2025-03-09T20:53:15.844Z"
   },
   {
    "duration": 8,
    "start_time": "2025-03-09T20:59:07.773Z"
   },
   {
    "duration": 795,
    "start_time": "2025-03-09T21:08:00.886Z"
   },
   {
    "duration": 7,
    "start_time": "2025-03-09T21:08:01.685Z"
   },
   {
    "duration": 15,
    "start_time": "2025-03-09T21:08:01.694Z"
   },
   {
    "duration": 5,
    "start_time": "2025-03-09T21:08:01.712Z"
   },
   {
    "duration": 9,
    "start_time": "2025-03-09T21:08:01.718Z"
   },
   {
    "duration": 10,
    "start_time": "2025-03-09T21:08:01.729Z"
   },
   {
    "duration": 8,
    "start_time": "2025-03-09T21:08:01.742Z"
   },
   {
    "duration": 293,
    "start_time": "2025-03-09T21:08:01.752Z"
   },
   {
    "duration": 10,
    "start_time": "2025-03-09T21:08:02.047Z"
   },
   {
    "duration": 13,
    "start_time": "2025-03-09T21:08:02.060Z"
   },
   {
    "duration": 9,
    "start_time": "2025-03-09T21:08:02.075Z"
   },
   {
    "duration": 4,
    "start_time": "2025-03-09T21:08:02.085Z"
   },
   {
    "duration": 4,
    "start_time": "2025-03-09T21:08:02.091Z"
   },
   {
    "duration": 12,
    "start_time": "2025-03-09T21:08:02.097Z"
   },
   {
    "duration": 9,
    "start_time": "2025-03-09T21:08:02.111Z"
   },
   {
    "duration": 7,
    "start_time": "2025-03-09T21:08:02.122Z"
   },
   {
    "duration": 11,
    "start_time": "2025-03-09T21:08:02.131Z"
   },
   {
    "duration": 8,
    "start_time": "2025-03-09T21:08:02.144Z"
   },
   {
    "duration": 3,
    "start_time": "2025-03-09T21:08:02.154Z"
   },
   {
    "duration": 4,
    "start_time": "2025-03-09T21:08:02.159Z"
   },
   {
    "duration": 44,
    "start_time": "2025-03-09T21:08:02.165Z"
   },
   {
    "duration": 10,
    "start_time": "2025-03-09T21:08:02.210Z"
   },
   {
    "duration": 16,
    "start_time": "2025-03-09T21:08:02.222Z"
   },
   {
    "duration": 209,
    "start_time": "2025-03-09T21:08:02.241Z"
   },
   {
    "duration": 189,
    "start_time": "2025-03-09T21:08:02.452Z"
   },
   {
    "duration": 10,
    "start_time": "2025-03-09T21:08:02.643Z"
   },
   {
    "duration": 16,
    "start_time": "2025-03-09T21:08:02.655Z"
   },
   {
    "duration": 42,
    "start_time": "2025-03-09T21:08:02.675Z"
   },
   {
    "duration": 184,
    "start_time": "2025-03-09T21:08:02.719Z"
   },
   {
    "duration": 1312,
    "start_time": "2025-03-09T21:08:02.905Z"
   },
   {
    "duration": 0,
    "start_time": "2025-03-09T21:08:04.219Z"
   },
   {
    "duration": 0,
    "start_time": "2025-03-09T21:08:04.220Z"
   },
   {
    "duration": 0,
    "start_time": "2025-03-09T21:08:04.222Z"
   },
   {
    "duration": 0,
    "start_time": "2025-03-09T21:08:04.223Z"
   },
   {
    "duration": 0,
    "start_time": "2025-03-09T21:08:04.223Z"
   },
   {
    "duration": 0,
    "start_time": "2025-03-09T21:08:04.225Z"
   },
   {
    "duration": 0,
    "start_time": "2025-03-09T21:08:04.226Z"
   },
   {
    "duration": 0,
    "start_time": "2025-03-09T21:08:04.227Z"
   },
   {
    "duration": 0,
    "start_time": "2025-03-09T21:08:04.228Z"
   },
   {
    "duration": 0,
    "start_time": "2025-03-09T21:08:04.229Z"
   },
   {
    "duration": 0,
    "start_time": "2025-03-09T21:08:04.230Z"
   },
   {
    "duration": 0,
    "start_time": "2025-03-09T21:08:04.231Z"
   },
   {
    "duration": 0,
    "start_time": "2025-03-09T21:08:04.232Z"
   },
   {
    "duration": 0,
    "start_time": "2025-03-09T21:08:04.233Z"
   },
   {
    "duration": 0,
    "start_time": "2025-03-09T21:08:04.234Z"
   },
   {
    "duration": 0,
    "start_time": "2025-03-09T21:08:04.236Z"
   },
   {
    "duration": 0,
    "start_time": "2025-03-09T21:08:04.238Z"
   },
   {
    "duration": 0,
    "start_time": "2025-03-09T21:08:04.239Z"
   },
   {
    "duration": 0,
    "start_time": "2025-03-09T21:08:04.241Z"
   },
   {
    "duration": 0,
    "start_time": "2025-03-09T21:08:04.244Z"
   },
   {
    "duration": 0,
    "start_time": "2025-03-09T21:08:04.245Z"
   },
   {
    "duration": 0,
    "start_time": "2025-03-09T21:08:04.246Z"
   },
   {
    "duration": 0,
    "start_time": "2025-03-09T21:08:04.247Z"
   },
   {
    "duration": 0,
    "start_time": "2025-03-09T21:08:04.248Z"
   },
   {
    "duration": 0,
    "start_time": "2025-03-09T21:08:04.249Z"
   },
   {
    "duration": 0,
    "start_time": "2025-03-09T21:08:04.250Z"
   },
   {
    "duration": 0,
    "start_time": "2025-03-09T21:08:04.305Z"
   },
   {
    "duration": 14,
    "start_time": "2025-03-09T21:09:29.196Z"
   },
   {
    "duration": 12,
    "start_time": "2025-03-09T21:09:52.866Z"
   },
   {
    "duration": 15,
    "start_time": "2025-03-09T21:10:04.300Z"
   },
   {
    "duration": 772,
    "start_time": "2025-03-09T21:10:23.573Z"
   },
   {
    "duration": 7,
    "start_time": "2025-03-09T21:10:24.349Z"
   },
   {
    "duration": 9,
    "start_time": "2025-03-09T21:10:24.358Z"
   },
   {
    "duration": 5,
    "start_time": "2025-03-09T21:10:24.369Z"
   },
   {
    "duration": 9,
    "start_time": "2025-03-09T21:10:24.375Z"
   },
   {
    "duration": 10,
    "start_time": "2025-03-09T21:10:24.406Z"
   },
   {
    "duration": 12,
    "start_time": "2025-03-09T21:10:24.417Z"
   },
   {
    "duration": 286,
    "start_time": "2025-03-09T21:10:24.432Z"
   },
   {
    "duration": 10,
    "start_time": "2025-03-09T21:10:24.720Z"
   },
   {
    "duration": 13,
    "start_time": "2025-03-09T21:10:24.734Z"
   },
   {
    "duration": 9,
    "start_time": "2025-03-09T21:10:24.748Z"
   },
   {
    "duration": 4,
    "start_time": "2025-03-09T21:10:24.759Z"
   },
   {
    "duration": 5,
    "start_time": "2025-03-09T21:10:24.764Z"
   },
   {
    "duration": 6,
    "start_time": "2025-03-09T21:10:24.770Z"
   },
   {
    "duration": 32,
    "start_time": "2025-03-09T21:10:24.778Z"
   },
   {
    "duration": 8,
    "start_time": "2025-03-09T21:10:24.812Z"
   },
   {
    "duration": 10,
    "start_time": "2025-03-09T21:10:24.822Z"
   },
   {
    "duration": 9,
    "start_time": "2025-03-09T21:10:24.833Z"
   },
   {
    "duration": 4,
    "start_time": "2025-03-09T21:10:24.844Z"
   },
   {
    "duration": 4,
    "start_time": "2025-03-09T21:10:24.849Z"
   },
   {
    "duration": 6,
    "start_time": "2025-03-09T21:10:24.855Z"
   },
   {
    "duration": 51,
    "start_time": "2025-03-09T21:10:24.862Z"
   },
   {
    "duration": 16,
    "start_time": "2025-03-09T21:10:24.915Z"
   },
   {
    "duration": 190,
    "start_time": "2025-03-09T21:10:24.933Z"
   },
   {
    "duration": 200,
    "start_time": "2025-03-09T21:10:25.126Z"
   },
   {
    "duration": 8,
    "start_time": "2025-03-09T21:10:25.328Z"
   },
   {
    "duration": 16,
    "start_time": "2025-03-09T21:10:25.338Z"
   },
   {
    "duration": 19,
    "start_time": "2025-03-09T21:10:25.358Z"
   },
   {
    "duration": 213,
    "start_time": "2025-03-09T21:10:25.379Z"
   },
   {
    "duration": 1293,
    "start_time": "2025-03-09T21:10:25.595Z"
   },
   {
    "duration": 0,
    "start_time": "2025-03-09T21:10:26.891Z"
   },
   {
    "duration": 0,
    "start_time": "2025-03-09T21:10:26.891Z"
   },
   {
    "duration": 0,
    "start_time": "2025-03-09T21:10:26.892Z"
   },
   {
    "duration": 0,
    "start_time": "2025-03-09T21:10:26.905Z"
   },
   {
    "duration": 0,
    "start_time": "2025-03-09T21:10:26.906Z"
   },
   {
    "duration": 0,
    "start_time": "2025-03-09T21:10:26.908Z"
   },
   {
    "duration": 0,
    "start_time": "2025-03-09T21:10:26.909Z"
   },
   {
    "duration": 0,
    "start_time": "2025-03-09T21:10:26.910Z"
   },
   {
    "duration": 0,
    "start_time": "2025-03-09T21:10:26.912Z"
   },
   {
    "duration": 0,
    "start_time": "2025-03-09T21:10:26.913Z"
   },
   {
    "duration": 1,
    "start_time": "2025-03-09T21:10:26.913Z"
   },
   {
    "duration": 0,
    "start_time": "2025-03-09T21:10:26.915Z"
   },
   {
    "duration": 0,
    "start_time": "2025-03-09T21:10:26.916Z"
   },
   {
    "duration": 0,
    "start_time": "2025-03-09T21:10:26.917Z"
   },
   {
    "duration": 0,
    "start_time": "2025-03-09T21:10:26.918Z"
   },
   {
    "duration": 0,
    "start_time": "2025-03-09T21:10:26.919Z"
   },
   {
    "duration": 0,
    "start_time": "2025-03-09T21:10:26.920Z"
   },
   {
    "duration": 0,
    "start_time": "2025-03-09T21:10:26.921Z"
   },
   {
    "duration": 0,
    "start_time": "2025-03-09T21:10:26.922Z"
   },
   {
    "duration": 0,
    "start_time": "2025-03-09T21:10:26.923Z"
   },
   {
    "duration": 0,
    "start_time": "2025-03-09T21:10:26.924Z"
   },
   {
    "duration": 0,
    "start_time": "2025-03-09T21:10:26.925Z"
   },
   {
    "duration": 0,
    "start_time": "2025-03-09T21:10:26.926Z"
   },
   {
    "duration": 0,
    "start_time": "2025-03-09T21:10:26.928Z"
   },
   {
    "duration": 0,
    "start_time": "2025-03-09T21:10:26.929Z"
   },
   {
    "duration": 0,
    "start_time": "2025-03-09T21:10:26.930Z"
   },
   {
    "duration": 0,
    "start_time": "2025-03-09T21:10:26.931Z"
   },
   {
    "duration": 15,
    "start_time": "2025-03-09T21:10:49.167Z"
   },
   {
    "duration": 799,
    "start_time": "2025-03-09T21:10:57.310Z"
   },
   {
    "duration": 6,
    "start_time": "2025-03-09T21:10:58.112Z"
   },
   {
    "duration": 8,
    "start_time": "2025-03-09T21:10:58.120Z"
   },
   {
    "duration": 4,
    "start_time": "2025-03-09T21:10:58.130Z"
   },
   {
    "duration": 9,
    "start_time": "2025-03-09T21:10:58.136Z"
   },
   {
    "duration": 9,
    "start_time": "2025-03-09T21:10:58.146Z"
   },
   {
    "duration": 9,
    "start_time": "2025-03-09T21:10:58.157Z"
   },
   {
    "duration": 322,
    "start_time": "2025-03-09T21:10:58.168Z"
   },
   {
    "duration": 9,
    "start_time": "2025-03-09T21:10:58.492Z"
   },
   {
    "duration": 13,
    "start_time": "2025-03-09T21:10:58.505Z"
   },
   {
    "duration": 10,
    "start_time": "2025-03-09T21:10:58.520Z"
   },
   {
    "duration": 3,
    "start_time": "2025-03-09T21:10:58.532Z"
   },
   {
    "duration": 5,
    "start_time": "2025-03-09T21:10:58.537Z"
   },
   {
    "duration": 6,
    "start_time": "2025-03-09T21:10:58.543Z"
   },
   {
    "duration": 10,
    "start_time": "2025-03-09T21:10:58.551Z"
   },
   {
    "duration": 8,
    "start_time": "2025-03-09T21:10:58.563Z"
   },
   {
    "duration": 42,
    "start_time": "2025-03-09T21:10:58.572Z"
   },
   {
    "duration": 8,
    "start_time": "2025-03-09T21:10:58.616Z"
   },
   {
    "duration": 4,
    "start_time": "2025-03-09T21:10:58.626Z"
   },
   {
    "duration": 4,
    "start_time": "2025-03-09T21:10:58.632Z"
   },
   {
    "duration": 5,
    "start_time": "2025-03-09T21:10:58.637Z"
   },
   {
    "duration": 9,
    "start_time": "2025-03-09T21:10:58.644Z"
   },
   {
    "duration": 52,
    "start_time": "2025-03-09T21:10:58.654Z"
   },
   {
    "duration": 183,
    "start_time": "2025-03-09T21:10:58.708Z"
   },
   {
    "duration": 191,
    "start_time": "2025-03-09T21:10:58.893Z"
   },
   {
    "duration": 8,
    "start_time": "2025-03-09T21:10:59.085Z"
   },
   {
    "duration": 26,
    "start_time": "2025-03-09T21:10:59.095Z"
   },
   {
    "duration": 17,
    "start_time": "2025-03-09T21:10:59.125Z"
   },
   {
    "duration": 214,
    "start_time": "2025-03-09T21:10:59.144Z"
   },
   {
    "duration": 15,
    "start_time": "2025-03-09T21:10:59.360Z"
   },
   {
    "duration": 348,
    "start_time": "2025-03-09T21:10:59.377Z"
   },
   {
    "duration": 19,
    "start_time": "2025-03-09T21:10:59.729Z"
   },
   {
    "duration": 196,
    "start_time": "2025-03-09T21:10:59.749Z"
   },
   {
    "duration": 11,
    "start_time": "2025-03-09T21:10:59.947Z"
   },
   {
    "duration": 141,
    "start_time": "2025-03-09T21:10:59.959Z"
   },
   {
    "duration": 5,
    "start_time": "2025-03-09T21:11:00.105Z"
   },
   {
    "duration": 14,
    "start_time": "2025-03-09T21:11:00.112Z"
   },
   {
    "duration": 3,
    "start_time": "2025-03-09T21:11:00.128Z"
   },
   {
    "duration": 5,
    "start_time": "2025-03-09T21:11:00.133Z"
   },
   {
    "duration": 438,
    "start_time": "2025-03-09T21:11:00.139Z"
   },
   {
    "duration": 8,
    "start_time": "2025-03-09T21:11:00.578Z"
   },
   {
    "duration": 203,
    "start_time": "2025-03-09T21:11:00.588Z"
   },
   {
    "duration": 4,
    "start_time": "2025-03-09T21:11:00.793Z"
   },
   {
    "duration": 7,
    "start_time": "2025-03-09T21:11:00.806Z"
   },
   {
    "duration": 3,
    "start_time": "2025-03-09T21:11:00.814Z"
   },
   {
    "duration": 6,
    "start_time": "2025-03-09T21:11:00.819Z"
   },
   {
    "duration": 5,
    "start_time": "2025-03-09T21:11:00.827Z"
   },
   {
    "duration": 5,
    "start_time": "2025-03-09T21:11:00.834Z"
   },
   {
    "duration": 5,
    "start_time": "2025-03-09T21:11:00.840Z"
   },
   {
    "duration": 10,
    "start_time": "2025-03-09T21:11:00.847Z"
   },
   {
    "duration": 55,
    "start_time": "2025-03-09T21:11:00.858Z"
   },
   {
    "duration": 17,
    "start_time": "2025-03-09T21:11:00.915Z"
   },
   {
    "duration": 6,
    "start_time": "2025-03-09T21:11:00.935Z"
   },
   {
    "duration": 14,
    "start_time": "2025-03-09T21:11:00.942Z"
   },
   {
    "duration": 15,
    "start_time": "2025-03-09T21:11:00.958Z"
   },
   {
    "duration": 10,
    "start_time": "2025-03-09T21:11:01.006Z"
   },
   {
    "duration": 9,
    "start_time": "2025-03-09T21:11:01.019Z"
   },
   {
    "duration": 2826,
    "start_time": "2025-03-09T21:18:39.806Z"
   },
   {
    "duration": 10,
    "start_time": "2025-03-09T21:18:42.636Z"
   },
   {
    "duration": 12,
    "start_time": "2025-03-09T21:18:42.648Z"
   },
   {
    "duration": 4,
    "start_time": "2025-03-09T21:18:42.663Z"
   },
   {
    "duration": 64,
    "start_time": "2025-03-09T21:18:42.668Z"
   },
   {
    "duration": 13,
    "start_time": "2025-03-09T21:18:42.735Z"
   },
   {
    "duration": 9,
    "start_time": "2025-03-09T21:18:42.750Z"
   },
   {
    "duration": 502,
    "start_time": "2025-03-09T21:18:42.761Z"
   },
   {
    "duration": 10,
    "start_time": "2025-03-09T21:18:43.265Z"
   },
   {
    "duration": 15,
    "start_time": "2025-03-09T21:18:43.279Z"
   },
   {
    "duration": 8,
    "start_time": "2025-03-09T21:18:43.296Z"
   },
   {
    "duration": 3,
    "start_time": "2025-03-09T21:18:43.306Z"
   },
   {
    "duration": 4,
    "start_time": "2025-03-09T21:18:43.310Z"
   },
   {
    "duration": 16,
    "start_time": "2025-03-09T21:18:43.316Z"
   },
   {
    "duration": 9,
    "start_time": "2025-03-09T21:18:43.334Z"
   },
   {
    "duration": 8,
    "start_time": "2025-03-09T21:18:43.344Z"
   },
   {
    "duration": 13,
    "start_time": "2025-03-09T21:18:43.354Z"
   },
   {
    "duration": 8,
    "start_time": "2025-03-09T21:18:43.369Z"
   },
   {
    "duration": 3,
    "start_time": "2025-03-09T21:18:43.379Z"
   },
   {
    "duration": 4,
    "start_time": "2025-03-09T21:18:43.384Z"
   },
   {
    "duration": 6,
    "start_time": "2025-03-09T21:18:43.389Z"
   },
   {
    "duration": 42,
    "start_time": "2025-03-09T21:18:43.396Z"
   },
   {
    "duration": 17,
    "start_time": "2025-03-09T21:18:43.440Z"
   },
   {
    "duration": 184,
    "start_time": "2025-03-09T21:18:43.458Z"
   },
   {
    "duration": 202,
    "start_time": "2025-03-09T21:18:43.644Z"
   },
   {
    "duration": 10,
    "start_time": "2025-03-09T21:18:43.848Z"
   },
   {
    "duration": 19,
    "start_time": "2025-03-09T21:18:43.861Z"
   },
   {
    "duration": 21,
    "start_time": "2025-03-09T21:18:43.885Z"
   },
   {
    "duration": 198,
    "start_time": "2025-03-09T21:18:43.907Z"
   },
   {
    "duration": 24,
    "start_time": "2025-03-09T21:18:44.108Z"
   },
   {
    "duration": 312,
    "start_time": "2025-03-09T21:18:44.134Z"
   },
   {
    "duration": 19,
    "start_time": "2025-03-09T21:18:44.447Z"
   },
   {
    "duration": 302,
    "start_time": "2025-03-09T21:18:44.468Z"
   },
   {
    "duration": 69,
    "start_time": "2025-03-09T21:18:44.772Z"
   },
   {
    "duration": 293,
    "start_time": "2025-03-09T21:18:44.843Z"
   },
   {
    "duration": 4,
    "start_time": "2025-03-09T21:18:45.138Z"
   },
   {
    "duration": 13,
    "start_time": "2025-03-09T21:18:45.144Z"
   },
   {
    "duration": 3,
    "start_time": "2025-03-09T21:18:45.158Z"
   },
   {
    "duration": 3,
    "start_time": "2025-03-09T21:18:45.163Z"
   },
   {
    "duration": 672,
    "start_time": "2025-03-09T21:18:45.168Z"
   },
   {
    "duration": 8,
    "start_time": "2025-03-09T21:18:45.842Z"
   },
   {
    "duration": 196,
    "start_time": "2025-03-09T21:18:45.851Z"
   },
   {
    "duration": 4,
    "start_time": "2025-03-09T21:18:46.049Z"
   },
   {
    "duration": 7,
    "start_time": "2025-03-09T21:18:46.054Z"
   },
   {
    "duration": 3,
    "start_time": "2025-03-09T21:18:46.062Z"
   },
   {
    "duration": 5,
    "start_time": "2025-03-09T21:18:46.067Z"
   },
   {
    "duration": 6,
    "start_time": "2025-03-09T21:18:46.073Z"
   },
   {
    "duration": 5,
    "start_time": "2025-03-09T21:18:46.080Z"
   },
   {
    "duration": 5,
    "start_time": "2025-03-09T21:18:46.086Z"
   },
   {
    "duration": 13,
    "start_time": "2025-03-09T21:18:46.130Z"
   },
   {
    "duration": 11,
    "start_time": "2025-03-09T21:18:46.145Z"
   },
   {
    "duration": 15,
    "start_time": "2025-03-09T21:18:46.158Z"
   },
   {
    "duration": 4,
    "start_time": "2025-03-09T21:18:46.175Z"
   },
   {
    "duration": 13,
    "start_time": "2025-03-09T21:18:46.181Z"
   },
   {
    "duration": 45,
    "start_time": "2025-03-09T21:18:46.195Z"
   },
   {
    "duration": 9,
    "start_time": "2025-03-09T21:18:46.242Z"
   },
   {
    "duration": 8,
    "start_time": "2025-03-09T21:18:46.254Z"
   },
   {
    "duration": 169,
    "start_time": "2025-03-09T21:46:10.983Z"
   },
   {
    "duration": 2613,
    "start_time": "2025-03-09T21:46:22.696Z"
   },
   {
    "duration": 12,
    "start_time": "2025-03-09T21:46:25.312Z"
   },
   {
    "duration": 2,
    "start_time": "2025-03-09T21:46:25.327Z"
   },
   {
    "duration": 9,
    "start_time": "2025-03-09T21:46:25.332Z"
   },
   {
    "duration": 13,
    "start_time": "2025-03-09T21:46:25.344Z"
   },
   {
    "duration": 13,
    "start_time": "2025-03-09T21:46:25.359Z"
   },
   {
    "duration": 8,
    "start_time": "2025-03-09T21:46:25.374Z"
   },
   {
    "duration": 260,
    "start_time": "2025-03-09T21:46:25.409Z"
   },
   {
    "duration": 10,
    "start_time": "2025-03-09T21:46:25.672Z"
   },
   {
    "duration": 17,
    "start_time": "2025-03-09T21:46:25.686Z"
   },
   {
    "duration": 11,
    "start_time": "2025-03-09T21:46:25.709Z"
   },
   {
    "duration": 4,
    "start_time": "2025-03-09T21:46:25.721Z"
   },
   {
    "duration": 6,
    "start_time": "2025-03-09T21:46:25.727Z"
   },
   {
    "duration": 5,
    "start_time": "2025-03-09T21:46:25.735Z"
   },
   {
    "duration": 9,
    "start_time": "2025-03-09T21:46:25.742Z"
   },
   {
    "duration": 10,
    "start_time": "2025-03-09T21:46:25.753Z"
   },
   {
    "duration": 45,
    "start_time": "2025-03-09T21:46:25.765Z"
   },
   {
    "duration": 9,
    "start_time": "2025-03-09T21:46:25.812Z"
   },
   {
    "duration": 4,
    "start_time": "2025-03-09T21:46:25.823Z"
   },
   {
    "duration": 4,
    "start_time": "2025-03-09T21:46:25.829Z"
   },
   {
    "duration": 5,
    "start_time": "2025-03-09T21:46:25.834Z"
   },
   {
    "duration": 9,
    "start_time": "2025-03-09T21:46:25.841Z"
   },
   {
    "duration": 16,
    "start_time": "2025-03-09T21:46:25.852Z"
   },
   {
    "duration": 213,
    "start_time": "2025-03-09T21:46:25.870Z"
   },
   {
    "duration": 192,
    "start_time": "2025-03-09T21:46:26.085Z"
   },
   {
    "duration": 8,
    "start_time": "2025-03-09T21:46:26.280Z"
   },
   {
    "duration": 29,
    "start_time": "2025-03-09T21:46:26.290Z"
   },
   {
    "duration": 19,
    "start_time": "2025-03-09T21:46:26.323Z"
   },
   {
    "duration": 209,
    "start_time": "2025-03-09T21:46:26.344Z"
   },
   {
    "duration": 19,
    "start_time": "2025-03-09T21:46:26.554Z"
   },
   {
    "duration": 276,
    "start_time": "2025-03-09T21:46:26.575Z"
   },
   {
    "duration": 22,
    "start_time": "2025-03-09T21:46:26.853Z"
   },
   {
    "duration": 197,
    "start_time": "2025-03-09T21:46:26.878Z"
   },
   {
    "duration": 9,
    "start_time": "2025-03-09T21:46:27.078Z"
   },
   {
    "duration": 157,
    "start_time": "2025-03-09T21:46:27.089Z"
   },
   {
    "duration": 4,
    "start_time": "2025-03-09T21:46:27.248Z"
   },
   {
    "duration": 12,
    "start_time": "2025-03-09T21:46:27.254Z"
   },
   {
    "duration": 3,
    "start_time": "2025-03-09T21:46:27.269Z"
   },
   {
    "duration": 6,
    "start_time": "2025-03-09T21:46:27.274Z"
   },
   {
    "duration": 511,
    "start_time": "2025-03-09T21:46:27.282Z"
   },
   {
    "duration": 17,
    "start_time": "2025-03-09T21:46:27.796Z"
   },
   {
    "duration": 201,
    "start_time": "2025-03-09T21:46:27.815Z"
   },
   {
    "duration": 5,
    "start_time": "2025-03-09T21:46:28.018Z"
   },
   {
    "duration": 9,
    "start_time": "2025-03-09T21:46:28.025Z"
   },
   {
    "duration": 3,
    "start_time": "2025-03-09T21:46:28.037Z"
   },
   {
    "duration": 6,
    "start_time": "2025-03-09T21:46:28.042Z"
   },
   {
    "duration": 6,
    "start_time": "2025-03-09T21:46:28.050Z"
   },
   {
    "duration": 4,
    "start_time": "2025-03-09T21:46:28.058Z"
   },
   {
    "duration": 4,
    "start_time": "2025-03-09T21:46:28.064Z"
   },
   {
    "duration": 48,
    "start_time": "2025-03-09T21:46:28.069Z"
   },
   {
    "duration": 11,
    "start_time": "2025-03-09T21:46:28.119Z"
   },
   {
    "duration": 15,
    "start_time": "2025-03-09T21:46:28.132Z"
   },
   {
    "duration": 6,
    "start_time": "2025-03-09T21:46:28.148Z"
   },
   {
    "duration": 53,
    "start_time": "2025-03-09T21:46:28.156Z"
   },
   {
    "duration": 17,
    "start_time": "2025-03-09T21:46:28.211Z"
   },
   {
    "duration": 10,
    "start_time": "2025-03-09T21:46:28.230Z"
   },
   {
    "duration": 10,
    "start_time": "2025-03-09T21:46:28.242Z"
   },
   {
    "duration": 3,
    "start_time": "2025-03-09T21:46:39.221Z"
   },
   {
    "duration": 9,
    "start_time": "2025-03-09T21:46:47.888Z"
   },
   {
    "duration": 6,
    "start_time": "2025-03-09T21:47:00.677Z"
   },
   {
    "duration": 13,
    "start_time": "2025-03-09T21:47:03.412Z"
   },
   {
    "duration": 11,
    "start_time": "2025-03-09T21:47:06.938Z"
   },
   {
    "duration": 11,
    "start_time": "2025-03-09T21:47:11.249Z"
   },
   {
    "duration": 233,
    "start_time": "2025-03-09T21:47:15.107Z"
   },
   {
    "duration": 1222,
    "start_time": "2025-03-09T21:47:48.117Z"
   },
   {
    "duration": 200,
    "start_time": "2025-03-09T21:48:11.074Z"
   },
   {
    "duration": 233,
    "start_time": "2025-03-09T21:53:14.019Z"
   },
   {
    "duration": 289,
    "start_time": "2025-03-09T21:53:41.875Z"
   },
   {
    "duration": 244,
    "start_time": "2025-03-09T21:53:52.211Z"
   },
   {
    "duration": 172,
    "start_time": "2025-03-09T21:55:46.209Z"
   },
   {
    "duration": 236,
    "start_time": "2025-03-09T21:57:11.111Z"
   },
   {
    "duration": 282,
    "start_time": "2025-03-09T21:58:15.343Z"
   },
   {
    "duration": 330,
    "start_time": "2025-03-09T21:59:12.998Z"
   },
   {
    "duration": 338,
    "start_time": "2025-03-09T22:00:14.741Z"
   },
   {
    "duration": 487,
    "start_time": "2025-03-09T22:00:26.947Z"
   },
   {
    "duration": 328,
    "start_time": "2025-03-09T22:00:43.331Z"
   },
   {
    "duration": 314,
    "start_time": "2025-03-09T22:00:54.162Z"
   },
   {
    "duration": 271,
    "start_time": "2025-03-09T22:01:00.790Z"
   },
   {
    "duration": 267,
    "start_time": "2025-03-09T22:01:06.462Z"
   },
   {
    "duration": 275,
    "start_time": "2025-03-09T22:01:13.003Z"
   },
   {
    "duration": 298,
    "start_time": "2025-03-09T22:01:20.149Z"
   }
  ],
  "kernelspec": {
   "display_name": "Python 3 (ipykernel)",
   "language": "python",
   "name": "python3"
  },
  "language_info": {
   "codemirror_mode": {
    "name": "ipython",
    "version": 3
   },
   "file_extension": ".py",
   "mimetype": "text/x-python",
   "name": "python",
   "nbconvert_exporter": "python",
   "pygments_lexer": "ipython3",
   "version": "3.9.19"
  },
  "toc": {
   "base_numbering": 1,
   "nav_menu": {},
   "number_sections": true,
   "sideBar": true,
   "skip_h1_title": true,
   "title_cell": "Table of Contents",
   "title_sidebar": "Contents",
   "toc_cell": false,
   "toc_position": {},
   "toc_section_display": true,
   "toc_window_display": true
  }
 },
 "nbformat": 4,
 "nbformat_minor": 5
}
